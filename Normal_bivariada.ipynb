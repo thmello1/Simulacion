{
 "cells": [
  {
   "cell_type": "markdown",
   "id": "afbc2e44",
   "metadata": {},
   "source": [
    "# Clase 5: Ejemplo distribución Normal bi-variada"
   ]
  },
  {
   "cell_type": "markdown",
   "id": "fa1d7ed5",
   "metadata": {},
   "source": [
    "Prof. Tito Homem-de-Mello"
   ]
  },
  {
   "cell_type": "markdown",
   "id": "8321bdd2",
   "metadata": {},
   "source": [
    "## $X \\sim N(20,5),\\ Y \\sim N(30,8),\\ \\rho=0.5 \\Longrightarrow \\Sigma=\\begin{pmatrix} 25 & 20 \\\\ 20 & 64\\end{pmatrix}$"
   ]
  },
  {
   "cell_type": "code",
   "execution_count": null,
   "id": "66d6d0a1",
   "metadata": {},
   "outputs": [],
   "source": [
    "#install.packages('ggplot2')\n",
    "install.packages('mvtnorm')\n",
    "install.packages('data.table')\n"
   ]
  },
  {
   "cell_type": "code",
   "execution_count": null,
   "id": "e951aec4",
   "metadata": {},
   "outputs": [],
   "source": [
    "library(ggplot2)\n",
    "library(data.table)"
   ]
  },
  {
   "cell_type": "code",
   "execution_count": null,
   "id": "4adb7866",
   "metadata": {},
   "outputs": [],
   "source": [
    "mu <- matrix(c(20,30),nrow=2)\n",
    "Sigma <- matrix(c(25,20,20,64),nrow=2)  #Como visto en clase\n",
    "C <- chol(Sigma)\n",
    "C"
   ]
  },
  {
   "cell_type": "code",
   "execution_count": null,
   "id": "6a3d0c74",
   "metadata": {},
   "outputs": [],
   "source": [
    "\n",
    "\n",
    "\n",
    "\n",
    "\n",
    "\n",
    "\n",
    "\n",
    "\n",
    "\n",
    "\n",
    "\n"
   ]
  },
  {
   "cell_type": "markdown",
   "id": "05a13dca",
   "metadata": {},
   "source": [
    "### Verifiquemos si $C*C^T=\\Sigma$"
   ]
  },
  {
   "cell_type": "code",
   "execution_count": null,
   "id": "36c7f4e8",
   "metadata": {},
   "outputs": [],
   "source": [
    "C%*%t(C)   #En R el producto matricial se indica por %*%, t(C) es la matriz transpuesta  de C "
   ]
  },
  {
   "cell_type": "code",
   "execution_count": null,
   "id": "c3080660",
   "metadata": {},
   "outputs": [],
   "source": [
    "\n",
    "\n",
    "\n",
    "\n",
    "\n",
    "\n",
    "\n",
    "\n",
    "\n",
    "\n",
    "\n",
    "\n",
    "\n",
    "\n",
    "\n",
    "\n",
    "\n",
    "\n",
    "\n",
    "\n",
    "\n"
   ]
  },
  {
   "cell_type": "markdown",
   "id": "c6aa8b4c",
   "metadata": {},
   "source": [
    "### No es igual a $\\Sigma$! El problema es que la matriz $C$ es triangular SUPERIOR, no inferior como visto en clase."
   ]
  },
  {
   "cell_type": "markdown",
   "id": "ce24922b",
   "metadata": {},
   "source": [
    "### Tomemos la transpuesta de $C$ y re-calculemos"
   ]
  },
  {
   "cell_type": "code",
   "execution_count": null,
   "id": "92672902",
   "metadata": {},
   "outputs": [],
   "source": [
    "C <- t(C)\n",
    "C\n",
    "C%*%t(C)"
   ]
  },
  {
   "cell_type": "markdown",
   "id": "54543a63",
   "metadata": {},
   "source": [
    "### Generemos una muestra de $Z=(X,Y)$"
   ]
  },
  {
   "cell_type": "code",
   "execution_count": null,
   "id": "24bbab3c",
   "metadata": {},
   "outputs": [],
   "source": [
    "W <- matrix(rnorm(2,0,1),nrow=2)  \n",
    "Z <- mu + C%*%W\n",
    "Z"
   ]
  },
  {
   "cell_type": "code",
   "execution_count": null,
   "id": "a423e950",
   "metadata": {},
   "outputs": [],
   "source": [
    "\n",
    "\n",
    "\n",
    "\n",
    "\n",
    "\n",
    "\n",
    "\n",
    "\n",
    "\n",
    "\n"
   ]
  },
  {
   "cell_type": "markdown",
   "id": "6896ca46",
   "metadata": {},
   "source": [
    "### Generemos $N$ muestras de $Z$"
   ]
  },
  {
   "cell_type": "code",
   "execution_count": null,
   "id": "af0578cd",
   "metadata": {
    "scrolled": true
   },
   "outputs": [],
   "source": [
    "N <- 1000\n",
    "W <- matrix(rnorm(2*N,0,1),nrow=2) \n",
    "Z <- matrix(rep(mu,N),nrow=2) +C%*%W\n",
    "\n",
    "Zd <- data.table(t(Z))\n"
   ]
  },
  {
   "cell_type": "code",
   "execution_count": null,
   "id": "c5038057",
   "metadata": {},
   "outputs": [],
   "source": [
    "names(Zd) <- c(\"X\",\"Y\")\n",
    "head(Zd)"
   ]
  },
  {
   "cell_type": "markdown",
   "id": "779997ba",
   "metadata": {},
   "source": [
    "### Chequeemos estadísticas de la muestra"
   ]
  },
  {
   "cell_type": "code",
   "execution_count": null,
   "id": "9f4bc10d",
   "metadata": {
    "scrolled": true
   },
   "outputs": [],
   "source": [
    "muX <- mean(Zd$X)\n",
    "muY <- mean(Zd$Y)\n",
    "sX <- sd(Zd$X)\n",
    "sY <- sd(Zd$Y)\n",
    "rho_bar <- cor(Zd$X,Zd$Y)  #Correlacion entre las muestras de $X$ e $Y$\n",
    "sprintf(\"X: media=%5.2f, sd=%5.2f\", muX, sX)\n",
    "sprintf(\"Y: media=%5.2f, sd=%5.2f\", muY, sY)\n",
    "sprintf(\"Corr(X,Y)=%5.2f\",rho_bar)\n",
    "Sigma_bar <- matrix(c(sX^2,rho_bar*sX*sY,rho_bar*sX*sY,sY^2),nrow=2)\n",
    "sprintf(\"Matriz de covarianza estimada:\")\n",
    "Sigma_bar"
   ]
  },
  {
   "cell_type": "code",
   "execution_count": null,
   "id": "613a372f",
   "metadata": {},
   "outputs": [],
   "source": [
    "\n",
    "\n",
    "\n",
    "\n",
    "\n",
    "\n",
    "\n",
    "\n",
    "\n",
    "\n",
    "\n",
    "\n",
    "\n",
    "\n",
    "\n",
    "\n"
   ]
  },
  {
   "cell_type": "code",
   "execution_count": null,
   "id": "9c5c702d",
   "metadata": {},
   "outputs": [],
   "source": [
    "ggplot(Zd,aes(X,Y))+\n",
    "    geom_point()+\n",
    "    theme(plot.title = element_text(size = 20),\n",
    "          axis.title.y=element_text(size = 20),\n",
    "          axis.title.x=element_text(size = 20))+\n",
    "    labs(y=\"Y\",\n",
    "         x=\"X\",\n",
    "         title=\"Gráfico de muestras de Z=(X,Y)\")"
   ]
  },
  {
   "cell_type": "code",
   "execution_count": null,
   "id": "53db8cd4",
   "metadata": {},
   "outputs": [],
   "source": [
    "\n",
    "\n",
    "\n",
    "\n",
    "\n",
    "\n",
    "\n",
    "\n",
    "\n",
    "\n",
    "\n",
    "\n"
   ]
  },
  {
   "cell_type": "code",
   "execution_count": null,
   "id": "9bef6308",
   "metadata": {},
   "outputs": [],
   "source": [
    "ggplot(Zd,aes(X))+\n",
    "    geom_histogram(binwidth=4,color=\"black\", fill=\"gray\")+\n",
    "    theme(plot.title = element_text(size = 20))+\n",
    "    labs(title=\"Histograma de muestras de X\")\n",
    "\n",
    "ggplot(Zd,aes(Y))+\n",
    "    geom_histogram(binwidth=4,color=\"black\", fill=\"gray\")+\n",
    "    theme(plot.title = element_text(size = 20))+\n",
    "    labs(title=\"Histograma de muestras de Y\")"
   ]
  },
  {
   "cell_type": "markdown",
   "id": "68f12af9",
   "metadata": {},
   "source": [
    "### Comparemos las respectivas distribuciones acumuladas"
   ]
  },
  {
   "cell_type": "code",
   "execution_count": null,
   "id": "92f0a36c",
   "metadata": {},
   "outputs": [],
   "source": [
    "plotfig <- ggplot(Zd,aes(X,Y))+\n",
    "        theme(plot.title = element_text(size = 16),\n",
    "              axis.title.y=element_text(size = 20),\n",
    "              axis.title.x=element_text(size = 20))\n",
    "\n",
    "plotfig+geom_function(fun=ecdf(Zd[,X]), color=\"black\")+\n",
    "        geom_function(fun=pnorm,args=list(mu[1],sqrt(Sigma[1,1])),color=\"red\")+\n",
    "        xlim(10,40)+\n",
    "        labs(x=\"x\",y=\"F_N(x)\", title=\"Distr. empírica de X + curva Normal(20,5)\")\n",
    "                      \n",
    "plotfig+geom_function(fun=ecdf(Zd[,Y]), color=\"black\")+\n",
    "        geom_function(fun=pnorm,args=list(mu[2],sqrt(Sigma[2,2])),color=\"red\")+\n",
    "        xlim(0,60)+\n",
    "        labs(x=\"y\",y=\"F_N(y)\",\n",
    "        title=paste0(\"Distr. empírica de Y + curva Normal(30,8)\")) \n"
   ]
  },
  {
   "cell_type": "code",
   "execution_count": null,
   "id": "bf0dc22b",
   "metadata": {},
   "outputs": [],
   "source": [
    "\n",
    "\n",
    "\n",
    "\n",
    "\n",
    "\n",
    "\n",
    "\n",
    "\n",
    "\n",
    "\n",
    "\n",
    "\n",
    "\n",
    "\n",
    "\n"
   ]
  },
  {
   "cell_type": "markdown",
   "id": "3ac36831",
   "metadata": {},
   "source": [
    "### NOTA: En R hay una biblioteca que implementa el procedimiento descrito arriba. "
   ]
  },
  {
   "cell_type": "markdown",
   "id": "283f39e5",
   "metadata": {},
   "source": [
    "### A continuación se describe como generar las muestras de la Normal multivariada con esa biblioteca."
   ]
  },
  {
   "cell_type": "code",
   "execution_count": null,
   "id": "1f3e6545",
   "metadata": {},
   "outputs": [],
   "source": [
    "library(mvtnorm)\n",
    "\n",
    "Z <- rmvnorm(N, mu, Sigma)\n",
    "\n",
    "Zd <- data.table(Z)\n"
   ]
  }
 ],
 "metadata": {
  "kernelspec": {
   "display_name": "R",
   "language": "R",
   "name": "ir"
  },
  "language_info": {
   "codemirror_mode": "r",
   "file_extension": ".r",
   "mimetype": "text/x-r-source",
   "name": "R",
   "pygments_lexer": "r",
   "version": "4.2.1"
  },
  "toc": {
   "base_numbering": 1,
   "nav_menu": {},
   "number_sections": true,
   "sideBar": true,
   "skip_h1_title": false,
   "title_cell": "Table of Contents",
   "title_sidebar": "Contents",
   "toc_cell": false,
   "toc_position": {},
   "toc_section_display": true,
   "toc_window_display": false
  },
  "varInspector": {
   "cols": {
    "lenName": 16,
    "lenType": 16,
    "lenVar": 40
   },
   "kernels_config": {
    "python": {
     "delete_cmd_postfix": "",
     "delete_cmd_prefix": "del ",
     "library": "var_list.py",
     "varRefreshCmd": "print(var_dic_list())"
    },
    "r": {
     "delete_cmd_postfix": ") ",
     "delete_cmd_prefix": "rm(",
     "library": "var_list.r",
     "varRefreshCmd": "cat(var_dic_list()) "
    }
   },
   "types_to_exclude": [
    "module",
    "function",
    "builtin_function_or_method",
    "instance",
    "_Feature"
   ],
   "window_display": false
  }
 },
 "nbformat": 4,
 "nbformat_minor": 5
}
