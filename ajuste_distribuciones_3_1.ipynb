{
 "cells": [
  {
   "cell_type": "markdown",
   "id": "f80be1ec",
   "metadata": {
    "jp-MarkdownHeadingCollapsed": true,
    "tags": []
   },
   "source": [
    "# Clase 7: Ajustando distribuciones a los datos - casos especiales"
   ]
  },
  {
   "cell_type": "markdown",
   "id": "3e716e36",
   "metadata": {
    "slideshow": {
     "slide_type": "slide"
    },
    "tags": []
   },
   "source": [
    "Prof. Tito Homem-de-Mello"
   ]
  },
  {
   "cell_type": "code",
   "execution_count": null,
   "id": "a47fdc19",
   "metadata": {},
   "outputs": [],
   "source": [
    "#install.packages('fitdistrplus')\n",
    "#install.packages('gglot2')\n",
    "#install.packages('goft')"
   ]
  },
  {
   "cell_type": "code",
   "execution_count": null,
   "id": "41aefa5f",
   "metadata": {},
   "outputs": [],
   "source": [
    "library(fitdistrplus)\n",
    "library(ggplot2)\n",
    "library(goft)"
   ]
  },
  {
   "cell_type": "code",
   "execution_count": null,
   "id": "f4fca103",
   "metadata": {},
   "outputs": [],
   "source": [
    "plottheme <- theme(plot.title = element_text(size = 20),\n",
    "                  axis.title.y=element_text(size = 20),\n",
    "                  axis.title.x=element_text(size = 20),\n",
    "                  axis.text.y=element_text(size = 15),\n",
    "                  axis.text.x=element_text(size = 15),\n",
    "                  legend.title = element_blank(),\n",
    "                  legend.text = element_text(size=15),\n",
    "                  legend.position = \"bottom\")"
   ]
  },
  {
   "cell_type": "markdown",
   "id": "e05af000",
   "metadata": {},
   "source": [
    "## Miremos un ejemplo con datos de tiempos de preparación de platos"
   ]
  },
  {
   "cell_type": "code",
   "execution_count": null,
   "id": "8085d766",
   "metadata": {
    "tags": []
   },
   "outputs": [],
   "source": [
    "data <- read.csv(\"preparacion.csv\")\n",
    "head(data)"
   ]
  },
  {
   "cell_type": "code",
   "execution_count": null,
   "id": "2a989fc7",
   "metadata": {
    "tags": []
   },
   "outputs": [],
   "source": [
    "X <- data$Service.times"
   ]
  },
  {
   "cell_type": "code",
   "execution_count": null,
   "id": "96085774",
   "metadata": {},
   "outputs": [],
   "source": [
    "bin <- 1\n",
    "plotfig <- ggplot(data,aes(Service.times))+plottheme\n",
    " \n",
    "p <- plotfig+geom_histogram(aes(y = after_stat(count /(sum(count)))), binwidth=bin,color=\"black\", fill=\"gray\")+\n",
    "       labs(x=\"tiempo\",\n",
    "            y=\"frecuencia\",\n",
    "            title=paste0(\"Histograma de los datos\"))           \n",
    "p "
   ]
  },
  {
   "cell_type": "code",
   "execution_count": null,
   "id": "5e5db70f",
   "metadata": {},
   "outputs": [],
   "source": [
    "plotfig+geom_function(fun=ecdf(X), color=\"black\")+\n",
    "         xlim(4,20)+\n",
    "        labs(x=\"x\",y=\"F_N(x)\",\n",
    "             title=paste0(\"Distribución empírica de los datos\"))\n",
    "\n",
    "\n",
    "\n"
   ]
  },
  {
   "cell_type": "code",
   "execution_count": null,
   "id": "05da3c83",
   "metadata": {},
   "outputs": [],
   "source": [
    "descdist(X)"
   ]
  },
  {
   "cell_type": "code",
   "execution_count": null,
   "id": "ba5bafbf",
   "metadata": {},
   "outputs": [],
   "source": [
    "\n",
    "\n",
    "\n",
    "\n",
    "\n",
    "\n",
    "\n",
    "\n",
    "\n",
    "\n",
    "\n",
    "\n",
    "\n",
    "\n",
    "\n",
    "\n",
    "\n",
    "\n",
    "\n",
    "\n"
   ]
  },
  {
   "cell_type": "markdown",
   "id": "a40040ae",
   "metadata": {},
   "source": [
    "### Ajustemos algunas distribuciones teóricas"
   ]
  },
  {
   "cell_type": "code",
   "execution_count": null,
   "id": "a4fcf445",
   "metadata": {},
   "outputs": [],
   "source": [
    "a_norm <- fitdist(X, \"norm\")\n",
    "summary(a_norm)\n",
    "\n",
    "a_weib <- fitdist(X, \"weibull\")\n",
    "summary(a_weib)\n",
    "\n",
    "a_gamma <- fitdist(X, \"gamma\")\n",
    "summary(a_gamma)\n",
    "\n",
    "a_lnorm <- fitdist(X, \"lnorm\")\n",
    "summary(a_lnorm)\n",
    "\n",
    "plot.legend <- c(\"Normal\", \"Weibull\", \"Gamma\", \"Lognormal\")\n",
    "denscomp(list(a_norm,a_weib,a_gamma,a_lnorm), fitcol=c(2,4,6,1), fitlty=1, legendtext=plot.legend)"
   ]
  },
  {
   "cell_type": "markdown",
   "id": "62bc512f",
   "metadata": {},
   "source": [
    "## Determinemos la bondad de ajuste para las 4 distribuciones"
   ]
  },
  {
   "cell_type": "markdown",
   "id": "d47ad5fe",
   "metadata": {},
   "source": [
    "### Empecemos con el PP-Plot"
   ]
  },
  {
   "cell_type": "code",
   "execution_count": null,
   "id": "9f97fc79",
   "metadata": {
    "tags": []
   },
   "outputs": [],
   "source": [
    "ppcomp(list(a_norm,a_lnorm,a_gamma,a_weib))"
   ]
  },
  {
   "cell_type": "markdown",
   "id": "32bca02a",
   "metadata": {},
   "source": [
    "### Grafiquemos el QQ-Plot"
   ]
  },
  {
   "cell_type": "code",
   "execution_count": null,
   "id": "5699b585",
   "metadata": {},
   "outputs": [],
   "source": [
    "qqcomp(list(a_norm,a_lnorm,a_gamma,a_weib))"
   ]
  },
  {
   "cell_type": "code",
   "execution_count": null,
   "id": "e3260676",
   "metadata": {},
   "outputs": [],
   "source": [
    "\n",
    "\n",
    "\n",
    "\n",
    "\n",
    "\n",
    "\n",
    "\n",
    "\n",
    "\n",
    "\n",
    "\n",
    "\n",
    "\n"
   ]
  },
  {
   "cell_type": "markdown",
   "id": "5c9ed96c",
   "metadata": {},
   "source": [
    "## ¿Qué hacer?....\n",
    "\n",
    "\n",
    "\n",
    "\n",
    "\n",
    "\n",
    "\n",
    "\n"
   ]
  },
  {
   "cell_type": "code",
   "execution_count": null,
   "id": "dcc09138",
   "metadata": {},
   "outputs": [],
   "source": []
  }
 ],
 "metadata": {
  "kernelspec": {
   "display_name": "R",
   "language": "R",
   "name": "ir"
  },
  "language_info": {
   "codemirror_mode": "r",
   "file_extension": ".r",
   "mimetype": "text/x-r-source",
   "name": "R",
   "pygments_lexer": "r",
   "version": "3.6.3"
  },
  "toc": {
   "base_numbering": 1,
   "nav_menu": {},
   "number_sections": true,
   "sideBar": true,
   "skip_h1_title": false,
   "title_cell": "Table of Contents",
   "title_sidebar": "Contents",
   "toc_cell": false,
   "toc_position": {},
   "toc_section_display": true,
   "toc_window_display": false
  },
  "varInspector": {
   "cols": {
    "lenName": 16,
    "lenType": 16,
    "lenVar": 40
   },
   "kernels_config": {
    "python": {
     "delete_cmd_postfix": "",
     "delete_cmd_prefix": "del ",
     "library": "var_list.py",
     "varRefreshCmd": "print(var_dic_list())"
    },
    "r": {
     "delete_cmd_postfix": ") ",
     "delete_cmd_prefix": "rm(",
     "library": "var_list.r",
     "varRefreshCmd": "cat(var_dic_list()) "
    }
   },
   "position": {
    "height": "234px",
    "left": "1581px",
    "right": "20px",
    "top": "134px",
    "width": "415px"
   },
   "types_to_exclude": [
    "module",
    "function",
    "builtin_function_or_method",
    "instance",
    "_Feature"
   ],
   "window_display": true
  }
 },
 "nbformat": 4,
 "nbformat_minor": 5
}
