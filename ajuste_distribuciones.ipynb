{
 "cells": [
  {
   "cell_type": "markdown",
   "id": "f80be1ec",
   "metadata": {
    "jp-MarkdownHeadingCollapsed": true,
    "tags": []
   },
   "source": [
    "# Clase 6: Ajustando distribuciones a los datos, incluyendo bondad de ajuste"
   ]
  },
  {
   "cell_type": "markdown",
   "id": "3e716e36",
   "metadata": {
    "slideshow": {
     "slide_type": "slide"
    },
    "tags": []
   },
   "source": [
    "# Prof. Tito Homem-de-Mello"
   ]
  },
  {
   "cell_type": "code",
   "execution_count": null,
   "id": "a47fdc19",
   "metadata": {},
   "outputs": [],
   "source": [
    "#install.packages('fitdistrplus')"
   ]
  },
  {
   "cell_type": "code",
   "execution_count": null,
   "id": "41aefa5f",
   "metadata": {},
   "outputs": [],
   "source": [
    "library(fitdistrplus)"
   ]
  },
  {
   "cell_type": "markdown",
   "id": "e05af000",
   "metadata": {},
   "source": [
    "## Miremos un ejemplo con datos de ventas de diarios"
   ]
  },
  {
   "cell_type": "code",
   "execution_count": null,
   "id": "8085d766",
   "metadata": {
    "tags": []
   },
   "outputs": [],
   "source": [
    "data <- read.csv(\"diarios.csv\")\n",
    "head(data)"
   ]
  },
  {
   "cell_type": "code",
   "execution_count": null,
   "id": "2a989fc7",
   "metadata": {
    "tags": []
   },
   "outputs": [],
   "source": [
    "X <- data$Nro_diarios"
   ]
  },
  {
   "cell_type": "code",
   "execution_count": null,
   "id": "96085774",
   "metadata": {},
   "outputs": [],
   "source": [
    "hist(X)"
   ]
  },
  {
   "cell_type": "code",
   "execution_count": null,
   "id": "05da3c83",
   "metadata": {},
   "outputs": [],
   "source": [
    "descdist(X)"
   ]
  },
  {
   "cell_type": "markdown",
   "id": "a40040ae",
   "metadata": {},
   "source": [
    "### Ajustemos algunas distribuciones teóricas"
   ]
  },
  {
   "cell_type": "code",
   "execution_count": null,
   "id": "a4fcf445",
   "metadata": {},
   "outputs": [],
   "source": [
    "a_norm <- fitdist(X, \"norm\")\n",
    "summary(a_norm)\n",
    "\n",
    "a_weib <- fitdist(X, \"weibull\")\n",
    "summary(a_weib)\n",
    "\n",
    "a_gamma <- fitdist(X, \"gamma\")\n",
    "summary(a_gamma)\n",
    "\n",
    "a_lnorm <- fitdist(X, \"lnorm\")\n",
    "summary(a_lnorm)\n",
    "\n",
    "plot.legend <- c(\"Normal\", \"Weibull\", \"Gamma\", \"Lognormal\")\n",
    "denscomp(list(a_norm,a_weib,a_gamma,a_lnorm), fitcol=c(2,4,6,1), fitlty=1, legendtext=plot.legend)"
   ]
  },
  {
   "cell_type": "markdown",
   "id": "62bc512f",
   "metadata": {},
   "source": [
    "## Determinemos la bondad de ajuste para las 4 distribuciones"
   ]
  },
  {
   "cell_type": "markdown",
   "id": "d47ad5fe",
   "metadata": {},
   "source": [
    "### Empecemos con el PP-Plot"
   ]
  },
  {
   "cell_type": "code",
   "execution_count": null,
   "id": "9f97fc79",
   "metadata": {
    "tags": []
   },
   "outputs": [],
   "source": [
    "ppcomp(a_norm)"
   ]
  },
  {
   "cell_type": "code",
   "execution_count": null,
   "id": "1513730b",
   "metadata": {},
   "outputs": [],
   "source": [
    "ppcomp(a_lnorm)"
   ]
  },
  {
   "cell_type": "code",
   "execution_count": null,
   "id": "eeac161c",
   "metadata": {},
   "outputs": [],
   "source": [
    "ppcomp(a_gamma)"
   ]
  },
  {
   "cell_type": "code",
   "execution_count": null,
   "id": "63b84cb5",
   "metadata": {},
   "outputs": [],
   "source": [
    "ppcomp(a_weib)"
   ]
  },
  {
   "cell_type": "markdown",
   "id": "32bca02a",
   "metadata": {},
   "source": [
    "### Grafiquemos el QQ-Plot"
   ]
  },
  {
   "cell_type": "code",
   "execution_count": null,
   "id": "5699b585",
   "metadata": {},
   "outputs": [],
   "source": [
    "qqcomp(a_norm)"
   ]
  },
  {
   "cell_type": "code",
   "execution_count": null,
   "id": "7c0ecb26",
   "metadata": {},
   "outputs": [],
   "source": [
    "qqcomp(a_lnorm)"
   ]
  },
  {
   "cell_type": "code",
   "execution_count": null,
   "id": "f506515b",
   "metadata": {},
   "outputs": [],
   "source": [
    "qqcomp(a_gamma)"
   ]
  },
  {
   "cell_type": "code",
   "execution_count": null,
   "id": "7cd349a0",
   "metadata": {},
   "outputs": [],
   "source": [
    "qqcomp(a_weib)"
   ]
  },
  {
   "cell_type": "markdown",
   "id": "3e82215b",
   "metadata": {},
   "source": [
    "## Ahora veamos los tests estadísticos"
   ]
  },
  {
   "cell_type": "code",
   "execution_count": null,
   "id": "d8137763",
   "metadata": {},
   "outputs": [],
   "source": [
    "gofval <- gofstat(list(a_norm,a_lnorm,a_gamma,a_weib),fitnames=c(\"norm\",\"lnorm\", \"gamma\", \"weib\"))\n",
    "gofval"
   ]
  },
  {
   "cell_type": "markdown",
   "id": "36ae6ba0",
   "metadata": {},
   "source": [
    "### Valores-$p$ para test chi-cuadrado"
   ]
  },
  {
   "cell_type": "code",
   "execution_count": null,
   "id": "cedc168d",
   "metadata": {},
   "outputs": [],
   "source": [
    "pvalue <- data.frame(Estadistica=\"Valor-p\",Normal=gofval$chisqpvalue[\"norm\"],\n",
    "                     Lognormal=gofval$chisqpvalue[\"lnorm\"],Gamma=gofval$chisqpvalue[\"gamma\"],\n",
    "                     Weibull=gofval$chisqpvalue[\"weib\"])     \n",
    "pvalue"
   ]
  },
  {
   "cell_type": "code",
   "execution_count": null,
   "id": "a93d1cfd",
   "metadata": {},
   "outputs": [],
   "source": [
    "\n",
    "\n",
    "\n",
    "\n",
    "\n",
    "\n",
    "\n",
    "\n",
    "\n",
    "\n",
    "\n",
    "\n",
    "\n",
    "\n",
    "\n",
    "\n"
   ]
  },
  {
   "cell_type": "markdown",
   "id": "d7ba2c8b",
   "metadata": {},
   "source": [
    "### No es sencillo calcular los valores-$p$ para los otros tests. Sin embargo, podemos acceder a los tests implementados en la librería \"goft\", descritos en https://www.rdocumentation.org/packages/goft/versions/1.3.6\n",
    "\n",
    "#### E. González-Estrada & J. A. Villaseñor (2018) An R package for testing goodness of fit: goft, Journal of Statistical Computation and Simulation, 88:4, 726-751, DOI: 10.1080/00949655.2017.1404604"
   ]
  },
  {
   "cell_type": "code",
   "execution_count": null,
   "id": "a0c9cbfd",
   "metadata": {},
   "outputs": [],
   "source": [
    "install.packages('sn')\n",
    "install.packages('goft')\n",
    "\n",
    "library(goft)"
   ]
  },
  {
   "cell_type": "code",
   "execution_count": null,
   "id": "b5f8e895",
   "metadata": {},
   "outputs": [],
   "source": [
    "ntest <- shapiro.test(X) #normal_test(X) #Use shapiro.test(X) si el nro. de datos no está entre 10 y 400\n",
    "ltest <- lnorm_test(X)\n",
    "gtest <- gamma_test(X)\n",
    "wtest <- weibull_test(X)"
   ]
  },
  {
   "cell_type": "code",
   "execution_count": null,
   "id": "283a0e97",
   "metadata": {},
   "outputs": [],
   "source": [
    "pvalue<-data.frame(Estadistica=\"Valor-p\",Normal=ntest$p.value,\n",
    "                   Lognormal=ltest$p.value,Gamma=gtest$p.value,Weibull=wtest$p.value)     \n",
    "pvalue"
   ]
  },
  {
   "cell_type": "markdown",
   "id": "491caabb",
   "metadata": {},
   "source": [
    "## Generemos muestras de la distribución elegida"
   ]
  },
  {
   "cell_type": "markdown",
   "id": "8c94fffd",
   "metadata": {},
   "source": [
    "### Parametros de la LogNormal"
   ]
  },
  {
   "cell_type": "code",
   "execution_count": null,
   "id": "970a7514",
   "metadata": {},
   "outputs": [],
   "source": [
    "meanlog <- a_lnorm$estimate[1]\n",
    "sdlog <- a_lnorm$estimate[2]\n",
    "length(X)"
   ]
  },
  {
   "cell_type": "markdown",
   "id": "439546b4",
   "metadata": {},
   "source": [
    "### Generador de la distribución"
   ]
  },
  {
   "cell_type": "code",
   "execution_count": null,
   "id": "9d0c3747",
   "metadata": {},
   "outputs": [],
   "source": [
    "Z <- rlnorm(1000,meanlog,sdlog)\n",
    "hist(Z)"
   ]
  },
  {
   "cell_type": "markdown",
   "id": "3d13ac7e",
   "metadata": {},
   "source": [
    "### Comparemos las distribuciones empíricas de los datos originales y los simulados"
   ]
  },
  {
   "cell_type": "code",
   "execution_count": null,
   "id": "3d965667",
   "metadata": {},
   "outputs": [],
   "source": [
    "hist(X)"
   ]
  },
  {
   "cell_type": "code",
   "execution_count": null,
   "id": "fcae77f2",
   "metadata": {},
   "outputs": [],
   "source": [
    "leg<-c(\"Datos\",\"Simulada\")\n",
    "color=c(2,4)\n",
    "eX<-ecdf(X)\n",
    "eZ<-ecdf(Z)\n",
    "\n",
    "plot(eX, ylab=\"Fn(x)\", main=\"Distribución empirica\",col=color[1], verticals = TRUE,do.points=FALSE,xlim=c(min(X),max(X)))\n",
    "legend(0.75*max(X),0.1, leg[1], col=color[1], lty=1)\n",
    "\n",
    "par(new=T)\n",
    "plot(eZ, ylab=\"Fn(x)\", main=\"Distribución empirica\",col=color[2],verticals = TRUE,do.points=FALSE,xlim=c(min(X),max(X)))\n",
    "legend(0.75*max(X),0.3, leg[2],  col=color[2], lty=1)\n"
   ]
  },
  {
   "cell_type": "code",
   "execution_count": null,
   "id": "e4d1ee3b",
   "metadata": {},
   "outputs": [],
   "source": [
    "\n",
    "\n",
    "\n",
    "\n",
    "\n",
    "\n",
    "\n",
    "\n",
    "\n",
    "\n"
   ]
  },
  {
   "cell_type": "markdown",
   "id": "66636002",
   "metadata": {},
   "source": [
    "## NOTA: Hay que tener cuidado al utilizar los tests de bondad de ajuste. \n",
    "\n",
    "## Veamos por ejemplo el archivo de vinos visto en la clase pasada:"
   ]
  },
  {
   "cell_type": "markdown",
   "id": "8396ba5c",
   "metadata": {},
   "source": [
    "### Antes de correr el ejemplo, utilice la opción \"Restart kernel & clear output\" para limpar el workspace"
   ]
  },
  {
   "cell_type": "code",
   "execution_count": null,
   "id": "d4e1705a",
   "metadata": {},
   "outputs": [],
   "source": [
    "data <- read.csv(\"winequality-red.csv\")\n",
    "head(data)"
   ]
  },
  {
   "cell_type": "code",
   "execution_count": null,
   "id": "0b66c19c",
   "metadata": {},
   "outputs": [],
   "source": [
    "X <- data$'fixed.acidity'\n",
    "\n",
    "library(fitdistrplus)"
   ]
  },
  {
   "cell_type": "markdown",
   "id": "dc390191",
   "metadata": {},
   "source": [
    "### Volver al inicio del notebook, a partir del histograma de X"
   ]
  }
 ],
 "metadata": {
  "kernelspec": {
   "display_name": "R",
   "language": "R",
   "name": "ir"
  },
  "language_info": {
   "codemirror_mode": "r",
   "file_extension": ".r",
   "mimetype": "text/x-r-source",
   "name": "R",
   "pygments_lexer": "r",
   "version": "3.6.3"
  },
  "toc": {
   "base_numbering": 1,
   "nav_menu": {},
   "number_sections": true,
   "sideBar": true,
   "skip_h1_title": false,
   "title_cell": "Table of Contents",
   "title_sidebar": "Contents",
   "toc_cell": false,
   "toc_position": {},
   "toc_section_display": true,
   "toc_window_display": false
  },
  "varInspector": {
   "cols": {
    "lenName": 16,
    "lenType": 16,
    "lenVar": 40
   },
   "kernels_config": {
    "python": {
     "delete_cmd_postfix": "",
     "delete_cmd_prefix": "del ",
     "library": "var_list.py",
     "varRefreshCmd": "print(var_dic_list())"
    },
    "r": {
     "delete_cmd_postfix": ") ",
     "delete_cmd_prefix": "rm(",
     "library": "var_list.r",
     "varRefreshCmd": "cat(var_dic_list()) "
    }
   },
   "types_to_exclude": [
    "module",
    "function",
    "builtin_function_or_method",
    "instance",
    "_Feature"
   ],
   "window_display": false
  }
 },
 "nbformat": 4,
 "nbformat_minor": 5
}
