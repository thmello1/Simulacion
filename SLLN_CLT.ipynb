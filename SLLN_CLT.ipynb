{
 "cells": [
  {
   "cell_type": "markdown",
   "id": "bda2bf27",
   "metadata": {
    "slideshow": {
     "slide_type": "slide"
    }
   },
   "source": [
    "# Clase 3: Ilustración del Teorema del Límite Central "
   ]
  },
  {
   "cell_type": "markdown",
   "id": "32979531",
   "metadata": {},
   "source": [
    "Prof. Tito Homem-de-Mello"
   ]
  },
  {
   "cell_type": "markdown",
   "id": "c2754a00",
   "metadata": {},
   "source": [
    "## Tomaremos como ejemplo 100 lanzamientos de un dado de 6 caras"
   ]
  },
  {
   "cell_type": "markdown",
   "id": "cf90b160",
   "metadata": {
    "slideshow": {
     "slide_type": "slide"
    }
   },
   "source": [
    "### Primero, carguemos algunas bibliotecas necesarias"
   ]
  },
  {
   "cell_type": "code",
   "execution_count": null,
   "id": "ca41255d",
   "metadata": {},
   "outputs": [],
   "source": [
    "#install.packages('tidyr')\n",
    "#install.packages('ggplot2')"
   ]
  },
  {
   "cell_type": "code",
   "execution_count": null,
   "id": "85f47879",
   "metadata": {
    "slideshow": {
     "slide_type": "slide"
    }
   },
   "outputs": [],
   "source": [
    "library(stats)\n",
    "library(purrr)\n",
    "library(tidyr)\n",
    "library(ggplot2)"
   ]
  },
  {
   "cell_type": "markdown",
   "id": "3f49b9cf",
   "metadata": {
    "slideshow": {
     "slide_type": "slide"
    }
   },
   "source": [
    "### Calculemos medias de $n$ lanzamientos, $n=1,\\ldots,100$"
   ]
  },
  {
   "cell_type": "code",
   "execution_count": null,
   "id": "df1a089b",
   "metadata": {
    "slideshow": {
     "slide_type": "slide"
    }
   },
   "outputs": [],
   "source": [
    "mu <- mean(1:6) #Verdadera media\n",
    "sigma <- sd(1:6) #verdadera desviacion estandar\n",
    "N <- 100 #Nro. de lanzamientos \n",
    "medias <- vector(\"double\",N)  #Inicialización\n",
    "sN <- vector(\"double\",N) \n",
    "\n",
    "u <- rdunif(N,1,6) #Sortea N muestras de una Uniforme(1,2,...6)\n",
    "medias <- cumsum(u) / 1:N #Calcula media de los primeros n elementos, n=1,...N\n"
   ]
  },
  {
   "cell_type": "markdown",
   "id": "326371ad",
   "metadata": {
    "slideshow": {
     "slide_type": "slide"
    }
   },
   "source": [
    "### Gráfico de las medias"
   ]
  },
  {
   "cell_type": "code",
   "execution_count": null,
   "id": "a3cb910b",
   "metadata": {
    "slideshow": {
     "slide_type": "slide"
    }
   },
   "outputs": [],
   "source": [
    "medias_df <- as.data.frame(medias)\n",
    "medias_df$n <- 1:N\n",
    "ggplot(medias_df, aes(n,medias)) +\n",
    "        theme(plot.title = element_text(size = 25),\n",
    "              axis.title.y=element_text(size = 20),\n",
    "              axis.title.x=element_text(size = 20))+\n",
    "        geom_line()+\n",
    "        labs(y=\"Medias de los primeros n valores\",\n",
    "             title=\"Gráfico de medias\")"
   ]
  },
  {
   "cell_type": "markdown",
   "id": "d919251e",
   "metadata": {},
   "source": [
    "### Pero ese es apenas 1 experimento! Repitámoslo más veces"
   ]
  },
  {
   "cell_type": "code",
   "execution_count": null,
   "id": "84a0152a",
   "metadata": {},
   "outputs": [],
   "source": [
    "nrep <- 200 #2,5,50,200\n",
    "{\n",
    "  medias_rep <- array(rep(0,nrep*N),dim=c(N,nrep))\n",
    "\n",
    "  for (r in 1:nrep)\n",
    "  {\n",
    "    u <- rdunif(N,1,6)\n",
    "    medias_rep[,r] <- cumsum(u) / 1:N \n",
    "    sN[r] <- sd(u)\n",
    "  }\n",
    "    \n",
    "    medias_df <- as.data.frame(medias_rep)\n",
    "    medias_df$n <- 1:N\n",
    "    plotdata <- medias_df %>% tidyr::gather(\"rep\", \"media\", 1:nrep) \n",
    "    ggplot(plotdata, aes(n,media,group=rep,color=rep)) +\n",
    "        geom_line(show.legend = F)+\n",
    "        theme(plot.title = element_text(size = 25),\n",
    "              axis.title.y=element_text(size = 20),\n",
    "              axis.title.x=element_text(size = 20))+\n",
    "        labs(y=\"Medias de los primeros n valores\",\n",
    "             title=paste0(\"Gráfico de medias para \",nrep,\" repeticiones\"))\n",
    "}\n"
   ]
  },
  {
   "cell_type": "markdown",
   "id": "d318638f",
   "metadata": {},
   "source": [
    "# 2. Ilustración del Teorema del Límite Central \n",
    "\n"
   ]
  },
  {
   "cell_type": "markdown",
   "id": "9043b04f",
   "metadata": {},
   "source": [
    "### Veamos un histograma (respecto de las repeticiones) de las medias correspondientes a $N$ muestras"
   ]
  },
  {
   "cell_type": "code",
   "execution_count": null,
   "id": "b9a425e9",
   "metadata": {},
   "outputs": [],
   "source": [
    "ggplot(subset.data.frame(plotdata,n==N), aes(media)) +\n",
    "        geom_histogram(aes(y = after_stat(count / sum(count))), binwidth=0.1, color=\"black\", fill=\"gray\")+\n",
    "        theme(plot.title = element_text(size = 20),\n",
    "              axis.title.y=element_text(size = 20),\n",
    "              axis.title.x=element_text(size = 20))+\n",
    "       labs(x=\"media\",\n",
    "            y=\"frecuencia\",\n",
    "            title=paste0(\"Histograma de las \",nrep,\" repeticiones con N=\",N))\n"
   ]
  },
  {
   "cell_type": "code",
   "execution_count": null,
   "id": "a1b8473f",
   "metadata": {},
   "outputs": [],
   "source": [
    "\n",
    "\n",
    "\n",
    "\n",
    "\n",
    "\n",
    "\n",
    "\n",
    "\n",
    "\n",
    "\n",
    "\n",
    "\n",
    "\n",
    "\n",
    "\n",
    "\n",
    "\n",
    "\n",
    "\n",
    "\n",
    "\n",
    "\n",
    "\n",
    "\n"
   ]
  },
  {
   "cell_type": "markdown",
   "id": "dc2dca23",
   "metadata": {},
   "source": [
    "\n",
    "\n",
    "\n",
    "\n",
    "\n",
    "\n",
    "\n",
    "\n",
    "\n",
    "\n",
    "\n",
    "\n",
    "\n",
    "\n",
    "### Chequeemos la cobertura de los intervalos de confianza"
   ]
  },
  {
   "cell_type": "code",
   "execution_count": null,
   "id": "a00a4b46",
   "metadata": {},
   "outputs": [],
   "source": [
    "nrep <- 200 #50\n",
    "lower<-vector(\"double\",nrep)\n",
    "upper<-vector(\"double\",nrep)\n",
    "\n",
    "for (r in 1:nrep)\n",
    "{\n",
    "  lower[r]<-medias_rep[N,r]-1.96*sN[r]/sqrt(N)\n",
    "  upper[r]<-medias_rep[N,r]+1.96*sN[r]/sqrt(N)\n",
    "}\n",
    "low <- data.frame(t(lower))\n",
    "up <- data.frame(t(upper))\n",
    "names(low) <- 1:nrep\n",
    "names(up) <- 1:nrep\n",
    "inter <- rbind(low,up)\n",
    "inter_table <- inter %>% tidyr::gather(\"rep\", \"intervalo\", 1:nrep) \n",
    "\n",
    "plotfig <- ggplot(mapping=aes(intervalo,rep))+\n",
    "              geom_line(data=inter_table)+\n",
    "              theme(axis.text.y=element_blank())+\n",
    "              theme(plot.title = element_text(size = 18),\n",
    "                    axis.title.y=element_text(size = 20),\n",
    "                    axis.title.x=element_text(size = 20))+\n",
    "              labs(title=paste0(\"Intervalos de confianza para \",nrep,\" repeticiones con N=\",N))\n",
    "plotfig\n",
    "\n"
   ]
  },
  {
   "cell_type": "markdown",
   "id": "1207808b",
   "metadata": {},
   "source": [
    "### Seleccionamos intervalos que no cubren mu\n"
   ]
  },
  {
   "cell_type": "code",
   "execution_count": null,
   "id": "d681c5fe",
   "metadata": {},
   "outputs": [],
   "source": [
    "inter_out <- c()\n",
    "rp <- 1:nrep\n",
    "outint <- rp[lower>mu | upper<mu]\n",
    "for (r in 1:length(outint))\n",
    "{\n",
    "  inter_out <- rbind(inter_out,subset.data.frame(inter_table,rep==outint[r]))\n",
    "}\n",
    "\n",
    "newrow1 <- data.frame(rep=1,intervalo=mu)\n",
    "newrow2 <- data.frame(rep=nrep,intervalo=mu)\n",
    "vert <- rbind(newrow1,newrow2)   #linea vertical en mu\n",
    "\n",
    "\n",
    "plotfig+\n",
    "  geom_line(data=vert,color=\"blue\")+\n",
    "  geom_line(data=inter_out,color=\"red\")\n",
    "#  "
   ]
  },
  {
   "cell_type": "code",
   "execution_count": null,
   "id": "989c14e9",
   "metadata": {},
   "outputs": [],
   "source": [
    "\n",
    "\n",
    "\n",
    "\n",
    "\n",
    "\n",
    "\n",
    "\n",
    "\n",
    "\n",
    "\n",
    "\n",
    "\n",
    "\n",
    "\n",
    "\n",
    "\n",
    "\n",
    "\n",
    "\n",
    "\n",
    "\n",
    "\n",
    "\n"
   ]
  },
  {
   "cell_type": "markdown",
   "id": "502a7a36",
   "metadata": {},
   "source": [
    "### Ilustrando convergencia en distribución"
   ]
  },
  {
   "cell_type": "code",
   "execution_count": null,
   "id": "46467a4b",
   "metadata": {
    "scrolled": true
   },
   "outputs": [],
   "source": [
    "for (N in c(5,10,20,50,100)){\n",
    "unorm<-sqrt(N)*(medias_rep[N,]-mu)/sigma\n",
    "   \n",
    "title=paste0(\"Gráfico distribución acumulada para N=\",N)\n",
    "plot(function(p) pnorm(p,mean=0,sd=1),-3,3,main=title,ylab=\"F_n(x)\",col=2)\n",
    "plot(ecdf(unorm), ylab=\"Fn(x)\", verticals = TRUE,do.points=FALSE,add=T)}"
   ]
  },
  {
   "cell_type": "code",
   "execution_count": null,
   "id": "9b3c70c5",
   "metadata": {},
   "outputs": [],
   "source": []
  }
 ],
 "metadata": {
  "kernelspec": {
   "display_name": "R",
   "language": "R",
   "name": "ir"
  },
  "language_info": {
   "codemirror_mode": "r",
   "file_extension": ".r",
   "mimetype": "text/x-r-source",
   "name": "R",
   "pygments_lexer": "r",
   "version": "4.2.1"
  },
  "toc": {
   "base_numbering": 1,
   "nav_menu": {},
   "number_sections": true,
   "sideBar": true,
   "skip_h1_title": false,
   "title_cell": "Table of Contents",
   "title_sidebar": "Contents",
   "toc_cell": false,
   "toc_position": {},
   "toc_section_display": true,
   "toc_window_display": false
  },
  "varInspector": {
   "cols": {
    "lenName": 16,
    "lenType": 16,
    "lenVar": 40
   },
   "kernels_config": {
    "python": {
     "delete_cmd_postfix": "",
     "delete_cmd_prefix": "del ",
     "library": "var_list.py",
     "varRefreshCmd": "print(var_dic_list())"
    },
    "r": {
     "delete_cmd_postfix": ") ",
     "delete_cmd_prefix": "rm(",
     "library": "var_list.r",
     "varRefreshCmd": "cat(var_dic_list()) "
    }
   },
   "types_to_exclude": [
    "module",
    "function",
    "builtin_function_or_method",
    "instance",
    "_Feature"
   ],
   "window_display": false
  }
 },
 "nbformat": 4,
 "nbformat_minor": 5
}
