{
 "cells": [
  {
   "cell_type": "markdown",
   "id": "63734299",
   "metadata": {},
   "source": [
    "# Clase 14: Optimización modelo de inventarios"
   ]
  },
  {
   "cell_type": "markdown",
   "id": "f5ea0cb5",
   "metadata": {},
   "source": [
    " Prof. Tito Homem-de-Mello"
   ]
  },
  {
   "cell_type": "code",
   "execution_count": null,
   "id": "b953e8aa",
   "metadata": {},
   "outputs": [],
   "source": [
    "install.packages('ROI')\n",
    "install.packages('ROI.plugin.lpsolve')\n",
    "install.packages('ompr')\n",
    "install.packages('ompr.roi')\n",
    "install.packages('purrr')\n",
    "install.packages('tidyr')\n",
    "#install.packages('vctrs')\n",
    "install.packages('ggplot2')"
   ]
  },
  {
   "cell_type": "code",
   "execution_count": null,
   "id": "abd61174",
   "metadata": {},
   "outputs": [],
   "source": [
    "library(dplyr)\n",
    "library(ROI)\n",
    "library(ROI.plugin.lpsolve) \n",
    "library(ompr)\n",
    "library(ompr.roi)\n",
    "library(purrr)\n",
    "library(tidyr)\n",
    "#library(vctrs)\n",
    "library(ggplot2)"
   ]
  },
  {
   "cell_type": "code",
   "execution_count": null,
   "id": "a434ec2d",
   "metadata": {},
   "outputs": [],
   "source": [
    "#Ajustes para gráficos via ggplot\n",
    "mytheme <- theme(plot.title = element_text(size = 20),\n",
    "                    axis.title.y=element_text(size = 20),\n",
    "                    axis.text.y=element_text(size = 15),\n",
    "                    axis.title.x=element_text(size = 20),\n",
    "                    axis.text.x=element_text(size = 15),\n",
    "                    legend.position=\"bottom\",\n",
    "                    legend.text=element_text(size = 15),\n",
    "                    legend.title=element_text(size = 15))"
   ]
  },
  {
   "cell_type": "markdown",
   "id": "eeb7048e",
   "metadata": {},
   "source": [
    "### Parámetros del modelo:"
   ]
  },
  {
   "cell_type": "code",
   "execution_count": null,
   "id": "3dbc993c",
   "metadata": {},
   "outputs": [],
   "source": [
    "r <- 300   #Precio de compra\n",
    "v <- 1500  #Precio de venta\n",
    "h <- r     #Costo inventario\n",
    "q <- v     #Costo quiebre de inventario"
   ]
  },
  {
   "cell_type": "markdown",
   "id": "fa0d1094",
   "metadata": {},
   "source": [
    "### Queremos resolver inicialmente el problema\n",
    "### $\\max_{s\\geq 0}⁡ \\frac{1}{2}  \\left(U(s,D_1)+U(s,D_2)\\right)$\n",
    "\n",
    "### donde\n",
    "### $U(s,D)=−[h∗\\max (s-D,0)+q∗\\max (D-s,0)]+ (v-r)∗D$"
   ]
  },
  {
   "cell_type": "markdown",
   "id": "0d59da23",
   "metadata": {},
   "source": [
    "### Para ello vamos a resolver el problema \n",
    "### $\\min \\frac{1}{2}  \\left[h∗\\max (s-D_1,0)+q∗\\max (D_1-s,0)+ h∗\\max (s-D_2,0)+q∗\\max (D_2-s,0)\\right]$"
   ]
  },
  {
   "cell_type": "code",
   "execution_count": null,
   "id": "28400008",
   "metadata": {},
   "outputs": [],
   "source": [
    "\n",
    "\n",
    "\n",
    "\n"
   ]
  },
  {
   "cell_type": "markdown",
   "id": "9bf0c895",
   "metadata": {},
   "source": [
    "### Generemos las muestras de demanda $D_1$ y $D_2$ :"
   ]
  },
  {
   "cell_type": "code",
   "execution_count": null,
   "id": "e9dfd140",
   "metadata": {},
   "outputs": [],
   "source": [
    "D1 <- rdunif(1,400,100)\n",
    "D2 <- rdunif(1,400,100)"
   ]
  },
  {
   "cell_type": "markdown",
   "id": "bad8637d",
   "metadata": {},
   "source": [
    "### El modelo de optimización lineal:\n",
    "### $\\min \\ \\frac{1}{2} \\left(h∗z_o^1+q∗z_u^1+h∗z_o^2+q∗z_u^2\\right)$\n",
    "###  $\\begin{align*}\n",
    "        \\text{t.q.} \\ \\ \\ z_o^k & \\geq s−D_k && k=1,2 \\\\\n",
    "\t\t z_o^k & \\geq 0 && k=1,2\\\\\n",
    "\t\t z_u^k & \\geq D_k-s && k=1,2\\\\\n",
    "\t\t z_u^k & \\geq 0 && k=1,2\\\\\n",
    "\t\t   s& \\geq 0\n",
    "            \\end{align*}$\n"
   ]
  },
  {
   "cell_type": "code",
   "execution_count": null,
   "id": "554aad03",
   "metadata": {},
   "outputs": [],
   "source": [
    "result <- MILPModel() %>%\n",
    "  add_variable(zo1, type = \"continuous\", lb = 0) %>%\n",
    "  add_variable(zu1, type = \"continuous\", lb = 0)  %>%\n",
    "  add_variable(zo2, type = \"continuous\", lb = 0) %>%\n",
    "  add_variable(zu2, type = \"continuous\", lb = 0)  %>%\n",
    "  add_variable(s, type = \"continuous\", lb = 0)  %>%\n",
    "  set_objective((1/2)*(h*zo1 + q*zu1 + h*zo2 + q*zu2), \"min\") %>%\n",
    "  add_constraint(zo1 - s >= -D1) %>%\n",
    "  add_constraint(zu1 + s >= D1) %>%\n",
    "  add_constraint(zo2 - s >= -D2) %>%\n",
    "  add_constraint(zu2 + s >= D2) %>%\n",
    "  solve_model(with_ROI(solver = \"lpsolve\")) "
   ]
  },
  {
   "cell_type": "code",
   "execution_count": null,
   "id": "abc51cbf",
   "metadata": {},
   "outputs": [],
   "source": [
    "\n",
    "\n",
    "\n",
    "\n",
    "\n",
    "\n",
    "\n",
    "\n"
   ]
  },
  {
   "cell_type": "markdown",
   "id": "b012b3b0",
   "metadata": {},
   "source": [
    "### Veamos los resultados!\n",
    "### Reportamos\n",
    "### $\\frac{1}{2}\\left((v-r)*D_1 + (v-r)*D_2\\right) -  f^*$,\n",
    "### donde $f^*$ es es valor óptimo del PL."
   ]
  },
  {
   "cell_type": "code",
   "execution_count": null,
   "id": "f4ba7b24",
   "metadata": {},
   "outputs": [],
   "source": [
    "paste0(\"D1=\",D1,\", D2=\",D2)\n",
    "cat(sprintf(\"Solución óptima = %4.1f\\n\",get_solution(result, s)))\n",
    "cat(sprintf(\"Valor óptimo = %7.1f\\n\",((v-r)*D1+(v-r)*D2)/2-objective_value(result)))"
   ]
  },
  {
   "cell_type": "code",
   "execution_count": null,
   "id": "619ad4de",
   "metadata": {},
   "outputs": [],
   "source": [
    "\n",
    "\n",
    "\n",
    "\n",
    "\n",
    "\n",
    "\n",
    "\n",
    "\n",
    "\n",
    "\n"
   ]
  },
  {
   "cell_type": "markdown",
   "id": "07ef1658",
   "metadata": {},
   "source": [
    "## Veamos ahora el caso general con *N muestras*. \n"
   ]
  },
  {
   "cell_type": "markdown",
   "id": "46712501",
   "metadata": {},
   "source": [
    "### Queremos resolver\n",
    "### $\\max_{s\\geq 0}⁡ \\frac{1}{N} \\sum_{n=1}^N U(s,D_n)$\n",
    "\n",
    "### donde\n",
    "### $U(s,D)=−[h∗\\max (s-D,0)+q∗\\max (D-s,0)]+ (v-r)∗D$"
   ]
  },
  {
   "cell_type": "markdown",
   "id": "bccc1765",
   "metadata": {},
   "source": [
    "### Primero generamos $N=100$ muestras de la demanda:"
   ]
  },
  {
   "cell_type": "code",
   "execution_count": null,
   "id": "51f22add",
   "metadata": {},
   "outputs": [],
   "source": [
    "N <- 100\n",
    "D <- rdunif(N,400,100)\n",
    "summary(D)"
   ]
  },
  {
   "cell_type": "markdown",
   "id": "8d0207df",
   "metadata": {},
   "source": [
    "### El modelo de optimización lineal:"
   ]
  },
  {
   "cell_type": "code",
   "execution_count": null,
   "id": "937be998",
   "metadata": {},
   "outputs": [],
   "source": [
    "result <- MILPModel() %>%\n",
    "  add_variable(zo[i], i=1:N, type = \"continuous\", lb = 0) %>%\n",
    "  add_variable(zu[i], i=1:N, type = \"continuous\", lb = 0)  %>%\n",
    "  add_variable(s, type = \"continuous\", lb = 0)  %>%\n",
    "  set_objective((1/N)*sum_expr(h*zo[i] + q*zu[i], i=1:N), \"min\") %>%\n",
    "  add_constraint(zo[i] - s >= -D[i], i=1:N) %>%\n",
    "  add_constraint(zu[i] + s >= D[i], i=1:N) %>%\n",
    "  solve_model(with_ROI(solver = \"lpsolve\")) "
   ]
  },
  {
   "cell_type": "code",
   "execution_count": null,
   "id": "49b41e8f",
   "metadata": {},
   "outputs": [],
   "source": [
    "cat(sprintf(\"Solución óptima = %4.1f\\n\",get_solution(result, s)))\n",
    "cat(sprintf(\"Valor óptimo = %7.1f\\n\",(v-r)*mean(D)-objective_value(result)))\n"
   ]
  },
  {
   "cell_type": "markdown",
   "id": "264156cb",
   "metadata": {},
   "source": [
    "### Tenemos la solución óptima!"
   ]
  },
  {
   "cell_type": "code",
   "execution_count": null,
   "id": "fadda1d6",
   "metadata": {},
   "outputs": [],
   "source": [
    "\n",
    "\n",
    "\n",
    "\n",
    "\n",
    "\n",
    "\n",
    "\n"
   ]
  },
  {
   "cell_type": "markdown",
   "id": "91d3adbe",
   "metadata": {},
   "source": [
    "### Pero recordemos que ese resultado es para *1 experimento*.\n",
    "\n",
    "\n",
    "### ¿Qué pasa cuando hacemos otros experimentos?"
   ]
  },
  {
   "cell_type": "code",
   "execution_count": null,
   "id": "a8e5b09d",
   "metadata": {},
   "outputs": [],
   "source": [
    "\n",
    "\n",
    "\n",
    "\n",
    "\n"
   ]
  },
  {
   "cell_type": "markdown",
   "id": "c0677c24",
   "metadata": {},
   "source": [
    "### Tal como ocurre con medias de muestras, para un $N$ finito siempre hay error de muestreo.\n",
    "\n",
    "### ¿Qué pasa cuando aumentamos el número de muestras?"
   ]
  },
  {
   "cell_type": "code",
   "execution_count": null,
   "id": "b3a6cb9f",
   "metadata": {},
   "outputs": [],
   "source": [
    "nrep <- 5     #Nro de experimentos\n",
    "N <- c(50,100,500,1000,5000,10000)  #Diferentes tamaños de muestra\n",
    "\n",
    "ns <- length(N)\n",
    "sopt <- matrix(0,nrow=ns,ncol=nrep)  #Guarda soluciones óptimas \n",
    "vopt <- matrix(0,nrow=ns,ncol=nrep)  #Guarda valores óptimos\n",
    "vopt2 <- matrix(0,nrow=ns,ncol=nrep)  #Guarda valores óptimos\n",
    "\n",
    "for (rep in 1:nrep){\n",
    "D <- rdunif(max(N),400,100)\n",
    "\n",
    "for (j in 1:ns){\n",
    "result <- MILPModel() %>%\n",
    "  add_variable(zo[i], i=1:N[j], type = \"continuous\", lb = 0) %>%\n",
    "  add_variable(zu[i], i=1:N[j], type = \"continuous\", lb = 0)  %>%\n",
    "  add_variable(s, type = \"continuous\", lb = 0)  %>%\n",
    "  set_objective((1/N[j])*sum_expr(h*zo[i] + q*zu[i], i=1:N[j]), \"min\") %>%\n",
    "  add_constraint(zo[i] - s >= -D[i], i=1:N[j]) %>%\n",
    "  add_constraint(zu[i] + s >= D[i], i=1:N[j]) %>%\n",
    "  solve_model(with_ROI(solver = \"lpsolve\")) \n",
    "\n",
    "  sopt[j,rep] <- get_solution(result, s)\n",
    "#  vopt[rep,j]<-250*(v-r)-objective_value(result)\n",
    "  vopt[j,rep] <- (v-r)*mean(D[1:N[j]])-objective_value(result)\n",
    "}\n",
    "}"
   ]
  },
  {
   "cell_type": "code",
   "execution_count": null,
   "id": "c0ed69df",
   "metadata": {},
   "outputs": [],
   "source": [
    "\n",
    "sol.df <- as.data.frame(sopt)\n",
    "sol.df$N <- N\n",
    "#sol.df\n",
    "plot.sol <- sol.df %>% tidyr::gather(\"rep\", \"sol\", 1:nrep) \n",
    "#plotdata   \n",
    "ggplot(plot.sol, aes(N,sol,group=rep,color=rep)) +\n",
    "       geom_line(show.legend = F)+\n",
    "       mytheme+\n",
    "       labs(y=\"Sol. óptima con N muestras\",\n",
    "            title=paste0(\"Gráfico de soluciones óptimas para \",nrep,\" repeticiones\"))\n",
    "\n"
   ]
  },
  {
   "cell_type": "code",
   "execution_count": null,
   "id": "7670fb89",
   "metadata": {},
   "outputs": [],
   "source": [
    "val.df <- as.data.frame(vopt)\n",
    "val.df$N <- N\n",
    "#sol.df\n",
    "plot.val <- val.df %>% tidyr::gather(\"rep\", \"sol\", 1:nrep) \n",
    "#plotdata   \n",
    "ggplot(plot.val, aes(N,sol,group=rep,color=rep)) +\n",
    "       geom_line(show.legend = F)+\n",
    "       mytheme+\n",
    "       labs(y=\"Valor óptimo con N muestras\",\n",
    "            title=paste0(\"Gráfico de valores óptimos para \",nrep,\" repeticiones\"))\n",
    "\n"
   ]
  },
  {
   "cell_type": "markdown",
   "id": "972bc6d4",
   "metadata": {},
   "source": [
    "### La solución óptima parece converger a 350. Eso hace sentido.\n",
    "### De hecho, el problema es una variación del **problema del vendedor de diarios**!\n",
    "### Eso significa que podemos resolverlo **analíticamente** (recuerden el curso de IO...):"
   ]
  },
  {
   "cell_type": "markdown",
   "id": "6f1e7b20",
   "metadata": {},
   "source": [
    "### $s^* = F^{-1}\\left(\\frac{c_u}{c_o+c_u}\\right)$,\n",
    "### donde\n",
    "### $c_o=$ \"overage cost\" $=h$\n",
    "### $c_u=$ \"underage cost\" $=q$\n",
    "### $F$ es la función distribución acumulada de la demanda (en nuestro caso, Uniforme(100,400))\n"
   ]
  },
  {
   "cell_type": "code",
   "execution_count": null,
   "id": "290bfb40",
   "metadata": {},
   "outputs": [],
   "source": [
    "co <- h\n",
    "cu <- q\n",
    "ratio <- (cu/(co+cu))\n",
    "s.opt <- qunif(ratio,100,400)\n",
    "cat(\"sol. optima = \",s.opt)\n",
    "\n"
   ]
  },
  {
   "cell_type": "markdown",
   "id": "56de86c2",
   "metadata": {},
   "source": [
    "### Vemos que en este caso podríamos haber resuelto el problema directamente, sin simulación! Pero..."
   ]
  },
  {
   "cell_type": "code",
   "execution_count": null,
   "id": "c1a116dd",
   "metadata": {},
   "outputs": [],
   "source": [
    "\n",
    "\n",
    "\n",
    "\n",
    "\n",
    "\n"
   ]
  },
  {
   "cell_type": "markdown",
   "id": "9ef725b0",
   "metadata": {},
   "source": [
    "## El caso de 2 productos"
   ]
  },
  {
   "cell_type": "markdown",
   "id": "1dbbe410",
   "metadata": {},
   "source": [
    "### Calculemos los valores óptimos de cada producto individualmente:"
   ]
  },
  {
   "cell_type": "code",
   "execution_count": null,
   "id": "e0f97934",
   "metadata": {},
   "outputs": [],
   "source": [
    "r1 <- 300   #Precio de compra prod. 1\n",
    "v1 <- 1500  #Precio de venta prod. 1\n",
    "h1 <- r1     #Costo inventario prod. 1\n",
    "q1 <- v1     #Costo quiebre de inventario prod. 1\n",
    "\n",
    "r2 <- 1000   #Precio de compra prod. 2\n",
    "v2 <- 3000  #Precio de venta prod. 2\n",
    "h2 <- r2     #Costo inventario prod. 2\n",
    "q2 <- v2     #Costo quiebre de inventario prod. 2"
   ]
  },
  {
   "cell_type": "code",
   "execution_count": null,
   "id": "d65e1124",
   "metadata": {},
   "outputs": [],
   "source": [
    "co1 <- h1\n",
    "cu1 <- q1\n",
    "ratio1 <- (cu/(co+cu))\n",
    "s1.opt <- qunif(ratio1,100,400)\n",
    "cat(\"Solución óptima producto 1 = \",s1.opt,\"\\n\")\n",
    "\n",
    "co2 <- h2\n",
    "cu2 <- q2\n",
    "ratio2 <- (cu2/(co2+cu2))\n",
    "s2.opt <- qunif(ratio2,50,150)\n",
    "cat(\"Solución óptima producto 2 = \",s2.opt)"
   ]
  },
  {
   "cell_type": "code",
   "execution_count": null,
   "id": "4611bb43",
   "metadata": {},
   "outputs": [],
   "source": [
    "\n",
    "\n",
    "\n",
    "\n",
    "\n",
    "\n",
    "\n"
   ]
  },
  {
   "cell_type": "markdown",
   "id": "d597e46e",
   "metadata": {},
   "source": [
    "### ¿Qué pasa si la capacidad máxima de la bodega es de *600 botellas*?"
   ]
  },
  {
   "cell_type": "code",
   "execution_count": null,
   "id": "7db64058",
   "metadata": {},
   "outputs": [],
   "source": [
    "\n",
    "\n",
    "\n",
    "\n",
    "\n",
    "\n",
    "\n",
    "\n",
    "\n"
   ]
  },
  {
   "cell_type": "markdown",
   "id": "fd398f29",
   "metadata": {},
   "source": [
    "### ¿Y qué pasa si la capacidad máxima de la bodega es de *300 botellas*?"
   ]
  },
  {
   "cell_type": "code",
   "execution_count": null,
   "id": "79fc4790",
   "metadata": {},
   "outputs": [],
   "source": [
    "\n",
    "\n",
    "\n",
    "\n",
    "\n",
    "\n",
    "\n",
    "\n",
    "\n",
    "\n",
    "\n",
    "\n"
   ]
  },
  {
   "cell_type": "markdown",
   "id": "82c8fda2",
   "metadata": {},
   "source": [
    "### Aquí sí necesitamos resolver el problema utilizando simulación."
   ]
  },
  {
   "cell_type": "code",
   "execution_count": null,
   "id": "29006cb2",
   "metadata": {},
   "outputs": [],
   "source": [
    "N <- 1000\n",
    "Dp1 <- rdunif(N,400,100)\n",
    "Dp2 <- rdunif(N,150,50)\n",
    "Cap <- 300   #Capacidad de la bodega\n",
    "\n",
    "result <- MILPModel() %>%\n",
    "  add_variable(zo1[i], i=1:N, type = \"continuous\", lb = 0) %>%\n",
    "  add_variable(zu1[i], i=1:N, type = \"continuous\", lb = 0)  %>%\n",
    "  add_variable(s1, type = \"continuous\", lb = 0)  %>%\n",
    "  add_constraint(zo1[i] - s1 >= -Dp1[i], i=1:N) %>%\n",
    "  add_constraint(zu1[i] + s1 >= Dp1[i], i=1:N) %>%\n",
    "  add_constraint(zu1[i] + s1 >= Dp1[i], i=1:N) %>%\n",
    "  add_variable(zo2[i], i=1:N, type = \"continuous\", lb = 0) %>%\n",
    "  add_variable(zu2[i], i=1:N, type = \"continuous\", lb = 0)  %>%\n",
    "  add_variable(s2, type = \"continuous\", lb = 0)  %>%\n",
    "  add_constraint(zo2[i] - s2 >= -Dp2[i], i=1:N) %>%\n",
    "  add_constraint(zu2[i] + s2 >= Dp2[i], i=1:N) %>%\n",
    "  add_constraint(zu2[i] + s2 >= Dp2[i], i=1:N) %>%\n",
    "  add_constraint(s1+s2 <= Cap) %>%\n",
    "  set_objective((1/N)*sum_expr(h1*zo1[i] + q1*zu1[i] + h2*zo2[i] + q2*zu2[i], i=1:N), \"min\") %>%\n",
    "  solve_model(with_ROI(solver = \"lpsolve\")) "
   ]
  },
  {
   "cell_type": "code",
   "execution_count": null,
   "id": "20dcd8d1",
   "metadata": {},
   "outputs": [],
   "source": [
    "cat(sprintf(\"Solución óptima producto 1 = %4.1f\\n\",get_solution(result, s1)))\n",
    "cat(sprintf(\"Solución óptima producto 2 = %4.1f\\n\",get_solution(result, s2)))\n",
    "cat(sprintf(\"Valor óptimo = %7.1f\\n\",(v1-r1)*mean(Dp1)+(v2-r2)*mean(Dp2)-objective_value(result)))\n",
    "\n"
   ]
  },
  {
   "cell_type": "code",
   "execution_count": null,
   "id": "160f6b03",
   "metadata": {},
   "outputs": [],
   "source": []
  }
 ],
 "metadata": {
  "kernelspec": {
   "display_name": "R",
   "language": "R",
   "name": "ir"
  },
  "language_info": {
   "codemirror_mode": "r",
   "file_extension": ".r",
   "mimetype": "text/x-r-source",
   "name": "R",
   "pygments_lexer": "r",
   "version": "4.2.1"
  },
  "toc": {
   "base_numbering": 1,
   "nav_menu": {},
   "number_sections": true,
   "sideBar": true,
   "skip_h1_title": false,
   "title_cell": "Table of Contents",
   "title_sidebar": "Contents",
   "toc_cell": false,
   "toc_position": {},
   "toc_section_display": true,
   "toc_window_display": false
  },
  "varInspector": {
   "cols": {
    "lenName": 16,
    "lenType": 16,
    "lenVar": 40
   },
   "kernels_config": {
    "python": {
     "delete_cmd_postfix": "",
     "delete_cmd_prefix": "del ",
     "library": "var_list.py",
     "varRefreshCmd": "print(var_dic_list())"
    },
    "r": {
     "delete_cmd_postfix": ") ",
     "delete_cmd_prefix": "rm(",
     "library": "var_list.r",
     "varRefreshCmd": "cat(var_dic_list()) "
    }
   },
   "types_to_exclude": [
    "module",
    "function",
    "builtin_function_or_method",
    "instance",
    "_Feature"
   ],
   "window_display": false
  }
 },
 "nbformat": 4,
 "nbformat_minor": 5
}
