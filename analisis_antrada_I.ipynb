{
 "cells": [
  {
   "cell_type": "markdown",
   "id": "23b8c3eb",
   "metadata": {},
   "source": [
    "# Clase 7: Análisis de Entrada I: herramientas adicionales"
   ]
  },
  {
   "cell_type": "markdown",
   "id": "68798a2c",
   "metadata": {},
   "source": [
    "Prof. Tito Homem-de-Mello"
   ]
  },
  {
   "cell_type": "markdown",
   "id": "5244572d",
   "metadata": {},
   "source": [
    "## Trabajaremos con el archivo \"energy_dataset.csv\""
   ]
  },
  {
   "cell_type": "code",
   "execution_count": null,
   "id": "ae478555",
   "metadata": {},
   "outputs": [],
   "source": [
    "install.packages('fitdistrplus')\n",
    "install.packages('ggplot2')\n",
    "install.packages('nortest')\n",
    "install.packages('tidyr')\n",
    "install.packages('data.table')"
   ]
  },
  {
   "cell_type": "code",
   "execution_count": null,
   "id": "13bcc3b9",
   "metadata": {},
   "outputs": [],
   "source": [
    "library(fitdistrplus)\n",
    "library(data.table)\n",
    "library(nortest)\n",
    "library(ggplot2)\n",
    "library(tidyr)"
   ]
  },
  {
   "cell_type": "code",
   "execution_count": null,
   "id": "1c7a9510",
   "metadata": {},
   "outputs": [],
   "source": [
    "#Ajustes para gráficos via ggplot\n",
    "mytheme <- theme(plot.title = element_text(size = 22),\n",
    "                    axis.title.y=element_text(size = 20),\n",
    "                    axis.text.y=element_text(size = 15),\n",
    "                    axis.title.x=element_text(size = 20),\n",
    "                    axis.text.x=element_text(size = 15),\n",
    "                    legend.position=\"bottom\",\n",
    "                    legend.text=element_text(size = 15),\n",
    "                    legend.title=element_text(size = 15))"
   ]
  },
  {
   "cell_type": "code",
   "execution_count": null,
   "id": "678988b5",
   "metadata": {},
   "outputs": [],
   "source": [
    "energy <- fread(\"energy_dataset.csv\")\n",
    "head(energy)"
   ]
  },
  {
   "cell_type": "code",
   "execution_count": null,
   "id": "8db6bf3f",
   "metadata": {},
   "outputs": [],
   "source": [
    "\n",
    "\n",
    "\n",
    "\n",
    "\n",
    "\n",
    "\n",
    "\n",
    "\n",
    "\n",
    "\n",
    "\n",
    "\n",
    "\n",
    "\n",
    "\n",
    "\n",
    "\n",
    "\n"
   ]
  },
  {
   "cell_type": "markdown",
   "id": "c2b6e802",
   "metadata": {},
   "source": [
    "## Queremos simular el precio real (\"price actual\"). ¡Hay que definir una distribución!"
   ]
  },
  {
   "cell_type": "code",
   "execution_count": null,
   "id": "09ce904c",
   "metadata": {},
   "outputs": [],
   "source": [
    "precio <- energy$`price actual`\n",
    "hist(precio)\n",
    "cat(length(precio), \"datos\")"
   ]
  },
  {
   "cell_type": "code",
   "execution_count": null,
   "id": "e6c56e5b",
   "metadata": {},
   "outputs": [],
   "source": [
    "\n",
    "\n",
    "\n",
    "\n",
    "\n",
    "\n",
    "\n",
    "\n",
    "\n",
    "\n",
    "\n",
    "\n",
    "\n"
   ]
  },
  {
   "cell_type": "markdown",
   "id": "150bd1f8",
   "metadata": {},
   "source": [
    "### Bondad de ajuste - plots"
   ]
  },
  {
   "cell_type": "code",
   "execution_count": null,
   "id": "2bac7cde",
   "metadata": {},
   "outputs": [],
   "source": [
    "a_norm <- fitdist(precio, \"norm\")\n",
    "a_logis <- fitdist(precio, \"logis\")\n",
    "\n",
    "a_norm\n",
    "a_logis\n",
    "plot.legend <- c(\"Normal\",\"Logistic\")\n",
    "denscomp(list(a_norm,a_logis), fitcol=c(2,4), fitlty=1, legendtext=plot.legend)\n"
   ]
  },
  {
   "cell_type": "code",
   "execution_count": null,
   "id": "19e6f26a",
   "metadata": {
    "scrolled": false
   },
   "outputs": [],
   "source": [
    "ppcomp(list(a_norm,a_logis),fitcol=c(2,4),legendtext=plot.legend)"
   ]
  },
  {
   "cell_type": "code",
   "execution_count": null,
   "id": "28dccedc",
   "metadata": {},
   "outputs": [],
   "source": [
    "qqcomp(list(a_norm,a_logis),fitcol=c(2,4),legendtext=plot.legend)"
   ]
  },
  {
   "cell_type": "code",
   "execution_count": null,
   "id": "b304e034",
   "metadata": {},
   "outputs": [],
   "source": [
    "\n",
    "\n",
    "\n"
   ]
  },
  {
   "cell_type": "markdown",
   "id": "0623a71a",
   "metadata": {},
   "source": [
    "### Bondad de ajuste - tests estadísticos"
   ]
  },
  {
   "cell_type": "code",
   "execution_count": null,
   "id": "643c1318",
   "metadata": {},
   "outputs": [],
   "source": [
    "gofval <- gofstat(list(a_norm,a_logis),fitnames=c(\"norm\",\"logis\"))\n",
    "gofval"
   ]
  },
  {
   "cell_type": "code",
   "execution_count": null,
   "id": "eeaf0b8a",
   "metadata": {
    "scrolled": true
   },
   "outputs": [],
   "source": [
    "\n",
    "pv.chi.norm <- gofval$chisqpvalue[\"norm\"]\n",
    "pv.chi.logis <- gofval$chisqpvalue[\"logis\"]\n",
    "pv.cvm <- nortest::cvm.test(precio)$p.value  #Solamente para Normal \n",
    "pv.ad <-  nortest::ad.test(precio)$p.value   #Solamente para Normal \n",
    "pv.ks <- nortest::lillie.test(precio)$p.value  #Solamente para Normal \n",
    "pv.pea <-  nortest::pearson.test(precio)$p.value   #Solamente para Normal \n",
    "\n",
    "pvalue_norm <- data.frame(ChiC=pv.chi.norm,CvM=pv.cvm,AD=pv.ad,KS=pv.ks,PEA=pv.pea)\n",
    "if (!is.na(pv.chi.logis))\n",
    "{ pvalue_norm <- rbind(pvalue_norm,data.frame(ChiC=pv.chi.logis,CvM=NaN,AD=NaN,KS=NaN,PEA=NaN))\n",
    "} else {pvalue_norm <- rbind(pvalue_norm,data.frame(ChiC=NaN,CvM=NaN,AD=NaN,KS=NaN,PEA=NaN))}\n",
    "\n",
    "row.names(pvalue_norm) <- c(\"norm\",\"logis\")\n",
    "pvalue_norm"
   ]
  },
  {
   "cell_type": "code",
   "execution_count": null,
   "id": "0a52869f",
   "metadata": {},
   "outputs": [],
   "source": [
    "\n",
    "\n",
    "\n",
    "\n",
    "\n"
   ]
  },
  {
   "cell_type": "markdown",
   "id": "edfa2ad1",
   "metadata": {},
   "source": [
    "### Tal como vimos anteriormente, el valor-p puede no ser un buen indicador cuando hay muchos datos."
   ]
  },
  {
   "cell_type": "markdown",
   "id": "5caed0cb",
   "metadata": {},
   "source": [
    "### Simulemos las distribuciones y comparémoslas con la distribución empírica."
   ]
  },
  {
   "cell_type": "code",
   "execution_count": null,
   "id": "4442714c",
   "metadata": {},
   "outputs": [],
   "source": [
    "mu <- a_norm$estimate[1]\n",
    "sigma <- a_norm$estimate[2]\n",
    "\n",
    "loc <- a_logis$estimate[1]\n",
    "scale <- a_logis$estimate[2]"
   ]
  },
  {
   "cell_type": "code",
   "execution_count": null,
   "id": "33654e26",
   "metadata": {},
   "outputs": [],
   "source": [
    "Z.norm <- rnorm(length(precio),mu,sigma)\n",
    "Z.logis <- rlogis(length(precio),loc,scale)\n",
    "X <- precio\n",
    "leg <- c(\"Datos\",\"Normal\", \"Logistica\")\n",
    "color <- c(1,2,4)\n",
    "eX <- ecdf(X)\n",
    "eZN <- ecdf(Z.norm)\n",
    "eZL <- ecdf(Z.logis)\n",
    "\n",
    "plot(eX, ylab=\"Fn(x)\", main=\"Distribución empirica\",col=color[1], verticals = TRUE,do.points=FALSE,xlim=c(min(X),max(X)))\n",
    "legend(0.75*max(X),0.1, leg[1], col=color[1], lty=1)\n",
    "\n",
    "par(new=T)\n",
    "plot(eZN, ylab=\"Fn(x)\", main=\"Distribución empirica\",col=color[2],verticals = TRUE,do.points=FALSE,xlim=c(min(X),max(X)))\n",
    "legend(0.75*max(X),0.2, leg[2],  col=color[2], lty=1)\n",
    "\n",
    "par(new=T)\n",
    "plot(eZL, ylab=\"Fn(x)\", main=\"Distribución empirica\",col=color[3],verticals = TRUE,do.points=FALSE,xlim=c(min(X),max(X)))\n",
    "legend(0.75*max(X),0.3, leg[3],  col=color[3], lty=1)\n",
    "\n"
   ]
  },
  {
   "cell_type": "code",
   "execution_count": null,
   "id": "6495baa6",
   "metadata": {},
   "outputs": [],
   "source": [
    "\n",
    "\n",
    "\n",
    "\n",
    "\n",
    "\n",
    "\n"
   ]
  },
  {
   "cell_type": "markdown",
   "id": "e4f2b0e2",
   "metadata": {},
   "source": [
    "### Ambas son razonables. Quedémonos con la Normal."
   ]
  },
  {
   "cell_type": "markdown",
   "id": "34cac12c",
   "metadata": {},
   "source": [
    "## Ahora que tenemos una distribución, hagamos un pronóstico para el precio."
   ]
  },
  {
   "cell_type": "markdown",
   "id": "60c85987",
   "metadata": {},
   "source": [
    "### Por ejemplo, un rango de valores que contiene el precio con probabilidad 95% es dado por"
   ]
  },
  {
   "cell_type": "code",
   "execution_count": null,
   "id": "5f430e62",
   "metadata": {},
   "outputs": [],
   "source": [
    "\n",
    "\n",
    "\n",
    "\n",
    "\n",
    "\n",
    "\n",
    "\n",
    "\n",
    "\n",
    "\n",
    "\n"
   ]
  },
  {
   "cell_type": "markdown",
   "id": "43a989f1",
   "metadata": {},
   "source": [
    "### $\\mu \\pm 1.96\\sigma$, donde $\\mu$ y $\\sigma$ son los parámetros de la Normal ajustada"
   ]
  },
  {
   "cell_type": "code",
   "execution_count": null,
   "id": "53f2d6a4",
   "metadata": {},
   "outputs": [],
   "source": [
    "sprintf(\"Pronóstico del precio (95%%): [%5.2f, %5.2f]\",mu-1.96*sigma,mu+1.96*sigma )"
   ]
  },
  {
   "cell_type": "code",
   "execution_count": null,
   "id": "241212a8",
   "metadata": {},
   "outputs": [],
   "source": [
    "\n",
    "\n",
    "\n",
    "\n",
    "\n",
    "\n",
    "\n",
    "\n",
    "\n",
    "\n"
   ]
  },
  {
   "cell_type": "markdown",
   "id": "de7f9a83",
   "metadata": {},
   "source": [
    "### ¿Qué problemas hay con ese pronóstico?"
   ]
  },
  {
   "cell_type": "code",
   "execution_count": null,
   "id": "473ecfdd",
   "metadata": {},
   "outputs": [],
   "source": [
    "\n",
    "\n",
    "\n",
    "\n"
   ]
  },
  {
   "cell_type": "markdown",
   "id": "69c03d3c",
   "metadata": {},
   "source": [
    "### ¿Cómo se puede mejorarlo?"
   ]
  },
  {
   "cell_type": "code",
   "execution_count": null,
   "id": "741eff31",
   "metadata": {},
   "outputs": [],
   "source": [
    "\n",
    "\n",
    "\n",
    "\n",
    "\n",
    "\n"
   ]
  },
  {
   "cell_type": "markdown",
   "id": "056c6fdf",
   "metadata": {},
   "source": [
    "### Veamos como varian los precios por mes. Para ello, vamos a utilizar la librería \"lubridate\", con la cual queda mucho más fácil lidiar con la variable \"time\"\n",
    "\n",
    "\n",
    "\n"
   ]
  },
  {
   "cell_type": "code",
   "execution_count": null,
   "id": "10ff96f1",
   "metadata": {
    "scrolled": true
   },
   "outputs": [],
   "source": [
    "install.packages('lubridate')\n",
    "library(lubridate)\n"
   ]
  },
  {
   "cell_type": "markdown",
   "id": "0518f01f",
   "metadata": {},
   "source": [
    "### Aqui vemos como es útil la estructura de data.table! En este ejemplo:\n",
    "\n",
    "####   energy[ cuales filas,  qué hacer con cada columna seleccionada,    como agrupar las filas]"
   ]
  },
  {
   "cell_type": "code",
   "execution_count": null,
   "id": "d5820ab0",
   "metadata": {},
   "outputs": [],
   "source": [
    "precio_mes <- energy[,.(preciomedio=mean(`price actual`)),by=list(mes=month(time))]\n",
    "precio_mes"
   ]
  },
  {
   "cell_type": "code",
   "execution_count": null,
   "id": "3d84bdee",
   "metadata": {},
   "outputs": [],
   "source": [
    "\n",
    "\n",
    "\n"
   ]
  },
  {
   "cell_type": "code",
   "execution_count": null,
   "id": "ad0781c9",
   "metadata": {},
   "outputs": [],
   "source": [
    "precio_mes <- cbind(precio_mes,month.abb[precio_mes$mes]) #Agrega columna con nombre de mes\n",
    "names(precio_mes)[3] <- \"mes_abrv\"\n",
    "plot.mes <- ggplot(precio_mes, aes(reorder(mes_abrv,mes),preciomedio))+\n",
    "            geom_point(size=3,na.rm = TRUE)+\n",
    "            labs(x = 'Mes', y = 'Precio')+\n",
    "            mytheme\n",
    "plot.mes"
   ]
  },
  {
   "cell_type": "code",
   "execution_count": null,
   "id": "c0acd511",
   "metadata": {},
   "outputs": [],
   "source": [
    "\n",
    "\n",
    "\n",
    "\n",
    "\n",
    "\n",
    "\n"
   ]
  },
  {
   "cell_type": "markdown",
   "id": "8e800026",
   "metadata": {},
   "source": [
    "### Variación por hora"
   ]
  },
  {
   "cell_type": "code",
   "execution_count": null,
   "id": "a34ddbf2",
   "metadata": {},
   "outputs": [],
   "source": [
    "precio_hora <- energy[,.(preciomedio=mean(`price actual`)),by=list(hora=hour(time))]\n",
    "#head(precio_hora)\n",
    "\n",
    "plot.hora <- ggplot(precio_hora, aes(hora,preciomedio))+\n",
    "            geom_point(size=3,na.rm = TRUE)+\n",
    "            labs(x = 'Hora', y = 'Precio')+\n",
    "            mytheme\n",
    "plot.hora\n",
    "\n"
   ]
  },
  {
   "cell_type": "code",
   "execution_count": null,
   "id": "3903167c",
   "metadata": {},
   "outputs": [],
   "source": [
    "\n",
    "\n",
    "\n",
    "\n",
    "\n",
    "\n",
    "\n"
   ]
  },
  {
   "cell_type": "markdown",
   "id": "7d3df194",
   "metadata": {},
   "source": [
    "### Variación por día, fijando un mes (julio)"
   ]
  },
  {
   "cell_type": "code",
   "execution_count": null,
   "id": "fe7fea98",
   "metadata": {},
   "outputs": [],
   "source": [
    "precio_dia <- energy[month(time)==7,\n",
    "                  .(preciomedio=mean(`price actual`)),by=list(dia=mday(time))]\n",
    "head(precio_dia)\n",
    "\n",
    "plot.dia <- ggplot(precio_dia, aes(dia,preciomedio))+\n",
    "            geom_point(size=3, na.rm = TRUE)+\n",
    "            labs(x = 'Día', y = 'Precio')+\n",
    "            mytheme\n",
    "\n",
    "plot.dia"
   ]
  },
  {
   "cell_type": "code",
   "execution_count": null,
   "id": "37a856bd",
   "metadata": {},
   "outputs": [],
   "source": [
    "\n",
    "\n",
    "\n",
    "\n",
    "\n",
    "\n",
    "\n",
    "\n",
    "\n",
    "\n"
   ]
  },
  {
   "cell_type": "markdown",
   "id": "81baa914",
   "metadata": {},
   "source": [
    "### Vemos que el precio depende bastante del mes y de la hora. ¿Qué otras dependencias hay?"
   ]
  },
  {
   "cell_type": "code",
   "execution_count": null,
   "id": "d7c8860b",
   "metadata": {},
   "outputs": [],
   "source": [
    "\n",
    "\n",
    "\n",
    "\n",
    "\n",
    "\n",
    "\n",
    "\n",
    "\n"
   ]
  },
  {
   "cell_type": "markdown",
   "id": "ca38bc6c",
   "metadata": {},
   "source": [
    "### Veamos por ejemplo los datos de  demanda real (load)"
   ]
  },
  {
   "cell_type": "code",
   "execution_count": null,
   "id": "7ca28688",
   "metadata": {},
   "outputs": [],
   "source": [
    "dem_hora <- energy[,.(demmedia=mean(`total load actual`)),by=list(hora=hour(time))]\n",
    "head(dem_hora)"
   ]
  },
  {
   "cell_type": "code",
   "execution_count": null,
   "id": "aca0bcb1",
   "metadata": {},
   "outputs": [],
   "source": [
    "\n",
    "\n",
    "\n",
    "\n",
    "\n",
    "\n",
    "\n",
    "\n",
    "\n",
    "\n",
    "\n"
   ]
  },
  {
   "cell_type": "markdown",
   "id": "fa47cfee",
   "metadata": {},
   "source": [
    "### Tenemos que limpiar los datos! "
   ]
  },
  {
   "cell_type": "code",
   "execution_count": null,
   "id": "ed7d8601",
   "metadata": {},
   "outputs": [],
   "source": [
    "dem_data <- energy[,.(`total load actual`),by=list(hora=hour(time))]  #sin cálculo de media\n",
    "dem_data[is.na(dem_data$`total load actual`)]   #Elementos problemáticos\n"
   ]
  },
  {
   "cell_type": "code",
   "execution_count": null,
   "id": "7e38d213",
   "metadata": {},
   "outputs": [],
   "source": [
    "\n",
    "\n",
    "\n",
    "\n"
   ]
  },
  {
   "cell_type": "markdown",
   "id": "596e2811",
   "metadata": {},
   "source": [
    "### Eliminamos los NA"
   ]
  },
  {
   "cell_type": "code",
   "execution_count": null,
   "id": "626ad3f6",
   "metadata": {},
   "outputs": [],
   "source": [
    "dem_data <- dem_data[!is.na(dem_data$`total load actual`)]\n",
    "dem_hora <- dem_data[,.(demmedia=mean(`total load actual`)),by=hora]\n",
    "head(dem_hora)"
   ]
  },
  {
   "cell_type": "code",
   "execution_count": null,
   "id": "03f85af7",
   "metadata": {},
   "outputs": [],
   "source": [
    "plot.dem.hora <- ggplot(dem_hora, aes(hora,demmedia))+\n",
    "            geom_point(size=3,na.rm = TRUE)+\n",
    "            labs(x = 'Hora', y = 'Demanda')\n",
    "\n",
    "plot.dem.hora+\n",
    "    geom_line(na.rm = TRUE)+\n",
    "    mytheme\n",
    "                \n",
    "plot.hora+\n",
    "    geom_line(na.rm = TRUE, color=\"red\")+\n",
    "    mytheme\n",
    " \n"
   ]
  },
  {
   "cell_type": "code",
   "execution_count": null,
   "id": "653db23c",
   "metadata": {},
   "outputs": [],
   "source": [
    "\n",
    "\n",
    "\n",
    "\n",
    "\n",
    "\n",
    "\n"
   ]
  },
  {
   "cell_type": "markdown",
   "id": "76626dc7",
   "metadata": {},
   "source": [
    "## Qué concluimos del análisis?"
   ]
  },
  {
   "cell_type": "code",
   "execution_count": null,
   "id": "02521ad3",
   "metadata": {},
   "outputs": [],
   "source": [
    "\n",
    "\n",
    "\n",
    "\n",
    "\n"
   ]
  },
  {
   "cell_type": "markdown",
   "id": "6187c3b8",
   "metadata": {},
   "source": [
    "### Claramente, el precio depende del mes, día y demanda "
   ]
  },
  {
   "cell_type": "code",
   "execution_count": null,
   "id": "10a27a05",
   "metadata": {},
   "outputs": [],
   "source": [
    "\n",
    "\n",
    "\n",
    "\n",
    "\n"
   ]
  },
  {
   "cell_type": "markdown",
   "id": "f57cde26",
   "metadata": {},
   "source": [
    "## ¿Cómo podemos usar esa información para hacer un mejor pronóstico del precio?"
   ]
  },
  {
   "cell_type": "code",
   "execution_count": null,
   "id": "3db5a2ff",
   "metadata": {},
   "outputs": [],
   "source": [
    "\n",
    "\n",
    "\n",
    "\n",
    "\n",
    "\n",
    "\n",
    "\n",
    "\n",
    "\n",
    "\n"
   ]
  },
  {
   "cell_type": "markdown",
   "id": "83ab1c36",
   "metadata": {},
   "source": [
    "### Regresión!"
   ]
  },
  {
   "cell_type": "markdown",
   "id": "a8621a93",
   "metadata": {},
   "source": [
    "### Podemos además incluir otros factores - pero siempre cuando utilicemos apenas los valores *pronosticados* de la base de datos, no los valores actuales."
   ]
  },
  {
   "cell_type": "markdown",
   "id": "44dfd96d",
   "metadata": {},
   "source": [
    "### Asumamos que queremos hacer el pronóstico para el 31/7/2018, entonces separamos los datos de ese día del análisis para usarlos como test"
   ]
  },
  {
   "cell_type": "code",
   "execution_count": null,
   "id": "046c149e",
   "metadata": {},
   "outputs": [],
   "source": [
    "data7<-energy[year(time)<=2018 &\n",
    "                month(time)==7 & mday(time)<31,\n",
    "             .(anio=year(time),  \n",
    "              dia= mday(time), \n",
    "               hora= hour(time),\n",
    "                solar=`forecast solar day ahead`,\n",
    "                eol=`forecast wind onshore day ahead`,\n",
    "                dem=`total load forecast`,\n",
    "                precio=`price actual`) ]\n",
    "\n",
    "test7<-energy[year(time)==2018 &\n",
    "                month(time)==7 & mday(time)==31,\n",
    "             .(anio=year(time),  \n",
    "              dia= mday(time), \n",
    "               hora= hour(time),\n",
    "                solar=`forecast solar day ahead`,\n",
    "                eol=`forecast wind onshore day ahead`,\n",
    "                dem=`total load forecast`)]\n",
    "\n",
    "\n",
    "\n",
    "\n"
   ]
  },
  {
   "cell_type": "code",
   "execution_count": null,
   "id": "9752eec6",
   "metadata": {},
   "outputs": [],
   "source": [
    "head(data7)\n",
    "head(test7)"
   ]
  },
  {
   "cell_type": "markdown",
   "id": "99ce394d",
   "metadata": {},
   "source": [
    "### Variable dependiente"
   ]
  },
  {
   "cell_type": "code",
   "execution_count": null,
   "id": "6b65f416",
   "metadata": {},
   "outputs": [],
   "source": [
    "price7_test <- energy[year(time)==2018 &\n",
    "                month(time)==7 & mday(time)==31,.(precio=`price actual`)]\n",
    "\n",
    "head(price7_test)"
   ]
  },
  {
   "cell_type": "code",
   "execution_count": null,
   "id": "679271be",
   "metadata": {},
   "outputs": [],
   "source": [
    "\n",
    "\n",
    "\n",
    "\n",
    "\n",
    "\n",
    "\n",
    "\n",
    "\n",
    "\n",
    "\n"
   ]
  },
  {
   "cell_type": "markdown",
   "id": "78f32b37",
   "metadata": {},
   "source": [
    "## Corramos la regresión"
   ]
  },
  {
   "cell_type": "markdown",
   "id": "7235bdad",
   "metadata": {},
   "source": [
    "### Chequeemos las correlaciones entre las variables"
   ]
  },
  {
   "cell_type": "code",
   "execution_count": null,
   "id": "d721d8b8",
   "metadata": {},
   "outputs": [],
   "source": [
    "pairs(data7)"
   ]
  },
  {
   "cell_type": "markdown",
   "id": "6e2f0ba4",
   "metadata": {},
   "source": [
    "### Modelo de regresión"
   ]
  },
  {
   "cell_type": "code",
   "execution_count": null,
   "id": "a3a76c2e",
   "metadata": {},
   "outputs": [],
   "source": [
    "mod7 <- with(data7,lm(formula=precio ~ anio+hora+solar+eol+dem))\n",
    "summary(mod7)"
   ]
  },
  {
   "cell_type": "code",
   "execution_count": null,
   "id": "b5ae9c70",
   "metadata": {},
   "outputs": [],
   "source": [
    "\n",
    "\n",
    "\n",
    "\n",
    "\n",
    "\n",
    "\n",
    "\n",
    "\n",
    "\n",
    "\n",
    "\n",
    "\n"
   ]
  },
  {
   "cell_type": "markdown",
   "id": "54c49ed9",
   "metadata": {},
   "source": [
    "### Eliminemos las variables innecesarias"
   ]
  },
  {
   "cell_type": "code",
   "execution_count": null,
   "id": "00f5a955",
   "metadata": {},
   "outputs": [],
   "source": [
    "mod7<-with(data7,lm(formula=precio ~ hora+eol+dem))\n",
    "summary(mod7)"
   ]
  },
  {
   "cell_type": "markdown",
   "id": "37d9beed",
   "metadata": {},
   "source": [
    "## En base a la regresión, hagamos un pronóstico de precios para cada hora del día 31/7/2018."
   ]
  },
  {
   "cell_type": "code",
   "execution_count": null,
   "id": "884c7fdf",
   "metadata": {},
   "outputs": [],
   "source": [
    "pron_horario <- data.frame(hora=0:23, pronostico=predict(mod7,newdata=test7))\n",
    "plot.pronostico <- ggplot(pron_horario,aes(hora,pronostico))+\n",
    "                    geom_line(color=\"red\")+\n",
    "                    labs(x = 'Hora', y = 'Precio pronosticado',\n",
    "                          title='Pronóstico para el día 31/7/2018')+\n",
    "                    mytheme\n",
    "plot.pronostico\n"
   ]
  },
  {
   "cell_type": "code",
   "execution_count": null,
   "id": "3f2d7a1a",
   "metadata": {},
   "outputs": [],
   "source": [
    "\n",
    "\n",
    "\n",
    "\n",
    "\n",
    "\n"
   ]
  },
  {
   "cell_type": "markdown",
   "id": "a76544ca",
   "metadata": {},
   "source": [
    "### ¿Qué tan bueno es este pronóstico?"
   ]
  },
  {
   "cell_type": "code",
   "execution_count": null,
   "id": "d5a542c1",
   "metadata": {},
   "outputs": [],
   "source": [
    "\n",
    "\n",
    "\n",
    "\n",
    "\n",
    "\n",
    "\n",
    "\n",
    "\n"
   ]
  },
  {
   "cell_type": "markdown",
   "id": "efe924e8",
   "metadata": {},
   "source": [
    "### ¿Qué falta es este pronóstico?\n",
    "\n",
    "\n",
    "\n",
    "\n",
    "\n",
    "\n",
    "\n",
    "\n",
    "\n",
    "\n",
    "\n",
    "\n",
    "\n",
    "\n",
    "\n",
    "\n",
    "\n",
    "\n",
    "\n"
   ]
  },
  {
   "cell_type": "code",
   "execution_count": null,
   "id": "b4e63c1d",
   "metadata": {},
   "outputs": [],
   "source": [
    "\n",
    "\n",
    "\n",
    "\n",
    "\n",
    "\n",
    "\n",
    "\n",
    "\n",
    "\n"
   ]
  },
  {
   "cell_type": "markdown",
   "id": "9f37f3f2",
   "metadata": {},
   "source": [
    "### No hay ningún margen de error!"
   ]
  },
  {
   "cell_type": "code",
   "execution_count": null,
   "id": "11558d13",
   "metadata": {},
   "outputs": [],
   "source": [
    "\n",
    "\n",
    "\n",
    "\n",
    "\n",
    "\n",
    "\n"
   ]
  },
  {
   "cell_type": "markdown",
   "id": "e9e3c013",
   "metadata": {},
   "source": [
    "### ¿Cómo estimar los errores? "
   ]
  },
  {
   "cell_type": "code",
   "execution_count": null,
   "id": "efeb5277",
   "metadata": {},
   "outputs": [],
   "source": [
    "\n",
    "\n",
    "\n",
    "\n",
    "\n",
    "\n"
   ]
  },
  {
   "cell_type": "markdown",
   "id": "6d75f198",
   "metadata": {},
   "source": [
    "## Veamos un caso más sencillo con apenas 1 variable (load forecast), tomando apenas los 3 primeros días"
   ]
  },
  {
   "cell_type": "code",
   "execution_count": null,
   "id": "63bd6c66",
   "metadata": {},
   "outputs": [],
   "source": [
    "data7red <- data7[1:72,.(dem,precio)]\n",
    "mod_red <- with(data7red,lm(formula= precio ~ dem))\n",
    "summary(mod_red)"
   ]
  },
  {
   "cell_type": "code",
   "execution_count": null,
   "id": "aa3111d3",
   "metadata": {},
   "outputs": [],
   "source": [
    "plot.dem_precio <- ggplot(data7red,aes(dem,precio))+\n",
    "                        labs(x = 'Demanda pronosticada', y = 'Precio')+\n",
    "                        geom_point()+\n",
    "                        geom_smooth(method=\"lm\", se=FALSE)+\n",
    "                        mytheme\n",
    "plot.dem_precio\n",
    "\n"
   ]
  },
  {
   "cell_type": "code",
   "execution_count": null,
   "id": "1e2286c9",
   "metadata": {},
   "outputs": [],
   "source": [
    "\n",
    "\n",
    "\n",
    "\n",
    "\n",
    "\n",
    "\n",
    "\n"
   ]
  },
  {
   "cell_type": "markdown",
   "id": "fcdbd8e8",
   "metadata": {},
   "source": [
    "### ¿Cómo estimar el error de la regresión para un dato específico de demanda pronosticada? "
   ]
  },
  {
   "cell_type": "code",
   "execution_count": null,
   "id": "cb6cf11a",
   "metadata": {},
   "outputs": [],
   "source": [
    "\n",
    "\n",
    "\n",
    "\n",
    "\n",
    "\n",
    "\n",
    "\n",
    "\n",
    "\n",
    "\n"
   ]
  },
  {
   "cell_type": "markdown",
   "id": "3b21152d",
   "metadata": {},
   "source": [
    "### La clave es mirar los **residuos**. Recordemos que la ecuación de regresión es  $ Y = a + bX + \\epsilon$,  donde $\\epsilon$ es el residuo"
   ]
  },
  {
   "cell_type": "code",
   "execution_count": null,
   "id": "d0d2aa69",
   "metadata": {},
   "outputs": [],
   "source": [
    "plot(data7red$dem,data7red$precio,col=4,  ylab=\"precio\",xlab=\"demanda pronosticada\")\n",
    "lines(data7red$dem,fitted(mod_red))\n",
    "segments(data7red$dem,fitted(mod_red),data7red$dem,data7red$precio)"
   ]
  },
  {
   "cell_type": "code",
   "execution_count": null,
   "id": "ff9f957d",
   "metadata": {},
   "outputs": [],
   "source": [
    "\n",
    "\n",
    "\n",
    "\n",
    "\n",
    "\n",
    "\n",
    "\n",
    "\n",
    "\n",
    "\n"
   ]
  },
  {
   "cell_type": "markdown",
   "id": "e9c87c1f",
   "metadata": {},
   "source": [
    "### O sea, para un valor **fijo** de $X=X_0$ (en el ejemplo, demanda pronosticada), la variable $Y$ se distribuye (aproximadamente) de la **misma forma que los residuos.**"
   ]
  },
  {
   "cell_type": "markdown",
   "id": "fadeea05",
   "metadata": {},
   "source": [
    "### Veamos entonces como se distribuyen los residuos:"
   ]
  },
  {
   "cell_type": "code",
   "execution_count": null,
   "id": "fb4dd0d2",
   "metadata": {},
   "outputs": [],
   "source": [
    "res<-resid(mod_red)\n",
    "hist(res)"
   ]
  },
  {
   "cell_type": "code",
   "execution_count": null,
   "id": "e0987ce2",
   "metadata": {},
   "outputs": [],
   "source": [
    "descdist(res)"
   ]
  },
  {
   "cell_type": "code",
   "execution_count": null,
   "id": "53db306b",
   "metadata": {},
   "outputs": [],
   "source": [
    "plot.legend<-c(\"Normal\", \"Uniforme\")\n",
    "a_norm<-fitdist(res, \"norm\")\n",
    "a_unif<-fitdist(res, \"unif\")\n",
    "\n",
    "denscomp(list(a_norm,a_unif),fitcol=c(2,4), legendtext=plot.legend)"
   ]
  },
  {
   "cell_type": "code",
   "execution_count": null,
   "id": "3688197a",
   "metadata": {},
   "outputs": [],
   "source": [
    "gofval <- gofstat(list(a_norm,a_unif),fitnames=c(\"norm\",\"unif\"))\n",
    "gofval"
   ]
  },
  {
   "cell_type": "code",
   "execution_count": null,
   "id": "5a53de30",
   "metadata": {},
   "outputs": [],
   "source": [
    "pv.chi.norm <- gofval$chisqpvalue[\"norm\"]\n",
    "pv.chi.unif <- gofval$chisqpvalue[\"unif\"]\n",
    "pv.cvm <- nortest::cvm.test(res)$p.value  #Solamente para Normal \n",
    "pv.ad <-  nortest::ad.test(res)$p.value   #Solamente para Normal \n",
    "pv.ks <- nortest::lillie.test(res)$p.value  #Solamente para Normal \n",
    "pv.pea <-  nortest::pearson.test(res)$p.value   #Solamente para Normal \n",
    "\n",
    "pvalue_norm <- data.frame(ChiC=pv.chi.norm,CvM=pv.cvm,AD=pv.ad,KS=pv.ks,PEA=pv.pea)\n",
    "pvalue_norm <- rbind(pvalue_norm,data.frame(ChiC=pv.chi.unif,CvM=NaN,AD=NaN,KS=NaN,PEA=NaN))\n",
    "pvalue_norm"
   ]
  },
  {
   "cell_type": "markdown",
   "id": "36fa2473",
   "metadata": {},
   "source": [
    "### Vemos que la distribución Normal provee un ajuste aceptable a los residuos."
   ]
  },
  {
   "cell_type": "markdown",
   "id": "d09e39ae",
   "metadata": {},
   "source": [
    "### O sea, para un valor **fijo** de $X=X_0$ (en el ejemplo, demanda pronosticada), la variable $Y$ tiene(aproximadamente) distribucion Normal con"
   ]
  },
  {
   "cell_type": "markdown",
   "id": "148c5166",
   "metadata": {},
   "source": [
    "### media = $a + bX_0$,  y desviación estandar=D.E. de los residuos."
   ]
  },
  {
   "cell_type": "code",
   "execution_count": null,
   "id": "d2bf2eea",
   "metadata": {},
   "outputs": [],
   "source": [
    "\n",
    "\n",
    "\n",
    "\n",
    "\n"
   ]
  },
  {
   "cell_type": "markdown",
   "id": "201b4331",
   "metadata": {},
   "source": [
    "## Volvamos al caso original (precio vs. demanda, hora, etc.)\n"
   ]
  },
  {
   "cell_type": "markdown",
   "id": "bd49fa5c",
   "metadata": {},
   "source": [
    "### Analicemos los residuos"
   ]
  },
  {
   "cell_type": "code",
   "execution_count": null,
   "id": "c8ab9c77",
   "metadata": {},
   "outputs": [],
   "source": [
    "res7<-resid(mod7)\n",
    "hist(res7)"
   ]
  },
  {
   "cell_type": "code",
   "execution_count": null,
   "id": "8cda04d3",
   "metadata": {},
   "outputs": [],
   "source": [
    "descdist(res7)"
   ]
  },
  {
   "cell_type": "code",
   "execution_count": null,
   "id": "f24b6af0",
   "metadata": {},
   "outputs": [],
   "source": [
    "a_norm<-fitdist(res7, \"norm\")\n",
    "denscomp(a_norm,fitcol=2, legendtext=plot.legend)"
   ]
  },
  {
   "cell_type": "code",
   "execution_count": null,
   "id": "9f9b1a6f",
   "metadata": {},
   "outputs": [],
   "source": [
    "ppcomp(a_norm)"
   ]
  },
  {
   "cell_type": "code",
   "execution_count": null,
   "id": "f0ca81ae",
   "metadata": {},
   "outputs": [],
   "source": [
    "qqcomp(a_norm)"
   ]
  },
  {
   "cell_type": "markdown",
   "id": "7dff93ab",
   "metadata": {},
   "source": [
    "### Utilicemos la D.E. de los residuos para calcular el error del pronóstico; el argumento int=\"p\" de la función *predict* hace justamente eso"
   ]
  },
  {
   "cell_type": "code",
   "execution_count": null,
   "id": "3c814572",
   "metadata": {},
   "outputs": [],
   "source": [
    "pron_horario <- predict(mod7,newdata=test7,level=0.95,int=\"p\")   #Añade intervalo de predicción\n",
    "#head(fore_hour)\n",
    "\n",
    "\n",
    "#Arma el dataframe con los datos pronosticados\n",
    "types <- c(\"precio\"=\"real\", \"fit\"=\"pronóstico\",\"lwr\"=\"inf\",\"upr\"=\"sup\")\n",
    "horas <- data.frame(hora=0:23)\n",
    "pron.df <- cbind(horas,pron_horario)\n",
    "#head(pron.df)\n",
    "pron <- pron.df %>% tidyr::gather(\"type\", \"precios\", 2:4) \n",
    "#head(pron)\n",
    "plot.pronostico <- ggplot(pron,aes(hora,precios,group=type,color=types[type]))+\n",
    "                     geom_line()+\n",
    "                     labs(x = 'Hora', y = 'Precios',\n",
    "                          title='Pronóstico 95% para el día 31/7/2018',\n",
    "                          color=\"Precios:\")+\n",
    "                      mytheme\n",
    "                 \n",
    "plot.pronostico"
   ]
  },
  {
   "cell_type": "code",
   "execution_count": null,
   "id": "e739dde0",
   "metadata": {},
   "outputs": [],
   "source": [
    "\n",
    "\n",
    "\n",
    "\n",
    "\n",
    "\n"
   ]
  },
  {
   "cell_type": "markdown",
   "id": "13d3a115",
   "metadata": {},
   "source": [
    "### ¿Cómo se compara con el  pronóstico anterior que habíamos hecho sin tomar en cuenta la información adicional?"
   ]
  },
  {
   "cell_type": "code",
   "execution_count": null,
   "id": "64c82bc8",
   "metadata": {},
   "outputs": [],
   "source": [
    "sprintf(\"Pronóstico del precio (95 %%): [%5.2f, %5.2f]\",mu-1.96*sigma,mu+1.96*sigma )"
   ]
  },
  {
   "cell_type": "code",
   "execution_count": null,
   "id": "58336af1",
   "metadata": {},
   "outputs": [],
   "source": [
    "\n",
    "\n",
    "\n",
    "\n",
    "\n",
    "\n",
    "\n",
    "\n",
    "\n",
    "\n",
    "\n"
   ]
  },
  {
   "cell_type": "markdown",
   "id": "26f282eb",
   "metadata": {},
   "source": [
    "### ¿Cómo se compara con el  pronóstico con los valores reales observados?"
   ]
  },
  {
   "cell_type": "code",
   "execution_count": null,
   "id": "ebd0417f",
   "metadata": {},
   "outputs": [],
   "source": [
    "\n",
    "real.df <- cbind(horas,price7_test)\n",
    "#head(real.df)\n",
    "real <- real.df %>% tidyr::gather(\"type\", \"precios\", 2) \n",
    "#head(real)\n",
    "                 \n",
    "plot.pronostico+geom_line(data=real,aes(hora,precios,color=types[type]))\n",
    "\n",
    "\n",
    "\n",
    "\n"
   ]
  },
  {
   "cell_type": "code",
   "execution_count": null,
   "id": "2ad52c1d",
   "metadata": {},
   "outputs": [],
   "source": []
  }
 ],
 "metadata": {
  "kernelspec": {
   "display_name": "R",
   "language": "R",
   "name": "ir"
  },
  "language_info": {
   "codemirror_mode": "r",
   "file_extension": ".r",
   "mimetype": "text/x-r-source",
   "name": "R",
   "pygments_lexer": "r",
   "version": "3.6.3"
  },
  "toc": {
   "base_numbering": 1,
   "nav_menu": {},
   "number_sections": true,
   "sideBar": true,
   "skip_h1_title": false,
   "title_cell": "Table of Contents",
   "title_sidebar": "Contents",
   "toc_cell": false,
   "toc_position": {},
   "toc_section_display": true,
   "toc_window_display": false
  },
  "varInspector": {
   "cols": {
    "lenName": 16,
    "lenType": 16,
    "lenVar": 40
   },
   "kernels_config": {
    "python": {
     "delete_cmd_postfix": "",
     "delete_cmd_prefix": "del ",
     "library": "var_list.py",
     "varRefreshCmd": "print(var_dic_list())"
    },
    "r": {
     "delete_cmd_postfix": ") ",
     "delete_cmd_prefix": "rm(",
     "library": "var_list.r",
     "varRefreshCmd": "cat(var_dic_list()) "
    }
   },
   "types_to_exclude": [
    "module",
    "function",
    "builtin_function_or_method",
    "instance",
    "_Feature"
   ],
   "window_display": false
  }
 },
 "nbformat": 4,
 "nbformat_minor": 5
}
