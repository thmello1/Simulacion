{
 "cells": [
  {
   "cell_type": "markdown",
   "id": "bda2bf27",
   "metadata": {
    "slideshow": {
     "slide_type": "slide"
    }
   },
   "source": [
    "# Clase 2: Ilustración de la Ley Fuerte de los Grandes Números\n",
    "\n",
    "   Prof. Tito Homem-de-Mello"
   ]
  },
  {
   "cell_type": "markdown",
   "id": "c2754a00",
   "metadata": {},
   "source": [
    "## Tomaremos como ejemplo 100 lanzamientos de un dado de 6 caras"
   ]
  },
  {
   "cell_type": "markdown",
   "id": "cf90b160",
   "metadata": {
    "slideshow": {
     "slide_type": "slide"
    }
   },
   "source": [
    "### Primero, carguemos algunas bibliotecas necesarias"
   ]
  },
  {
   "cell_type": "code",
   "execution_count": null,
   "id": "24ae549a",
   "metadata": {},
   "outputs": [],
   "source": [
    "#install.packages('tidyr')\n",
    "#install.packages('ggplot2')"
   ]
  },
  {
   "cell_type": "code",
   "execution_count": null,
   "id": "85f47879",
   "metadata": {
    "slideshow": {
     "slide_type": "slide"
    }
   },
   "outputs": [],
   "source": [
    "library(stats)\n",
    "library(purrr)\n",
    "library(tidyr)\n",
    "library(ggplot2)"
   ]
  },
  {
   "cell_type": "markdown",
   "id": "3f49b9cf",
   "metadata": {
    "heading_collapsed": true,
    "slideshow": {
     "slide_type": "slide"
    }
   },
   "source": [
    "### Calculemos medias de $n$ lanzamientos, $n=1,\\ldots,100$"
   ]
  },
  {
   "cell_type": "code",
   "execution_count": null,
   "id": "df1a089b",
   "metadata": {
    "hidden": true,
    "slideshow": {
     "slide_type": "slide"
    }
   },
   "outputs": [],
   "source": [
    "mu <- mean(1:6) #Verdadera media\n",
    "sigma <- sd(1:6) #verdadera desviacion estandar\n",
    "N <- 100 #Nro. de lanzamientos \n",
    "medias <- vector(\"double\",N)  #Inicialización\n",
    "sN <- vector(\"double\",N) \n",
    "\n",
    "u <- rdunif(N,1,6) #Sortea N muestras de una Uniforme(1,2,...6)\n",
    "medias <- cumsum(u) / 1:N #Calcula media de los primeros n elementos, n=1,...N\n"
   ]
  },
  {
   "cell_type": "markdown",
   "id": "326371ad",
   "metadata": {
    "heading_collapsed": true,
    "slideshow": {
     "slide_type": "slide"
    }
   },
   "source": [
    "### Gráfico de las medias"
   ]
  },
  {
   "cell_type": "code",
   "execution_count": null,
   "id": "a3cb910b",
   "metadata": {
    "hidden": true,
    "slideshow": {
     "slide_type": "slide"
    }
   },
   "outputs": [],
   "source": [
    "medias_df <- as.data.frame(medias)\n",
    "medias_df$n <- 1:N\n",
    "ggplot(medias_df, aes(n,medias)) +\n",
    "        theme(plot.title = element_text(size = 25),\n",
    "              axis.title.y=element_text(size = 20),\n",
    "              axis.title.x=element_text(size = 20))+\n",
    "        geom_line()+\n",
    "        labs(y=\"Medias de los primeros n valores\",\n",
    "             title=\"Gráfico de medias\")"
   ]
  },
  {
   "cell_type": "markdown",
   "id": "cd4b2339",
   "metadata": {},
   "source": [
    "### Qué concluimos?"
   ]
  },
  {
   "cell_type": "code",
   "execution_count": null,
   "id": "af5fe323",
   "metadata": {},
   "outputs": [],
   "source": [
    "\n",
    "\n",
    "\n",
    "\n",
    "\n",
    "\n",
    "\n",
    "\n",
    "\n",
    "\n",
    "\n",
    "\n",
    "\n",
    "\n",
    "\n",
    "\n",
    "\n",
    "\n",
    "\n",
    "\n",
    "\n",
    "\n"
   ]
  },
  {
   "cell_type": "markdown",
   "id": "d919251e",
   "metadata": {
    "heading_collapsed": true
   },
   "source": [
    "### Pero ese es apenas 1 experimento! Repitámoslo más veces"
   ]
  },
  {
   "cell_type": "code",
   "execution_count": null,
   "id": "84a0152a",
   "metadata": {
    "hidden": true
   },
   "outputs": [],
   "source": [
    "nrep <- 5 #2,5,50,200\n",
    "{\n",
    "  medias_rep <- array(rep(0,nrep*N),dim=c(N,nrep))\n",
    "\n",
    "  for (r in 1:nrep)\n",
    "  {\n",
    "    u <- rdunif(N,1,6)\n",
    "    medias_rep[,r] <- cumsum(u) / 1:N \n",
    "    sN[r] <- sd(u)\n",
    "  }\n",
    "    \n",
    "    medias_df <- as.data.frame(medias_rep)\n",
    "    medias_df$n <- 1:N\n",
    "    plotdata <- medias_df %>% tidyr::gather(\"rep\", \"media\", 1:nrep) \n",
    "    ggplot(plotdata, aes(n,media,group=rep,color=rep)) +\n",
    "        geom_line(show.legend = F)+\n",
    "        theme(plot.title = element_text(size = 25),\n",
    "              axis.title.y=element_text(size = 20),\n",
    "              axis.title.x=element_text(size = 20))+\n",
    "        labs(y=\"Medias de los primeros n valores\",\n",
    "            title=paste0(\"Gráfico de medias para \",nrep,\" repeticiones\"))\n",
    "}\n"
   ]
  },
  {
   "cell_type": "code",
   "execution_count": null,
   "id": "32c04b15",
   "metadata": {
    "hidden": true
   },
   "outputs": [],
   "source": []
  }
 ],
 "metadata": {
  "kernelspec": {
   "display_name": "R",
   "language": "R",
   "name": "ir"
  },
  "language_info": {
   "codemirror_mode": "r",
   "file_extension": ".r",
   "mimetype": "text/x-r-source",
   "name": "R",
   "pygments_lexer": "r",
   "version": "4.2.1"
  },
  "toc": {
   "base_numbering": 1,
   "nav_menu": {},
   "number_sections": true,
   "sideBar": true,
   "skip_h1_title": false,
   "title_cell": "Table of Contents",
   "title_sidebar": "Contents",
   "toc_cell": false,
   "toc_position": {},
   "toc_section_display": true,
   "toc_window_display": false
  },
  "varInspector": {
   "cols": {
    "lenName": 16,
    "lenType": 16,
    "lenVar": 40
   },
   "kernels_config": {
    "python": {
     "delete_cmd_postfix": "",
     "delete_cmd_prefix": "del ",
     "library": "var_list.py",
     "varRefreshCmd": "print(var_dic_list())"
    },
    "r": {
     "delete_cmd_postfix": ") ",
     "delete_cmd_prefix": "rm(",
     "library": "var_list.r",
     "varRefreshCmd": "cat(var_dic_list()) "
    }
   },
   "types_to_exclude": [
    "module",
    "function",
    "builtin_function_or_method",
    "instance",
    "_Feature"
   ],
   "window_display": false
  }
 },
 "nbformat": 4,
 "nbformat_minor": 5
}
