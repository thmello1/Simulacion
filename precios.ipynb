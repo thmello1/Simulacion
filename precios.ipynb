{
 "cells": [
  {
   "cell_type": "markdown",
   "id": "77fcdea6",
   "metadata": {},
   "source": [
    "# Clase 4: Simulación del modelo de precios "
   ]
  },
  {
   "cell_type": "markdown",
   "id": "cf2885fa",
   "metadata": {},
   "source": [
    "Prof. Tito Homem-de-Mello"
   ]
  },
  {
   "cell_type": "code",
   "execution_count": null,
   "id": "ce19fe1c",
   "metadata": {},
   "outputs": [],
   "source": [
    "library(purrr)\n",
    "library(ggplot2)\n",
    "library(data.table)"
   ]
  },
  {
   "cell_type": "markdown",
   "id": "e4591f89",
   "metadata": {},
   "source": [
    "### Parámetros del modelo"
   ]
  },
  {
   "cell_type": "code",
   "execution_count": null,
   "id": "ea41afa8",
   "metadata": {},
   "outputs": [],
   "source": [
    "P0 <- 100  #Precio actual\n",
    "mu <- 0.08 #Drift (anual)\n",
    "sigma <- 0.12 #Volatilidad (anual)\n",
    "T <- 0.5 #Horizonte (años)"
   ]
  },
  {
   "cell_type": "markdown",
   "id": "f2760f50",
   "metadata": {},
   "source": [
    "### Generamos $N$ muestras de los precios en el periodo $T$: $$P(T)=P(0)\\exp\\left((\\mu-\\sigma^2/2)T,\\sigma\\sqrt{T}\\,Z\\right), \\quad Z\\sim \\text{Normal}(0,1)$$"
   ]
  },
  {
   "cell_type": "code",
   "execution_count": null,
   "id": "561da011",
   "metadata": {},
   "outputs": [],
   "source": [
    "N <- 500\n",
    "log_cambio <- (mu-sigma^2/2)*T + sigma*sqrt(T)*rnorm(N,0,1)\n",
    "PT <- P0*exp(log_cambio)"
   ]
  },
  {
   "cell_type": "markdown",
   "id": "f6d2bd35",
   "metadata": {},
   "source": [
    "\n",
    "\n",
    "\n",
    "\n",
    "\n",
    "\n",
    "\n",
    "\n",
    "\n",
    "\n",
    "\n",
    "\n",
    "\n",
    "\n",
    "\n",
    "\n"
   ]
  },
  {
   "cell_type": "markdown",
   "id": "6a20195c",
   "metadata": {},
   "source": [
    "### Extraimos los precios, veamos un histograma"
   ]
  },
  {
   "cell_type": "code",
   "execution_count": null,
   "id": "e4eea357",
   "metadata": {},
   "outputs": [],
   "source": [
    "bin <- 5\n",
    "plotfig <- ggplot(as.data.frame(PT),aes(PT))+\n",
    "        theme(plot.title = element_text(size = 18),\n",
    "              axis.title.y=element_text(size = 20),\n",
    "              axis.title.x=element_text(size = 20))\n",
    " \n",
    "p <- plotfig+geom_histogram(aes(y = after_stat(count /(sum(count)))), binwidth=bin, color=\"black\", fill=\"gray\")+\n",
    "       labs(x=\"precio\",\n",
    "            y=\"frecuencia\",\n",
    "            title=paste0(\"Histograma de las \",N,\" simulaciones del precio final\"))\n",
    "\n",
    "p <- p+ geom_vline(aes(xintercept=mean(PT)),\n",
    "            color=\"blue\", linetype=\"dashed\", size=1)\n",
    "           \n",
    "p "
   ]
  },
  {
   "cell_type": "code",
   "execution_count": null,
   "id": "36a5ad0d",
   "metadata": {},
   "outputs": [],
   "source": [
    "\n",
    "\n",
    "\n",
    "\n",
    "\n",
    "\n",
    "\n",
    "\n",
    "\n"
   ]
  },
  {
   "cell_type": "markdown",
   "id": "469f4532",
   "metadata": {},
   "source": [
    "### Ahora veamos un boxplot"
   ]
  },
  {
   "cell_type": "code",
   "execution_count": null,
   "id": "4a4cc60b",
   "metadata": {},
   "outputs": [],
   "source": [
    "plotfig+ geom_boxplot(fill=\"gray\")+\n",
    "         labs(x=\"precio\",\n",
    "              title=paste0(\"Boxplot de las \",N,\" simulaciones del precio final\"))"
   ]
  },
  {
   "cell_type": "code",
   "execution_count": null,
   "id": "4b102175",
   "metadata": {},
   "outputs": [],
   "source": [
    "\n",
    "\n",
    "\n",
    "\n",
    "\n",
    "\n",
    "\n"
   ]
  },
  {
   "cell_type": "markdown",
   "id": "c16834e8",
   "metadata": {},
   "source": [
    "### Calculemos cuantiles"
   ]
  },
  {
   "cell_type": "code",
   "execution_count": null,
   "id": "93ca9f58",
   "metadata": {
    "scrolled": false
   },
   "outputs": [],
   "source": [
    "quantile(PT,probs=0.60) "
   ]
  },
  {
   "cell_type": "code",
   "execution_count": null,
   "id": "30fb40cb",
   "metadata": {},
   "outputs": [],
   "source": [
    "\n",
    "\n",
    "\n",
    "\n",
    "\n",
    "\n",
    "\n",
    "\n"
   ]
  },
  {
   "cell_type": "markdown",
   "id": "e042503a",
   "metadata": {},
   "source": [
    "### Veamos el gráfico de la cdf empirica"
   ]
  },
  {
   "cell_type": "code",
   "execution_count": null,
   "id": "421b00db",
   "metadata": {},
   "outputs": [],
   "source": [
    "pfin <-  plotfig+geom_function(fun=ecdf(PT))+\n",
    "         xlim(70,140)+\n",
    "         labs(x=\"precio\",y=\"F_N(x)\",\n",
    "              title=paste0(\"Distr. empírica de las \",N,\" simulaciones del precio final\")) \n",
    "pfin"
   ]
  },
  {
   "cell_type": "code",
   "execution_count": null,
   "id": "98ba2409",
   "metadata": {},
   "outputs": [],
   "source": [
    "\n",
    "\n",
    "\n",
    "\n",
    "\n",
    "\n",
    "\n",
    "\n"
   ]
  },
  {
   "cell_type": "markdown",
   "id": "cf4ff128",
   "metadata": {},
   "source": [
    "### Porcentaje de datos menor que un valor específico (p.e. \\$105)"
   ]
  },
  {
   "cell_type": "code",
   "execution_count": null,
   "id": "e8ce80b2",
   "metadata": {},
   "outputs": [],
   "source": [
    "e <- ecdf(PT)  #función distribución empírica \n",
    "\n",
    "sprintf(\"Probabilidad que precio final<=%5.2f = %5.2f\",105,e(105))"
   ]
  },
  {
   "cell_type": "code",
   "execution_count": null,
   "id": "30fc207b",
   "metadata": {},
   "outputs": [],
   "source": [
    "\n",
    "\n",
    "\n",
    "\n",
    "\n",
    "\n",
    "\n",
    "\n",
    "\n",
    "\n"
   ]
  },
  {
   "cell_type": "markdown",
   "id": "d1a41b1b",
   "metadata": {},
   "source": [
    "### Calculemos un intervalo de confianza para el precio ESPERADO en $T$"
   ]
  },
  {
   "cell_type": "code",
   "execution_count": null,
   "id": "c0b993f0",
   "metadata": {},
   "outputs": [],
   "source": [
    "m <- mean(PT)\n",
    "lower <- m-1.96*sd(PT)/sqrt(N)\n",
    "upper <- m+1.96*sd(PT)/sqrt(N)\n",
    "\n",
    "sprintf(\"Media=%5.2f\",m)\n",
    "sprintf(\"Intervalo de confianza 95%%: [%5.2f,%5.2f]\",lower,upper)"
   ]
  },
  {
   "cell_type": "code",
   "execution_count": null,
   "id": "ff85fc8d",
   "metadata": {},
   "outputs": [],
   "source": [
    "\n",
    "\n",
    "\n",
    "\n",
    "\n",
    "\n",
    "\n",
    "\n",
    "\n",
    "\n",
    "\n"
   ]
  },
  {
   "cell_type": "markdown",
   "id": "e5a807d4",
   "metadata": {},
   "source": [
    "### ¿Qué concluimos? ¿Que en  PROMEDIO el precio de esa acción sube en torno a 4%?"
   ]
  },
  {
   "cell_type": "code",
   "execution_count": null,
   "id": "1b92c1c0",
   "metadata": {},
   "outputs": [],
   "source": [
    "\n",
    "\n",
    "\n",
    "\n",
    "\n",
    "\n",
    "\n",
    "\n",
    "\n",
    "\n",
    "\n",
    "\n",
    "\n",
    "\n",
    "\n",
    "\n"
   ]
  },
  {
   "cell_type": "markdown",
   "id": "46c982b8",
   "metadata": {},
   "source": [
    "### OJO! No podemos comparar valores monetarios en periodos distintos. Hay que corregirlos usando una tasa de descuento $r$:"
   ]
  },
  {
   "cell_type": "markdown",
   "id": "b40740c0",
   "metadata": {},
   "source": [
    "### $P_0(t)=P(t)*e^{-rt}$   (valor $P(t)$ en el periodo 0)"
   ]
  },
  {
   "cell_type": "markdown",
   "id": "7ca1e103",
   "metadata": {},
   "source": [
    "### o"
   ]
  },
  {
   "cell_type": "markdown",
   "id": "edb85c74",
   "metadata": {},
   "source": [
    "### $P_t(0)=P(0)*e^{rt}$   (valor $P(0)$ en el periodo t)"
   ]
  },
  {
   "cell_type": "markdown",
   "id": "3b09b3ff",
   "metadata": {},
   "source": [
    "### Por ejemplo, el valor del precio inicial corregido a $T=$6 meses (=$0,5$ años), a una tasa anual de $r$=3%, es\n",
    "\n",
    "### $P_T(0)=P(0)*e^{rT}$"
   ]
  },
  {
   "cell_type": "code",
   "execution_count": null,
   "id": "026e7c5d",
   "metadata": {},
   "outputs": [],
   "source": [
    "r <- 0.03  #Tasa anual\n",
    "P0_T  <- P0*exp(r*0.5)\n",
    "sprintf(\"Precio inicial corregido al periodo T=%5.2f\",P0_T)"
   ]
  },
  {
   "cell_type": "code",
   "execution_count": null,
   "id": "f7533643",
   "metadata": {},
   "outputs": [],
   "source": [
    "\n",
    "\n",
    "\n",
    "\n",
    "\n",
    "\n",
    "\n",
    "\n",
    "\n",
    "\n",
    "\n",
    "\n",
    "\n",
    "\n",
    "\n",
    "\n"
   ]
  },
  {
   "cell_type": "markdown",
   "id": "886e75fc",
   "metadata": {},
   "source": [
    "## Ploteemos ahora una evolución de precios"
   ]
  },
  {
   "cell_type": "markdown",
   "id": "fb5c4e1e",
   "metadata": {},
   "source": [
    "### Tenemos que generar los precios para cada semana; para ello, generamos el precio de la semana $t$ (o sea, periodo $t/52$) en función del precio en la semana $t-1$ (periodo $(t-1)/52$): $$P(t)=P(t-1)\\exp\\left((\\mu-\\sigma^2/2)\\frac{1}{52},\\sigma\\sqrt{\\frac{1}{52}}\\,Z_t, \\quad Z_t\\sim \\text{Normal}(0,1)\\right)$$"
   ]
  },
  {
   "cell_type": "code",
   "execution_count": null,
   "id": "6e7ca9ff",
   "metadata": {},
   "outputs": [],
   "source": [
    "set.seed(123)\n",
    "N <- 501\n",
    "\n",
    "nsem <- 26 #Nro de semanas en T=6 meses\n",
    "nsem_anio <- 52 #Nro de semanas en un anio\n",
    "precios <- array(rep(0,N*(nsem+1)),dim=c(N,nsem+1))\n",
    "precios[,1] <- P0\n",
    "for (t in 1:nsem)\n",
    "    {\n",
    "      log_cambio <- (mu-sigma^2/2)*(1/nsem_anio) + sigma*sqrt(1/nsem_anio)*rnorm(N,0,1)\n",
    "      precios[,t+1] <- precios[,t]*exp(log_cambio)\n",
    "    }\n",
    "\n"
   ]
  },
  {
   "cell_type": "code",
   "execution_count": null,
   "id": "18d4d1a5",
   "metadata": {},
   "outputs": [],
   "source": [
    "Nsim <- 1\n",
    "precios_df <- as.data.frame(precios[1:(Nsim+1),])\n",
    "names(precios_df) <- 0:nsem\n",
    "precios_df$n <- 1:(Nsim+1)\n",
    "plotdata <- precios_df %>% tidyr::gather(\"semana\", \"precio\",0:nsem+1) \n",
    "plotdata <- data.table(plotdata)\n",
    "plotfig <- ggplot(plotdata[n<=Nsim], aes(as.numeric(semana),precio,group=n,color=n)) +\n",
    "            geom_line(show.legend = F)+\n",
    "            ylim(70,140)+\n",
    "            theme(plot.title = element_text(size = 18),\n",
    "                  axis.title.y=element_text(size = 20),\n",
    "                  axis.title.x=element_text(size = 20))+\n",
    "            labs(y=\"Precio\",\n",
    "                x=\"Semana\",\n",
    "                title=paste0(\"Gráfico de precios para \",Nsim,\" simulaciones de \",nsem,\" semanas\"))\n",
    "\n",
    "rsem <- r/nsem_anio #tasa semanal\n",
    "cons <- data.frame(n=N+1,semana=0:nsem,precio=P0*exp(rsem*(0:nsem))) #Para graficar valor constante=P0 corregido\n",
    "plotfig+geom_line(data=cons,color=\"red\")"
   ]
  },
  {
   "cell_type": "code",
   "execution_count": null,
   "id": "ac140b0d",
   "metadata": {},
   "outputs": [],
   "source": [
    "\n",
    "\n",
    "\n",
    "\n",
    "\n",
    "\n",
    "\n",
    "\n",
    "\n",
    "\n",
    "\n",
    "\n",
    "\n",
    "\n",
    "\n"
   ]
  },
  {
   "cell_type": "markdown",
   "id": "9041c26b",
   "metadata": {},
   "source": [
    "### Veamos un histograma de los precios en una semana arbitraria"
   ]
  },
  {
   "cell_type": "code",
   "execution_count": null,
   "id": "6682289e",
   "metadata": {},
   "outputs": [],
   "source": [
    "sem=10 #nsem\n",
    "plotfig <- ggplot(plotdata[(semana==sem) & (n<=Nsim)],aes(precio))+\n",
    "        theme(plot.title = element_text(size = 15),\n",
    "              axis.title.y=element_text(size = 20),\n",
    "              axis.title.x=element_text(size = 20))\n",
    " \n",
    "p <- plotfig+geom_histogram(aes(y = after_stat(count / sum(count))), binwidth=5, color=\"black\", fill=\"gray\")+\n",
    "       labs(x=\"precio\",\n",
    "            y=\"frecuencia\",\n",
    "            title=paste0(\"Histograma de las \",Nsim,\" simulaciones del precio en la semana \",sem))\n",
    "\n",
    "p <- p+ geom_vline(aes(xintercept=P0*exp(rsem*sem)), #Valor inicial corregido a la semana indicada\n",
    "            color=\"red\", linetype=\"dashed\", size=1)\n",
    "            \n",
    "p "
   ]
  },
  {
   "cell_type": "markdown",
   "id": "7f9dbbae",
   "metadata": {},
   "source": [
    "### Veamos la distribución empírica en el periodo final"
   ]
  },
  {
   "cell_type": "code",
   "execution_count": null,
   "id": "e4058357",
   "metadata": {},
   "outputs": [],
   "source": [
    "plotfig_emp <- plotfig+geom_function(fun=ecdf(plotdata[(semana==nsem) & (n<=Nsim),precio]), color=\"black\")+\n",
    "                xlim(70,140)+\n",
    "                labs(x=\"precio\",y=\"F_N(x)\",\n",
    "                title=paste0(\"Distr. empírica de las \",Nsim,\" simulaciones del precio final\")) \n",
    "plotfig_emp\n"
   ]
  },
  {
   "cell_type": "markdown",
   "id": "754da582",
   "metadata": {},
   "source": [
    "### Comparemos con la simulación anterior, cuando simulamos directamente el periodo $T$:"
   ]
  },
  {
   "cell_type": "code",
   "execution_count": null,
   "id": "6005cecc",
   "metadata": {},
   "outputs": [],
   "source": [
    "plotfig_emp+geom_function(fun=ecdf(PT), color=\"red\")"
   ]
  },
  {
   "cell_type": "markdown",
   "id": "ed0630e5",
   "metadata": {},
   "source": [
    "### Comparemos ahora ambas distribuciones con la distribución teórica, i.e. $$\\frac{P(T)}{P(0)} \\sim \\text{Lognormal}\\left((\\mu-\\sigma^2/2)T,\\sigma\\sqrt{T}\\right)$$"
   ]
  },
  {
   "cell_type": "code",
   "execution_count": null,
   "id": "5039f98c",
   "metadata": {},
   "outputs": [],
   "source": [
    "plotfig+geom_function(fun=ecdf(plotdata[(semana==nsem) & (n<=Nsim),precio]/P0), color=\"black\")+\n",
    "        geom_function(fun=ecdf(PT/P0), color=\"red\")+\n",
    "        geom_function(fun=plnorm,args=list((mu-sigma^2/2)*T,sigma*sqrt(T)),color=\"blue\")+\n",
    "        xlim(0.7,1.40)+\n",
    "        labs(x=\"precio\",y=\"F_N(x)\",\n",
    "        title=paste0(\"Distr. empírica de las \",Nsim,\" simulaciones del precio final\")) \n"
   ]
  },
  {
   "cell_type": "code",
   "execution_count": null,
   "id": "5dd5cc42",
   "metadata": {},
   "outputs": [],
   "source": []
  }
 ],
 "metadata": {
  "kernelspec": {
   "display_name": "R",
   "language": "R",
   "name": "ir"
  },
  "language_info": {
   "codemirror_mode": "r",
   "file_extension": ".r",
   "mimetype": "text/x-r-source",
   "name": "R",
   "pygments_lexer": "r",
   "version": "3.6.3"
  },
  "toc": {
   "base_numbering": 1,
   "nav_menu": {},
   "number_sections": true,
   "sideBar": true,
   "skip_h1_title": false,
   "title_cell": "Table of Contents",
   "title_sidebar": "Contents",
   "toc_cell": false,
   "toc_position": {},
   "toc_section_display": true,
   "toc_window_display": false
  },
  "varInspector": {
   "cols": {
    "lenName": 16,
    "lenType": 16,
    "lenVar": 40
   },
   "kernels_config": {
    "python": {
     "delete_cmd_postfix": "",
     "delete_cmd_prefix": "del ",
     "library": "var_list.py",
     "varRefreshCmd": "print(var_dic_list())"
    },
    "r": {
     "delete_cmd_postfix": ") ",
     "delete_cmd_prefix": "rm(",
     "library": "var_list.r",
     "varRefreshCmd": "cat(var_dic_list()) "
    }
   },
   "position": {
    "height": "144px",
    "left": "1264px",
    "right": "20px",
    "top": "121px",
    "width": "350px"
   },
   "types_to_exclude": [
    "module",
    "function",
    "builtin_function_or_method",
    "instance",
    "_Feature"
   ],
   "window_display": false
  }
 },
 "nbformat": 4,
 "nbformat_minor": 5
}
