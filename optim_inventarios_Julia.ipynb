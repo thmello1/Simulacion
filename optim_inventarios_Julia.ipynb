{
 "cells": [
  {
   "cell_type": "markdown",
   "id": "63734299",
   "metadata": {},
   "source": [
    "# Clase 14: Optimización modelo de inventarios (en Julia)"
   ]
  },
  {
   "cell_type": "markdown",
   "id": "f5ea0cb5",
   "metadata": {},
   "source": [
    " Prof. Tito Homem-de-Mello"
   ]
  },
  {
   "cell_type": "code",
   "execution_count": null,
   "id": "7826cc1d",
   "metadata": {},
   "outputs": [],
   "source": [
    "#import Pkg; Pkg.add(\"JuMP\");\n",
    "#import Pkg; Pkg.add(\"HiGHS\"); \n",
    "#import Pkg; Pkg.add(\"Statistics\");\n",
    "#import Pkg; Pkg.add(\"Random\");\n",
    "#import Pkg; Pkg.add(\"Distributions\");"
   ]
  },
  {
   "cell_type": "code",
   "execution_count": null,
   "id": "cf0f5b2a",
   "metadata": {},
   "outputs": [],
   "source": [
    "using JuMP\n",
    "using HiGHS\n",
    "using Statistics\n",
    "using Random\n",
    "using Distributions"
   ]
  },
  {
   "cell_type": "markdown",
   "id": "eeb7048e",
   "metadata": {},
   "source": [
    "### Parámetros del modelo:"
   ]
  },
  {
   "cell_type": "code",
   "execution_count": null,
   "id": "3dbc993c",
   "metadata": {},
   "outputs": [],
   "source": [
    "r = 300   #Precio de compra\n",
    "v =  1500  #Precio de venta\n",
    "h = r     #Costo inventario\n",
    "q = v     #Costo quiebre de inventario"
   ]
  },
  {
   "cell_type": "markdown",
   "id": "07ef1658",
   "metadata": {},
   "source": [
    "## Veamos el caso general con *N muestras*. \n"
   ]
  },
  {
   "cell_type": "markdown",
   "id": "46712501",
   "metadata": {},
   "source": [
    "### Queremos resolver\n",
    "### $\\max_{s\\geq 0}⁡ \\frac{1}{N} \\sum_{n=1}^N U(s,D_n)$\n",
    "\n",
    "### donde\n",
    "### $U(s,D)=−[h∗\\max (s-D,0)+q∗\\max (D-s,0)]+ (v-r)∗D$"
   ]
  },
  {
   "cell_type": "markdown",
   "id": "bccc1765",
   "metadata": {},
   "source": [
    "### Primero generamos $N=100$ muestras de la demanda:"
   ]
  },
  {
   "cell_type": "code",
   "execution_count": null,
   "id": "51f22add",
   "metadata": {},
   "outputs": [],
   "source": [
    "N = 100\n",
    "Distr = DiscreteUniform(100,400)\n",
    "D = rand(Distr,N);"
   ]
  },
  {
   "cell_type": "markdown",
   "id": "8d0207df",
   "metadata": {},
   "source": [
    "### El modelo de optimización lineal:"
   ]
  },
  {
   "cell_type": "code",
   "execution_count": null,
   "id": "0012a9a9",
   "metadata": {},
   "outputs": [],
   "source": [
    "model = Model(HiGHS.Optimizer)"
   ]
  },
  {
   "cell_type": "code",
   "execution_count": null,
   "id": "5efd7e8c",
   "metadata": {},
   "outputs": [],
   "source": [
    "@variable(model, zo[i=1:N] >= 0);\n",
    "@variable(model, zu[i=1:N] >= 0);\n",
    "@variable(model, s >= 0); "
   ]
  },
  {
   "cell_type": "code",
   "execution_count": null,
   "id": "e925692e",
   "metadata": {},
   "outputs": [],
   "source": [
    "@constraint(model, [i in 1:N], zo[i] - s >= -D[i]);\n",
    "@constraint(model, [i in 1:N], zu[i] + s >= D[i]); "
   ]
  },
  {
   "cell_type": "code",
   "execution_count": null,
   "id": "4b1ab005",
   "metadata": {},
   "outputs": [],
   "source": [
    "@objective(model, Min, (1/N)*sum(h*zo[i] + q*zu[i] for i in 1:N));"
   ]
  },
  {
   "cell_type": "code",
   "execution_count": null,
   "id": "c82e5844",
   "metadata": {},
   "outputs": [],
   "source": [
    "optimize!(model)"
   ]
  },
  {
   "cell_type": "code",
   "execution_count": null,
   "id": "49b41e8f",
   "metadata": {},
   "outputs": [],
   "source": [
    "println(\"Solución óptima = \",value(s))\n",
    "println(\"Valor óptimo = \",(v-r)*mean(D)-objective_value(model))"
   ]
  },
  {
   "cell_type": "markdown",
   "id": "264156cb",
   "metadata": {},
   "source": [
    "## Ahora veamos el caso con 2 productos, con capacidad máxima de la bodega"
   ]
  },
  {
   "cell_type": "code",
   "execution_count": null,
   "id": "1a3271d3",
   "metadata": {},
   "outputs": [],
   "source": [
    "r1 = 300   #Precio de compra prod. 1\n",
    "v1 = 1500  #Precio de venta prod. 1\n",
    "h1 = r1     #Costo inventario prod. 1\n",
    "q1 = v1     #Costo quiebre de inventario prod. 1\n",
    "\n",
    "r2 = 1000   #Precio de compra prod. 2\n",
    "v2 = 3000  #Precio de venta prod. 2\n",
    "h2 = r2     #Costo inventario prod. 2\n",
    "q2 = v2;     #Costo quiebre de inventario prod. 2"
   ]
  },
  {
   "cell_type": "code",
   "execution_count": null,
   "id": "29006cb2",
   "metadata": {},
   "outputs": [],
   "source": [
    "N = 10000\n",
    "Distr1 = DiscreteUniform(100,400)\n",
    "Dp1 = rand(Distr1,N);\n",
    "Distr2 = DiscreteUniform(50,150)\n",
    "Dp2 = rand(Distr2,N);\n",
    "Cap = 300   #Capacidad de la bodega\n",
    "\n",
    "model = Model(HiGHS.Optimizer)\n",
    "@variable(model, zo1[i=1:N] >= 0);\n",
    "@variable(model, zu1[i=1:N] >= 0);\n",
    "@variable(model, s1 >= 0); \n",
    "@variable(model, zo2[i=1:N] >= 0);\n",
    "@variable(model, zu2[i=1:N] >= 0);\n",
    "@variable(model, s2 >= 0);  \n",
    "@constraint(model, [i in 1:N], zo1[i] - s1 >= -Dp1[i]) \n",
    "@constraint(model, [i in 1:N], zu1[i] + s1 >= Dp1[i]) \n",
    "@constraint(model, [i in 1:N], zo2[i] - s2 >= -Dp2[i]) \n",
    "@constraint(model, [i in 1:N], zu2[i] + s2 >= Dp2[i]) \n",
    "@constraint(model, s1+s2 <= Cap) \n",
    "@objective(model, Min, (1/N)*sum(h1*zo1[i] + q1*zu1[i] + h2*zo2[i] + q2*zu2[i] for i in 1:N));\n",
    "optimize!(model)"
   ]
  },
  {
   "cell_type": "code",
   "execution_count": null,
   "id": "20dcd8d1",
   "metadata": {},
   "outputs": [],
   "source": [
    "println(\"Solución óptima producto 1 = \",value(s1))\n",
    "println(\"Solución óptima producto 2 = \",value(s2))\n",
    "println(\"Valor óptimo = \",(v1-r1)*mean(Dp1)+(v2-r2)*mean(Dp2)-objective_value(model))\n"
   ]
  },
  {
   "cell_type": "code",
   "execution_count": null,
   "id": "160f6b03",
   "metadata": {},
   "outputs": [],
   "source": []
  },
  {
   "cell_type": "code",
   "execution_count": null,
   "id": "3dfac286",
   "metadata": {},
   "outputs": [],
   "source": []
  }
 ],
 "metadata": {
  "kernelspec": {
   "display_name": "Julia 1.8.3",
   "language": "julia",
   "name": "julia-1.8"
  },
  "language_info": {
   "file_extension": ".jl",
   "mimetype": "application/julia",
   "name": "julia",
   "version": "1.8.3"
  },
  "toc": {
   "base_numbering": 1,
   "nav_menu": {},
   "number_sections": true,
   "sideBar": true,
   "skip_h1_title": false,
   "title_cell": "Table of Contents",
   "title_sidebar": "Contents",
   "toc_cell": false,
   "toc_position": {},
   "toc_section_display": true,
   "toc_window_display": false
  },
  "varInspector": {
   "cols": {
    "lenName": 16,
    "lenType": 16,
    "lenVar": 40
   },
   "kernels_config": {
    "python": {
     "delete_cmd_postfix": "",
     "delete_cmd_prefix": "del ",
     "library": "var_list.py",
     "varRefreshCmd": "print(var_dic_list())"
    },
    "r": {
     "delete_cmd_postfix": ") ",
     "delete_cmd_prefix": "rm(",
     "library": "var_list.r",
     "varRefreshCmd": "cat(var_dic_list()) "
    }
   },
   "types_to_exclude": [
    "module",
    "function",
    "builtin_function_or_method",
    "instance",
    "_Feature"
   ],
   "window_display": false
  }
 },
 "nbformat": 4,
 "nbformat_minor": 5
}
