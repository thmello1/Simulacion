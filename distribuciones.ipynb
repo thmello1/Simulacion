{
 "cells": [
  {
   "cell_type": "markdown",
   "id": "2bf92485",
   "metadata": {},
   "source": [
    "# Clase 5: Ejemplos de distribuciones y ajustes básicos"
   ]
  },
  {
   "cell_type": "markdown",
   "id": "9a6775f2",
   "metadata": {},
   "source": [
    "Prof. Tito Homem-de-Mello"
   ]
  },
  {
   "cell_type": "code",
   "execution_count": null,
   "id": "2347789f",
   "metadata": {},
   "outputs": [],
   "source": [
    "install.packages('data.table')\n",
    "install.packages('fitdistrplus')"
   ]
  },
  {
   "cell_type": "code",
   "execution_count": null,
   "id": "74fa124e",
   "metadata": {},
   "outputs": [],
   "source": [
    "library(fitdistrplus)\n"
   ]
  },
  {
   "cell_type": "markdown",
   "id": "10eb9767",
   "metadata": {},
   "source": [
    "### Gamma"
   ]
  },
  {
   "cell_type": "code",
   "execution_count": null,
   "id": "b3d5b8b7",
   "metadata": {},
   "outputs": [],
   "source": [
    "plot(function(x) dgamma(x,shape=3,scale=3),0,50,ylim=c(0,0.1),col=2,ylab=\"densidad Gamma\")"
   ]
  },
  {
   "cell_type": "markdown",
   "id": "72c81ec9",
   "metadata": {},
   "source": [
    "### Beta"
   ]
  },
  {
   "cell_type": "code",
   "execution_count": null,
   "id": "d95e7ba0",
   "metadata": {},
   "outputs": [],
   "source": [
    "plot(function(x) dbeta(x,shape1=2,shape2=4),0,1,ylim=c(0,5),col=2,ylab=\"densidad Beta\")"
   ]
  },
  {
   "cell_type": "markdown",
   "id": "dd1ca58c",
   "metadata": {},
   "source": [
    "### Lognormal"
   ]
  },
  {
   "cell_type": "code",
   "execution_count": null,
   "id": "ebf025fa",
   "metadata": {},
   "outputs": [],
   "source": [
    "plot(function(x) dlnorm(x,meanlog=2,sdlog=2),0,50,ylim=c(0,0.15),col=2,ylab=\"densidad Lognormal\")"
   ]
  },
  {
   "cell_type": "markdown",
   "id": "5ee968ef",
   "metadata": {},
   "source": [
    "### Weibull"
   ]
  },
  {
   "cell_type": "code",
   "execution_count": null,
   "id": "9cece865",
   "metadata": {},
   "outputs": [],
   "source": [
    "plot(function(x) dweibull(x,shape=1.5,scale=4),0,10,ylim=c(0,0.3),col=2,ylab=\"densidad Weibull\")"
   ]
  },
  {
   "cell_type": "markdown",
   "id": "f2107928",
   "metadata": {},
   "source": [
    "### Exponencial"
   ]
  },
  {
   "cell_type": "code",
   "execution_count": null,
   "id": "4f534d7d",
   "metadata": {},
   "outputs": [],
   "source": [
    "plot(function(x) dexp(x, rate=3),0,3,ylim=c(0,3),col=2,ylab=\"densidad Exponencial\")"
   ]
  },
  {
   "cell_type": "code",
   "execution_count": null,
   "id": "d11802e7",
   "metadata": {},
   "outputs": [],
   "source": [
    "\n",
    "\n",
    "\n",
    "\n",
    "\n",
    "\n",
    "\n",
    "\n",
    "\n",
    "\n",
    "\n",
    "\n",
    "\n",
    "\n",
    "\n"
   ]
  },
  {
   "cell_type": "markdown",
   "id": "3608c4d0",
   "metadata": {},
   "source": [
    "# Ajustando distribuciones a los datos"
   ]
  },
  {
   "cell_type": "markdown",
   "id": "b5cd7233",
   "metadata": {},
   "source": [
    "### Empecemos por mirar los datos:"
   ]
  },
  {
   "cell_type": "code",
   "execution_count": null,
   "id": "2c6a4b02",
   "metadata": {},
   "outputs": [],
   "source": [
    "library(\"data.table\")"
   ]
  },
  {
   "cell_type": "code",
   "execution_count": null,
   "id": "d76e3d6b",
   "metadata": {
    "scrolled": true
   },
   "outputs": [],
   "source": [
    "data <- fread(\"Databases/winequality-red.csv\")\n",
    "head(data)"
   ]
  },
  {
   "cell_type": "code",
   "execution_count": null,
   "id": "4a7ac6e6",
   "metadata": {},
   "outputs": [],
   "source": [
    "names(data)[names(data)==\"fixed acidity\"] <- \"Acidity\"\n",
    "data$Acidity"
   ]
  },
  {
   "cell_type": "code",
   "execution_count": null,
   "id": "e9854222",
   "metadata": {},
   "outputs": [],
   "source": []
  },
  {
   "cell_type": "code",
   "execution_count": null,
   "id": "e467ba30",
   "metadata": {},
   "outputs": [],
   "source": [
    "\n",
    "\n",
    "\n",
    "\n",
    "\n",
    "\n",
    "\n",
    "\n",
    "\n",
    "\n",
    "\n",
    "\n",
    "\n",
    "\n",
    "\n",
    "\n",
    "\n",
    "\n",
    "\n",
    "\n",
    "\n",
    "\n",
    "\n"
   ]
  },
  {
   "cell_type": "markdown",
   "id": "9afd1f2d",
   "metadata": {},
   "source": [
    "### Estadísticas descriptivas:"
   ]
  },
  {
   "cell_type": "code",
   "execution_count": null,
   "id": "c64fcf61",
   "metadata": {},
   "outputs": [],
   "source": [
    "descdist(data$Acidity)"
   ]
  },
  {
   "cell_type": "code",
   "execution_count": null,
   "id": "e553e065",
   "metadata": {},
   "outputs": [],
   "source": [
    "hist(data$Acidity)"
   ]
  },
  {
   "cell_type": "code",
   "execution_count": null,
   "id": "f326ca05",
   "metadata": {},
   "outputs": [],
   "source": [
    "\n",
    "\n",
    "\n",
    "\n",
    "\n",
    "\n",
    "\n",
    "\n",
    "\n",
    "\n",
    "\n"
   ]
  },
  {
   "cell_type": "markdown",
   "id": "404ed779",
   "metadata": {},
   "source": [
    "### Ajustemos una Normal"
   ]
  },
  {
   "cell_type": "code",
   "execution_count": null,
   "id": "56a97fb1",
   "metadata": {},
   "outputs": [],
   "source": [
    "a_norm <- fitdist(data$Acidity, \"norm\")\n",
    "summary(a_norm)"
   ]
  },
  {
   "cell_type": "markdown",
   "id": "3f02dd64",
   "metadata": {},
   "source": [
    "### Ajustemos una Gamma"
   ]
  },
  {
   "cell_type": "code",
   "execution_count": null,
   "id": "ac9a8d8f",
   "metadata": {},
   "outputs": [],
   "source": [
    "a_gamma <- fitdist(data$Acidity, \"gamma\")\n",
    "summary(a_gamma)"
   ]
  },
  {
   "cell_type": "markdown",
   "id": "03b8afc6",
   "metadata": {},
   "source": [
    "### Ajustemos una Weibull"
   ]
  },
  {
   "cell_type": "code",
   "execution_count": null,
   "id": "6a48f17a",
   "metadata": {},
   "outputs": [],
   "source": [
    "a_weib <- fitdist(data$Acidity, \"weibull\")\n",
    "summary(a_weib)"
   ]
  },
  {
   "cell_type": "markdown",
   "id": "c4cd1ba0",
   "metadata": {},
   "source": [
    "### Ajustemos una Lognormal"
   ]
  },
  {
   "cell_type": "code",
   "execution_count": null,
   "id": "9096dda9",
   "metadata": {},
   "outputs": [],
   "source": [
    "a_lnorm<-fitdist(data$Acidity, \"lnorm\")\n",
    "summary(a_lnorm)"
   ]
  },
  {
   "cell_type": "code",
   "execution_count": null,
   "id": "e7704f0d",
   "metadata": {},
   "outputs": [],
   "source": [
    "\n",
    "\n",
    "\n",
    "\n",
    "\n",
    "\n",
    "\n",
    "\n",
    "\n",
    "\n",
    "\n",
    "\n",
    "\n"
   ]
  },
  {
   "cell_type": "markdown",
   "id": "a0581b99",
   "metadata": {},
   "source": [
    "### Comparando los ajustes:"
   ]
  },
  {
   "cell_type": "code",
   "execution_count": null,
   "id": "4bf055eb",
   "metadata": {},
   "outputs": [],
   "source": [
    "plot.legend <- c(\"Normal\", \"Weibull\", \"Gamma\", \"Lognormal\")\n",
    "denscomp(list(a_norm,a_weib,a_gamma,a_lnorm), fitcol=c(2,4,6,3), fitlty=1, legendtext=plot.legend)"
   ]
  },
  {
   "cell_type": "code",
   "execution_count": null,
   "id": "ef6d728a",
   "metadata": {},
   "outputs": [],
   "source": [
    "cdfcomp(list(a_norm,a_weib,a_gamma,a_lnorm),fitcol=c(2,4,6,3), fitlty=1, legendtext=plot.legend, verticals=T, \n",
    "        do.points=F)"
   ]
  },
  {
   "cell_type": "code",
   "execution_count": null,
   "id": "220a9974",
   "metadata": {},
   "outputs": [],
   "source": []
  }
 ],
 "metadata": {
  "kernelspec": {
   "display_name": "R",
   "language": "R",
   "name": "ir"
  },
  "language_info": {
   "codemirror_mode": "r",
   "file_extension": ".r",
   "mimetype": "text/x-r-source",
   "name": "R",
   "pygments_lexer": "r",
   "version": "3.6.3"
  },
  "toc": {
   "base_numbering": 1,
   "nav_menu": {},
   "number_sections": true,
   "sideBar": true,
   "skip_h1_title": false,
   "title_cell": "Table of Contents",
   "title_sidebar": "Contents",
   "toc_cell": false,
   "toc_position": {},
   "toc_section_display": true,
   "toc_window_display": false
  },
  "varInspector": {
   "cols": {
    "lenName": 16,
    "lenType": 16,
    "lenVar": 40
   },
   "kernels_config": {
    "python": {
     "delete_cmd_postfix": "",
     "delete_cmd_prefix": "del ",
     "library": "var_list.py",
     "varRefreshCmd": "print(var_dic_list())"
    },
    "r": {
     "delete_cmd_postfix": ") ",
     "delete_cmd_prefix": "rm(",
     "library": "var_list.r",
     "varRefreshCmd": "cat(var_dic_list()) "
    }
   },
   "types_to_exclude": [
    "module",
    "function",
    "builtin_function_or_method",
    "instance",
    "_Feature"
   ],
   "window_display": false
  }
 },
 "nbformat": 4,
 "nbformat_minor": 5
}
