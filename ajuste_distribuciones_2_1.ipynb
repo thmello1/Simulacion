{
 "cells": [
  {
   "cell_type": "markdown",
   "id": "f80be1ec",
   "metadata": {
    "jp-MarkdownHeadingCollapsed": true,
    "tags": []
   },
   "source": [
    "# Clase 7: Ajustando distribuciones a los datos - casos especiales"
   ]
  },
  {
   "cell_type": "markdown",
   "id": "3e716e36",
   "metadata": {
    "slideshow": {
     "slide_type": "slide"
    },
    "tags": []
   },
   "source": [
    "Prof. Tito Homem-de-Mello"
   ]
  },
  {
   "cell_type": "code",
   "execution_count": null,
   "id": "a47fdc19",
   "metadata": {},
   "outputs": [],
   "source": [
    "#install.packages('fitdistrplus')\n",
    "#install.packages('gglot2')\n",
    "install.packages('goft')\n"
   ]
  },
  {
   "cell_type": "code",
   "execution_count": null,
   "id": "41aefa5f",
   "metadata": {},
   "outputs": [],
   "source": [
    "library(fitdistrplus)\n",
    "library(ggplot2)\n",
    "library(goft)\n"
   ]
  },
  {
   "cell_type": "markdown",
   "id": "e05af000",
   "metadata": {},
   "source": [
    "## Miremos un ejemplo con datos de tiempos de fallas de equipamientos"
   ]
  },
  {
   "cell_type": "markdown",
   "id": "bce16f2a",
   "metadata": {
    "tags": []
   },
   "source": [
    "data <- read.csv(\"fallas.csv\")\n",
    "head(data)"
   ]
  },
  {
   "cell_type": "code",
   "execution_count": null,
   "id": "2a989fc7",
   "metadata": {
    "tags": []
   },
   "outputs": [],
   "source": [
    "X <- data$Tiempos.entre.fallas"
   ]
  },
  {
   "cell_type": "code",
   "execution_count": null,
   "id": "96085774",
   "metadata": {},
   "outputs": [],
   "source": [
    "bin <- 2\n",
    "plotfig <- ggplot(data,aes(X))+\n",
    "        theme(plot.title = element_text(size = 20),\n",
    "              axis.title.y=element_text(size = 20),\n",
    "              axis.title.x=element_text(size = 20),\n",
    "              axis.text.y=element_text(size = 15),\n",
    "              axis.text.x=element_text(size = 15))        )\n",
    " \n",
    "p <- plotfig+geom_histogram(aes(y = after_stat(count /(sum(count)))), binwidth=bin,color=\"black\", fill=\"gray\")+\n",
    "       labs(x=\"tiempo\",\n",
    "            y=\"frecuencia\",\n",
    "            title=paste0(\"Histograma de los datos\"))           \n",
    "p "
   ]
  },
  {
   "cell_type": "code",
   "execution_count": null,
   "id": "05da3c83",
   "metadata": {},
   "outputs": [],
   "source": [
    "descdist(X)"
   ]
  },
  {
   "cell_type": "code",
   "execution_count": null,
   "id": "ae16f15e",
   "metadata": {},
   "outputs": [],
   "source": [
    "\n",
    "\n",
    "\n",
    "\n",
    "\n",
    "\n",
    "\n",
    "\n",
    "\n",
    "\n",
    "\n",
    "\n",
    "\n",
    "\n"
   ]
  },
  {
   "cell_type": "markdown",
   "id": "a40040ae",
   "metadata": {},
   "source": [
    "### Ajustemos algunas distribuciones teóricas"
   ]
  },
  {
   "cell_type": "code",
   "execution_count": null,
   "id": "a4fcf445",
   "metadata": {},
   "outputs": [],
   "source": [
    "\n",
    "a_exp <- fitdist(X, \"exp\")\n",
    "summary(a_exp)\n",
    "\n",
    "a_gamma <- fitdist(X, \"gamma\")\n",
    "summary(a_gamma)\n",
    "\n",
    "a_lnorm <- fitdist(X, \"lnorm\")\n",
    "summary(a_lnorm)\n",
    "\n",
    "a_weib <- fitdist(X, \"weibull\")\n",
    "summary(a_weib)\n",
    "\n",
    "plot.legend <- c( \"Weibull\", \"Gamma\", \"Lognormal\",\"Exponential\")\n",
    "denscomp(list(a_gamma,a_lnorm,a_weib,a_exp), fitcol=c(2,4,6,1), fitlty=1, legendtext=plot.legend)"
   ]
  },
  {
   "cell_type": "code",
   "execution_count": null,
   "id": "23b96599",
   "metadata": {},
   "outputs": [],
   "source": [
    "\n",
    "\n",
    "\n",
    "\n",
    "\n",
    "\n",
    "\n",
    "\n",
    "\n",
    "\n",
    "\n",
    "\n",
    "\n",
    "\n",
    "\n",
    "\n"
   ]
  },
  {
   "cell_type": "markdown",
   "id": "62bc512f",
   "metadata": {},
   "source": [
    "## Determinemos la bondad de ajuste para las 4 distribuciones"
   ]
  },
  {
   "cell_type": "markdown",
   "id": "d47ad5fe",
   "metadata": {},
   "source": [
    "### Empecemos con el PP-Plot"
   ]
  },
  {
   "cell_type": "code",
   "execution_count": null,
   "id": "9f97fc79",
   "metadata": {
    "tags": []
   },
   "outputs": [],
   "source": [
    "ppcomp(list(a_lnorm,a_gamma,a_weib,a_exp))"
   ]
  },
  {
   "cell_type": "markdown",
   "id": "32bca02a",
   "metadata": {},
   "source": [
    "### Grafiquemos el QQ-Plot"
   ]
  },
  {
   "cell_type": "code",
   "execution_count": null,
   "id": "5699b585",
   "metadata": {},
   "outputs": [],
   "source": [
    "qqcomp(list(a_lnorm,a_gamma,a_weib,a_exp))\n"
   ]
  },
  {
   "cell_type": "markdown",
   "id": "3e82215b",
   "metadata": {},
   "source": [
    "## Ahora veamos los tests estadísticos"
   ]
  },
  {
   "cell_type": "code",
   "execution_count": null,
   "id": "d8137763",
   "metadata": {},
   "outputs": [],
   "source": [
    "gofval <- gofstat(list(a_lnorm,a_gamma,a_weib,a_exp),fitnames=c(\"lnorm\",\"gamma\",\"weib\",\"exp\"))\n",
    "gofval"
   ]
  },
  {
   "cell_type": "markdown",
   "id": "36ae6ba0",
   "metadata": {},
   "source": [
    "### Valores-$p$ para test chi-cuadrado"
   ]
  },
  {
   "cell_type": "code",
   "execution_count": null,
   "id": "cedc168d",
   "metadata": {},
   "outputs": [],
   "source": [
    "pvalue <- data.frame(Estadistica=\"Valor-p\",  \n",
    "                     Lognormal=gofval$chisqpvalue[\"lnorm\"],Gamma=gofval$chisqpvalue[\"gamma\"],\n",
    "                     Weibull=gofval$chisqpvalue[\"weib\"],\n",
    "                     Exp=gofval$chisqpvalue[\"exp\"])     \n",
    "pvalue"
   ]
  },
  {
   "cell_type": "code",
   "execution_count": null,
   "id": "c397c812",
   "metadata": {},
   "outputs": [],
   "source": [
    "ntest <- normal_test(X) #Use shapiro.test(X) si el nro. de datos no está entre 10 y 400\n",
    "ltest <- lnorm_test(X)\n",
    "gtest <- gamma_test(X)\n",
    "wtest <- weibull_test(X)\n",
    "etest <- exp_test(X)\n",
    "pvalue<-data.frame(Estadistica=\"Valor-p\",Normal=ntest$p.value,\n",
    "                   Lognormal=ltest$p.value,Gamma=gtest$p.value,Weibull=wtest$p.value,\n",
    "                   Exp=etest$p.value)     \n",
    "pvalue"
   ]
  },
  {
   "cell_type": "markdown",
   "id": "491caabb",
   "metadata": {},
   "source": [
    "## ¿Qué hacer?...."
   ]
  },
  {
   "cell_type": "code",
   "execution_count": null,
   "id": "e4d1ee3b",
   "metadata": {},
   "outputs": [],
   "source": [
    "\n",
    "\n",
    "\n",
    "\n",
    "\n",
    "\n",
    "\n",
    "\n",
    "\n",
    "\n"
   ]
  }
 ],
 "metadata": {
  "kernelspec": {
   "display_name": "R",
   "language": "R",
   "name": "ir"
  },
  "language_info": {
   "codemirror_mode": "r",
   "file_extension": ".r",
   "mimetype": "text/x-r-source",
   "name": "R",
   "pygments_lexer": "r",
   "version": "3.6.3"
  },
  "toc": {
   "base_numbering": 1,
   "nav_menu": {},
   "number_sections": true,
   "sideBar": true,
   "skip_h1_title": false,
   "title_cell": "Table of Contents",
   "title_sidebar": "Contents",
   "toc_cell": false,
   "toc_position": {},
   "toc_section_display": true,
   "toc_window_display": false
  },
  "varInspector": {
   "cols": {
    "lenName": 16,
    "lenType": 16,
    "lenVar": 40
   },
   "kernels_config": {
    "python": {
     "delete_cmd_postfix": "",
     "delete_cmd_prefix": "del ",
     "library": "var_list.py",
     "varRefreshCmd": "print(var_dic_list())"
    },
    "r": {
     "delete_cmd_postfix": ") ",
     "delete_cmd_prefix": "rm(",
     "library": "var_list.r",
     "varRefreshCmd": "cat(var_dic_list()) "
    }
   },
   "position": {
    "height": "234px",
    "left": "1581px",
    "right": "20px",
    "top": "134px",
    "width": "415px"
   },
   "types_to_exclude": [
    "module",
    "function",
    "builtin_function_or_method",
    "instance",
    "_Feature"
   ],
   "window_display": false
  }
 },
 "nbformat": 4,
 "nbformat_minor": 5
}
