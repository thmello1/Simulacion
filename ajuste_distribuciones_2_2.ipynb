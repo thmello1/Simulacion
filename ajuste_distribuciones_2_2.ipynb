{
 "cells": [
  {
   "cell_type": "markdown",
   "id": "f80be1ec",
   "metadata": {
    "jp-MarkdownHeadingCollapsed": true,
    "tags": []
   },
   "source": [
    "# Clase 7: Ajustando distribuciones a los datos - casos especiales"
   ]
  },
  {
   "cell_type": "markdown",
   "id": "3e716e36",
   "metadata": {
    "slideshow": {
     "slide_type": "slide"
    },
    "tags": []
   },
   "source": [
    "Prof. Tito Homem-de-Mello"
   ]
  },
  {
   "cell_type": "code",
   "execution_count": null,
   "id": "a47fdc19",
   "metadata": {},
   "outputs": [],
   "source": [
    "#install.packages('fitdistrplus')\n",
    "#install.packages('gglot2')\n",
    "#install.packages('goft')"
   ]
  },
  {
   "cell_type": "code",
   "execution_count": null,
   "id": "41aefa5f",
   "metadata": {},
   "outputs": [],
   "source": [
    "library(fitdistrplus)\n",
    "library(ggplot2)\n",
    "library(goft)"
   ]
  },
  {
   "cell_type": "code",
   "execution_count": null,
   "id": "36694123",
   "metadata": {},
   "outputs": [],
   "source": [
    "plottheme <- theme(plot.title = element_text(size = 20),\n",
    "                  axis.title.y=element_text(size = 20),\n",
    "                  axis.title.x=element_text(size = 20),\n",
    "                  axis.text.y=element_text(size = 15),\n",
    "                  axis.text.x=element_text(size = 15),\n",
    "                  legend.title = element_blank(),\n",
    "                  legend.text = element_text(size=15),\n",
    "                  legend.position = \"bottom\")"
   ]
  },
  {
   "cell_type": "markdown",
   "id": "e05af000",
   "metadata": {},
   "source": [
    "## Miremos un ejemplo con datos de tiempos de fallas de equipamientos"
   ]
  },
  {
   "cell_type": "code",
   "execution_count": null,
   "id": "8085d766",
   "metadata": {
    "tags": []
   },
   "outputs": [],
   "source": [
    "data <- read.csv(\"fallas.csv\")\n",
    "head(data)"
   ]
  },
  {
   "cell_type": "code",
   "execution_count": null,
   "id": "2a989fc7",
   "metadata": {
    "tags": []
   },
   "outputs": [],
   "source": [
    "X <- data$Tiempos.entre.fallas"
   ]
  },
  {
   "cell_type": "code",
   "execution_count": null,
   "id": "6f9c925c",
   "metadata": {},
   "outputs": [],
   "source": [
    "shift <- min(X)-0.001  #El 0.001 se agrega para que no hayan datos exactamente iguales a cero\n",
    "X <- X-shift"
   ]
  },
  {
   "cell_type": "code",
   "execution_count": null,
   "id": "96085774",
   "metadata": {},
   "outputs": [],
   "source": [
    "bin <- 2\n",
    "plotfig <- ggplot(data,aes(X)) + plottheme   \n",
    "\n",
    "p <- plotfig+geom_histogram(aes(y = after_stat(count /(sum(count)))), binwidth=bin,color=\"black\", fill=\"gray\")+\n",
    "       labs(x=\"tiempo\",\n",
    "            y=\"frecuencia\",\n",
    "            title=paste0(\"Histograma de los datos\"))           \n",
    "p "
   ]
  },
  {
   "cell_type": "code",
   "execution_count": null,
   "id": "05da3c83",
   "metadata": {},
   "outputs": [],
   "source": [
    "descdist(X)"
   ]
  },
  {
   "cell_type": "markdown",
   "id": "a40040ae",
   "metadata": {},
   "source": [
    "### Ajustemos algunas distribuciones teóricas"
   ]
  },
  {
   "cell_type": "code",
   "execution_count": null,
   "id": "a4fcf445",
   "metadata": {},
   "outputs": [],
   "source": [
    "\n",
    "a_exp <- fitdist(X, \"exp\")\n",
    "summary(a_exp)\n",
    "\n",
    "a_gamma <- fitdist(X, \"gamma\")\n",
    "summary(a_gamma)\n",
    "\n",
    "a_lnorm <- fitdist(X, \"lnorm\")\n",
    "summary(a_lnorm)\n",
    "\n",
    "a_weib <- fitdist(X, \"weibull\")\n",
    "summary(a_weib)\n",
    "\n",
    "plot.legend <- c( \"Weibull\", \"Gamma\", \"Lognormal\",\"Exponential\")\n",
    "denscomp(list(a_gamma,a_lnorm,a_weib,a_exp), fitcol=c(2,4,6,1), fitlty=1, legendtext=plot.legend)"
   ]
  },
  {
   "cell_type": "markdown",
   "id": "62bc512f",
   "metadata": {},
   "source": [
    "## Determinemos la bondad de ajuste para las 4 distribuciones"
   ]
  },
  {
   "cell_type": "markdown",
   "id": "d47ad5fe",
   "metadata": {},
   "source": [
    "### Empecemos con el PP-Plot"
   ]
  },
  {
   "cell_type": "code",
   "execution_count": null,
   "id": "9f97fc79",
   "metadata": {
    "tags": []
   },
   "outputs": [],
   "source": [
    "ppcomp(list(a_lnorm,a_gamma,a_weib,a_exp))"
   ]
  },
  {
   "cell_type": "markdown",
   "id": "32bca02a",
   "metadata": {},
   "source": [
    "### Grafiquemos el QQ-Plot"
   ]
  },
  {
   "cell_type": "code",
   "execution_count": null,
   "id": "5699b585",
   "metadata": {},
   "outputs": [],
   "source": [
    "qqcomp(list(a_lnorm,a_gamma,a_weib,a_exp))\n"
   ]
  },
  {
   "cell_type": "markdown",
   "id": "3e82215b",
   "metadata": {},
   "source": [
    "## Ahora veamos los tests estadísticos"
   ]
  },
  {
   "cell_type": "code",
   "execution_count": null,
   "id": "d8137763",
   "metadata": {},
   "outputs": [],
   "source": [
    "gofval <- gofstat(list(a_lnorm,a_gamma,a_weib,a_exp),fitnames=c(\"lnorm\",\"gamma\",\"weib\",\"exp\"))\n",
    "gofval"
   ]
  },
  {
   "cell_type": "markdown",
   "id": "36ae6ba0",
   "metadata": {},
   "source": [
    "### Valores-$p$ para test chi-cuadrado"
   ]
  },
  {
   "cell_type": "code",
   "execution_count": null,
   "id": "cedc168d",
   "metadata": {},
   "outputs": [],
   "source": [
    "pvalue <- data.frame(Estadistica=\"Valor-p\",  \n",
    "                     Lognormal=gofval$chisqpvalue[\"lnorm\"],Gamma=gofval$chisqpvalue[\"gamma\"],\n",
    "                     Weibull=gofval$chisqpvalue[\"weib\"],\n",
    "                     Exp=gofval$chisqpvalue[\"exp\"])     \n",
    "pvalue"
   ]
  },
  {
   "cell_type": "code",
   "execution_count": null,
   "id": "c397c812",
   "metadata": {},
   "outputs": [],
   "source": [
    "ntest <- normal_test(X) #Use shapiro.test(X) si el nro. de datos no está entre 10 y 400\n",
    "ltest <- lnorm_test(X)\n",
    "gtest <- gamma_test(X)\n",
    "wtest <- weibull_test(X)\n",
    "etest <- exp_test(X)\n",
    "pvalue<-data.frame(Estadistica=\"Valor-p\",Normal=ntest$p.value,\n",
    "                   Lognormal=ltest$p.value,Gamma=gtest$p.value,Weibull=wtest$p.value,\n",
    "                   Exp=etest$p.value)     \n",
    "pvalue"
   ]
  },
  {
   "cell_type": "markdown",
   "id": "9b031e24",
   "metadata": {},
   "source": [
    "## Qué diferencias hay respecto al caso anterior? ¿Es más fácil elegir una distribución ahora?"
   ]
  },
  {
   "cell_type": "code",
   "execution_count": null,
   "id": "6e1cbcc0",
   "metadata": {},
   "outputs": [],
   "source": [
    "\n",
    "\n",
    "\n",
    "\n",
    "\n",
    "\n",
    "\n",
    "\n",
    "\n",
    "\n",
    "\n",
    "\n",
    "\n",
    "\n",
    "\n",
    "\n"
   ]
  },
  {
   "cell_type": "markdown",
   "id": "30791279",
   "metadata": {},
   "source": [
    "## Tomemos la exponencial y la gamma"
   ]
  },
  {
   "cell_type": "code",
   "execution_count": null,
   "id": "6729e33e",
   "metadata": {},
   "outputs": [],
   "source": [
    "rate_exp <- a_exp$estimate[1]\n",
    "\n",
    "shape_gamma <- a_gamma$estimate[1]\n",
    "rate_gamma <- a_gamma$estimate[2]"
   ]
  },
  {
   "cell_type": "markdown",
   "id": "491caabb",
   "metadata": {},
   "source": [
    "## Generemos muestras de la distribución elegida"
   ]
  },
  {
   "cell_type": "markdown",
   "id": "439546b4",
   "metadata": {},
   "source": [
    "### Generador de la distribución"
   ]
  },
  {
   "cell_type": "code",
   "execution_count": null,
   "id": "9d0c3747",
   "metadata": {},
   "outputs": [],
   "source": [
    "N <- 1000\n",
    "Z <- shift+rexp(N,rate_exp)\n",
    "#Z <- shift+rgamma(N,shape_gamma,rate_gamma)\n",
    "\n",
    "bin <- 2\n",
    "plotfig <- ggplot(as.data.frame(Z),aes(Z))+plottheme\n",
    "\n",
    "p <- plotfig+geom_histogram(aes(y = after_stat(count /(sum(count)))), binwidth=bin,color=\"black\", fill=\"gray\")+\n",
    "       labs(x=\"tiempo\",\n",
    "            y=\"frecuencia\",\n",
    "            title=paste0(\"Histograma de los datos simulados\"))           \n",
    "p "
   ]
  },
  {
   "cell_type": "code",
   "execution_count": null,
   "id": "4285a777",
   "metadata": {},
   "outputs": [],
   "source": [
    "X1 <- X+shift\n",
    "bin <- 2\n",
    "plotfig <- ggplot(as.data.frame(X1),aes(X1))+plottheme\n",
    "\n",
    "p <- plotfig+geom_histogram(aes(y = after_stat(count /(sum(count)))), binwidth=bin,color=\"black\", fill=\"gray\")+\n",
    "       labs(x=\"tiempo\",\n",
    "            y=\"frecuencia\",\n",
    "            title=paste0(\"Histograma de los datos originales\"))           \n",
    "p "
   ]
  },
  {
   "cell_type": "markdown",
   "id": "3d13ac7e",
   "metadata": {},
   "source": [
    "### Comparemos las distribuciones empíricas de los datos originales y los simulados"
   ]
  },
  {
   "cell_type": "code",
   "execution_count": null,
   "id": "e4d1ee3b",
   "metadata": {},
   "outputs": [],
   "source": [
    "colors <- c(\"Simulada\" = \"red\", \"Datos\" = \"black\")\n",
    "\n",
    "\n",
    "plotfig+geom_function(fun=ecdf(X1), aes(color=\"Datos\"))+\n",
    "        geom_function(fun=ecdf(Z),  aes(color=\"Simulada\"))+\n",
    "        xlim(4,20)+\n",
    "        labs(x=\"x\",y=\"F_N(x)\",\n",
    "             title=paste0(\"Distribución empírica\"),\n",
    "             color=\"Legend\")+\n",
    "        scale_color_manual(values = colors)\n",
    "\n",
    "\n",
    "\n",
    "\n",
    "\n",
    "\n"
   ]
  },
  {
   "cell_type": "code",
   "execution_count": null,
   "id": "dcf9ee76",
   "metadata": {},
   "outputs": [],
   "source": []
  }
 ],
 "metadata": {
  "kernelspec": {
   "display_name": "R",
   "language": "R",
   "name": "ir"
  },
  "language_info": {
   "codemirror_mode": "r",
   "file_extension": ".r",
   "mimetype": "text/x-r-source",
   "name": "R",
   "pygments_lexer": "r",
   "version": "3.6.3"
  },
  "toc": {
   "base_numbering": 1,
   "nav_menu": {},
   "number_sections": true,
   "sideBar": true,
   "skip_h1_title": false,
   "title_cell": "Table of Contents",
   "title_sidebar": "Contents",
   "toc_cell": false,
   "toc_position": {},
   "toc_section_display": true,
   "toc_window_display": false
  },
  "varInspector": {
   "cols": {
    "lenName": 16,
    "lenType": 16,
    "lenVar": 40
   },
   "kernels_config": {
    "python": {
     "delete_cmd_postfix": "",
     "delete_cmd_prefix": "del ",
     "library": "var_list.py",
     "varRefreshCmd": "print(var_dic_list())"
    },
    "r": {
     "delete_cmd_postfix": ") ",
     "delete_cmd_prefix": "rm(",
     "library": "var_list.r",
     "varRefreshCmd": "cat(var_dic_list()) "
    }
   },
   "position": {
    "height": "234px",
    "left": "1581px",
    "right": "20px",
    "top": "134px",
    "width": "415px"
   },
   "types_to_exclude": [
    "module",
    "function",
    "builtin_function_or_method",
    "instance",
    "_Feature"
   ],
   "window_display": false
  }
 },
 "nbformat": 4,
 "nbformat_minor": 5
}
