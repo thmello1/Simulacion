{
 "cells": [
  {
   "cell_type": "markdown",
   "id": "63734299",
   "metadata": {},
   "source": [
    "# Clase 15: Ejemplo modelo estocástico de 2 etapas: el problema Dakota (en Julia)"
   ]
  },
  {
   "cell_type": "markdown",
   "id": "f5ea0cb5",
   "metadata": {},
   "source": [
    " Prof. Tito Homem-de-Mello"
   ]
  },
  {
   "cell_type": "code",
   "execution_count": null,
   "id": "7826cc1d",
   "metadata": {},
   "outputs": [],
   "source": [
    "#import Pkg; Pkg.add(\"JuMP\");\n",
    "#import Pkg; Pkg.add(\"HiGHS\"); \n",
    "#import Pkg; Pkg.add(\"Statistics\");\n",
    "#import Pkg; Pkg.add(\"Random\");\n",
    "#import Pkg; Pkg.add(\"Distributions\");\n",
    "#using Pkg; Pkg.add(\"DataFrames\") "
   ]
  },
  {
   "cell_type": "code",
   "execution_count": null,
   "id": "cf0f5b2a",
   "metadata": {},
   "outputs": [],
   "source": [
    "using JuMP\n",
    "using HiGHS\n",
    "using Statistics\n",
    "using Random\n",
    "using Distributions\n",
    "using DataFrames"
   ]
  },
  {
   "cell_type": "markdown",
   "id": "e38d35a0",
   "metadata": {},
   "source": [
    "## Carguemos los datos"
   ]
  },
  {
   "cell_type": "markdown",
   "id": "82d3f7d8",
   "metadata": {},
   "source": [
    "### Tabla con costos y precios"
   ]
  },
  {
   "cell_type": "code",
   "execution_count": null,
   "id": "3dbc993c",
   "metadata": {
    "scrolled": true
   },
   "outputs": [],
   "source": [
    "insumos = DataFrame(MatPrima=[\"Madera\",\"Acabado\",\"Carpinteria\"],\n",
    "                       Costo=[2,4,5.2], Escritorios=[8,4,2], Mesas=[6,2,1.5], Sillas=[1,1.5,0.5])\n",
    "\n",
    "precios = DataFrame(Escritorios=60, Mesas=40, Sillas=10);"
   ]
  },
  {
   "cell_type": "code",
   "execution_count": null,
   "id": "f4529bfc",
   "metadata": {
    "scrolled": true
   },
   "outputs": [],
   "source": [
    "insumos"
   ]
  },
  {
   "cell_type": "code",
   "execution_count": null,
   "id": "ad7e4aed",
   "metadata": {},
   "outputs": [],
   "source": [
    "precios"
   ]
  },
  {
   "cell_type": "markdown",
   "id": "17527550",
   "metadata": {},
   "source": [
    "### Vector de escenarios posibles de demanda (el último valor corresponde al promedio de los anteriores)\n"
   ]
  },
  {
   "cell_type": "code",
   "execution_count": null,
   "id": "ec0136fd",
   "metadata": {},
   "outputs": [],
   "source": [
    "D = DataFrame(Escenario=\"Bajo\", Escritorios=50, Mesas=20, Sillas=180)\n",
    "push!(D, [\"Medio\"  150  105  220])\n",
    "push!(D, [\"Alto\"   250  250  500])\n",
    "push!(D, [\"Promedio\" 150 125 300])\n",
    "\n",
    "println(\"Demanda:\")\n",
    "println(D)"
   ]
  },
  {
   "cell_type": "markdown",
   "id": "07ef1658",
   "metadata": {},
   "source": [
    "## Inicialmente resolvemos el problema para 1 escenario (el escenario promedio)\n"
   ]
  },
  {
   "cell_type": "code",
   "execution_count": null,
   "id": "7bfd673d",
   "metadata": {
    "scrolled": true
   },
   "outputs": [],
   "source": [
    "D_e = D[4, :Escritorios] #Escenario==\"Promedio\"\n",
    "D_m = D[4, :Mesas] #Escenario==\"Promedio\"\n",
    "D_s = D[4, :Sillas] #Escenario==\"Promedio\"\n",
    "\n",
    "p_e = precios[1,:Escritorios]   \n",
    "p_m = precios[1,:Mesas]  \n",
    "p_s = precios[1,:Sillas] \n",
    "\n",
    "c_m = insumos[1, :Costo]  #MatPrima==\"Madera\"\n",
    "c_a = insumos[2, :Costo]  #MatPrima==\"Acabado\"\n",
    "c_c = insumos[3,:Costo]  #MatPrima==\"Carpinteria\"\n",
    "\n",
    "ins_mad = insumos[1, [:Escritorios, :Mesas, :Sillas]]   #MatPrima==\"Madera\"\n",
    "ins_aca = insumos[2, [:Escritorios, :Mesas, :Sillas]]   #MatPrima==\"Acabado\"\n",
    "ins_car = insumos[3, [:Escritorios, :Mesas, :Sillas]];   #MatPrima==\"Carpinteria\"\n",
    "\n"
   ]
  },
  {
   "cell_type": "code",
   "execution_count": null,
   "id": "052a912c",
   "metadata": {},
   "outputs": [],
   "source": [
    "model_det = Model(HiGHS.Optimizer)"
   ]
  },
  {
   "cell_type": "code",
   "execution_count": null,
   "id": "ae821ef1",
   "metadata": {},
   "outputs": [],
   "source": [
    "@variable(model_det, x_m >= 0);\n",
    "@variable(model_det, x_a >= 0);\n",
    "@variable(model_det, x_c >= 0);\n",
    "@variable(model_det, y_e >= 0);\n",
    "@variable(model_det, y_m >= 0);\n",
    "@variable(model_det, y_s >= 0);\n",
    "@constraint(model_det, x_m >= ins_mad[1]*y_e + ins_mad[2]*y_m + ins_mad[3]*y_s)\n",
    "@constraint(model_det, x_a >= ins_aca[1]*y_e + ins_aca[2]*y_m + ins_aca[3]*y_s)\n",
    "@constraint(model_det, x_c >= ins_car[1]*y_e + ins_car[2]*y_m + ins_car[3]*y_s)\n",
    "@constraint(model_det, y_e <= D_e) \n",
    "@constraint(model_det, y_m <= D_m) \n",
    "@constraint(model_det, y_s <= D_s) \n",
    " \n",
    "@objective(model_det, Max, p_e*y_e + p_m*y_m + p_s*y_s - c_m*x_m - c_a*x_a - c_c*x_c);\n",
    "optimize!(model_det);"
   ]
  },
  {
   "cell_type": "code",
   "execution_count": null,
   "id": "2422dadf",
   "metadata": {},
   "outputs": [],
   "source": [
    "etapa1_det = DataFrame(Tipo=\"Insumos\",\n",
    "                     Madera=value(x_m),\n",
    "                     Acabado=value(x_a), \n",
    "                     Carpinteria=value(x_c))\n",
    "\n",
    "etapa2_det = DataFrame(Tipo=\"Producción\", \n",
    "                     Escritorios=value(y_e),\n",
    "                     Mesas=value( y_m), \n",
    "                     Sillas=value(y_s))\n",
    "\n",
    "println(\"\\nInsumos solución determinista:\\n\")\n",
    "println(etapa1_det)\n",
    "\n",
    "println(\"\\nProducción planificada:\\n\")\n",
    "println(etapa2_det)\n",
    "\n",
    "println(\"\\n \\n  Valor óptimo modelo determinista:= \", objective_value(model_det))"
   ]
  },
  {
   "cell_type": "code",
   "execution_count": null,
   "id": "1f5decc7",
   "metadata": {},
   "outputs": [],
   "source": [
    "\n",
    "\n",
    "\n",
    "\n",
    "\n",
    "\n",
    "\n",
    "\n",
    "\n"
   ]
  },
  {
   "cell_type": "markdown",
   "id": "0cf104ab",
   "metadata": {},
   "source": [
    "## Resolvamos ahora el caso *estocástico*:"
   ]
  },
  {
   "cell_type": "code",
   "execution_count": null,
   "id": "91730f03",
   "metadata": {},
   "outputs": [],
   "source": [
    "ns = 3;   #Nro. de  escenarios"
   ]
  },
  {
   "cell_type": "code",
   "execution_count": null,
   "id": "76725ac3",
   "metadata": {},
   "outputs": [],
   "source": [
    "model_est = Model(HiGHS.Optimizer);"
   ]
  },
  {
   "cell_type": "code",
   "execution_count": null,
   "id": "3f961671",
   "metadata": {},
   "outputs": [],
   "source": [
    "@variable(model_est, x_m >= 0);\n",
    "@variable(model_est, x_a >= 0);\n",
    "@variable(model_est, x_c >= 0);\n",
    "@variable(model_est, y_e[i=1:ns] >= 0);\n",
    "@variable(model_est, y_m[i=1:ns] >= 0);\n",
    "@variable(model_est, y_s[i=1:ns] >= 0);\n",
    "@constraint(model_est, [i in 1:ns], x_m >= ins_mad[1]*y_e[i] + ins_mad[2]*y_m[i] + ins_mad[3]*y_s[i])\n",
    "@constraint(model_est, [i in 1:ns], x_a >= ins_aca[1]*y_e[i] + ins_aca[2]*y_m[i] + ins_aca[3]*y_s[i])\n",
    "@constraint(model_est, [i in 1:ns], x_c >= ins_car[1]*y_e[i] + ins_car[2]*y_m[i] + ins_car[3]*y_s[i])\n",
    "@constraint(model_est, [i in 1:ns], y_e[i] <= D[i,2]) \n",
    "@constraint(model_est, [i in 1:ns], y_m[i] <= D[i,3]) \n",
    "@constraint(model_est, [i in 1:ns], y_s[i] <= D[i,4]) \n",
    " \n",
    "@objective(model_est, Max, (1/ns)*sum(p_e*y_e[i]+ p_m*y_m[i]+ p_s*y_s[i] for i in 1:ns)\n",
    "                            - c_m*x_m - c_a*x_a - c_c*x_c);\n",
    "optimize!(model_est);"
   ]
  },
  {
   "cell_type": "markdown",
   "id": "22f58723",
   "metadata": {},
   "source": [
    "### Veamos la solución optima para 1ra etapa y 2da etapa (la solución de 2da etapa es para cada escenario)"
   ]
  },
  {
   "cell_type": "code",
   "execution_count": null,
   "id": "213e8d52",
   "metadata": {},
   "outputs": [],
   "source": [
    "scenarios = D[:, [:1]]\n",
    "\n",
    "etapa1_est = DataFrame(Tipo=\"Insumos\",\n",
    "                     Madera=value(x_m),\n",
    "                     Acabado=value(x_a), \n",
    "                     Carpinteria=value(x_c))\n",
    "\n",
    "ye = JuMP.value.(y_e[:])      \n",
    "ym = JuMP.value.(y_m[:])  \n",
    "ys = JuMP.value.(y_s[:])  \n",
    "\n",
    "etapa2_est  = DataFrame(Escenario=scenarios[1,1],\n",
    "                       Escritorios=ye[1],\n",
    "                       Mesas=ym[1], \n",
    "                       Sillas=ys[1])\n",
    "for i in 2:ns\n",
    "    push!(etapa2_est, [scenarios[i,1]  ye[i]  ym[i] ys[i]])\n",
    "end\n",
    "\n",
    "println(\"\\nInsumos solución estocástica:\\n\")\n",
    "println(etapa1_est)\n",
    "\n",
    "println(\"\\nProducción planificada:\\n\")\n",
    "println(etapa2_est)\n",
    "\n",
    "\n",
    "println(\"\\n \\n Utilidad esperada de la solución estocástica: = \",objective_value(model_est))"
   ]
  },
  {
   "cell_type": "markdown",
   "id": "3791ecf5",
   "metadata": {},
   "source": [
    "### Si queremos ver el valor de la función objetivo para cada etapa, podemos hacer el cálculo manual:"
   ]
  },
  {
   "cell_type": "code",
   "execution_count": null,
   "id": "4e6f21f0",
   "metadata": {},
   "outputs": [],
   "source": [
    "s1 = - (collect(Float64, etapa1_est[1,2:4])' * insumos[:, :Costo]);\n",
    "\n",
    "s2 =( (collect(Float64, etapa2_est[1,2:4]))' * collect(Float64, precios[:1, :]) +\n",
    "     (collect(Float64, etapa2_est[2,2:4]))' * collect(Float64, precios[:1, :]) +\n",
    "     (collect(Float64, etapa2_est[3,2:4]))' * collect(Float64, precios[:1, :]))/3\n",
    "obj_est = s1+s2\n",
    "\n",
    "\n",
    "println(\"Utilidad esperada de la solución estocástica: \", s1,\" + \",s2,\" = \" ,obj_est)"
   ]
  },
  {
   "cell_type": "code",
   "execution_count": null,
   "id": "5b15c071",
   "metadata": {},
   "outputs": [],
   "source": []
  },
  {
   "cell_type": "markdown",
   "id": "0ae0d542",
   "metadata": {},
   "source": [
    "## ¿Cómo se compara la solución estocástica con la determinista?\n",
    "\n",
    "### Recordemos la solución determinista:"
   ]
  },
  {
   "cell_type": "code",
   "execution_count": null,
   "id": "bfa5a144",
   "metadata": {},
   "outputs": [],
   "source": [
    "println(\"\\nInsumos solución determinista::\\n\")\n",
    "println(etapa1_det)\n",
    "\n",
    "println(\"\\nProducción planificada:\\n\")\n",
    "println(etapa2_det)"
   ]
  },
  {
   "cell_type": "markdown",
   "id": "4cf3c50b",
   "metadata": {},
   "source": [
    "### Qué se observa?"
   ]
  },
  {
   "cell_type": "code",
   "execution_count": null,
   "id": "1e528011",
   "metadata": {},
   "outputs": [],
   "source": [
    "\n",
    "\n",
    "\n",
    "\n",
    "\n",
    "\n",
    "\n",
    "\n",
    "\n",
    "\n",
    "\n"
   ]
  },
  {
   "cell_type": "markdown",
   "id": "6614b802",
   "metadata": {},
   "source": [
    "### - La solución determinista usa bastante más insumos\n",
    "\n",
    "### - Pero la producción en esa solución es *infactible* para los escenarios de baja y media demanda!"
   ]
  },
  {
   "cell_type": "code",
   "execution_count": null,
   "id": "dfd23935",
   "metadata": {},
   "outputs": [],
   "source": [
    "\n",
    "\n",
    "\n",
    "\n",
    "\n",
    "\n",
    "\n"
   ]
  },
  {
   "cell_type": "markdown",
   "id": "1750d9c1",
   "metadata": {},
   "source": [
    "### Sin embargo, podemos comparar la solución de 1ra etapa de los modelos determinista y estocástico."
   ]
  },
  {
   "cell_type": "markdown",
   "id": "20fa5112",
   "metadata": {},
   "source": [
    "### ¿Cómo?"
   ]
  },
  {
   "cell_type": "code",
   "execution_count": null,
   "id": "2c29f9ac",
   "metadata": {},
   "outputs": [],
   "source": [
    "\n",
    "\n",
    "\n",
    "\n",
    "\n",
    "\n",
    "\n",
    "\n",
    "\n"
   ]
  },
  {
   "cell_type": "markdown",
   "id": "cc46f011",
   "metadata": {},
   "source": [
    "### Hay que evaluar la función objetivo $𝑐^𝑇 𝑥 + 𝐸[𝑄(𝑥, D)]$  para $x^{DET}=$sol. determinista y $x^{EST}=$sol. estocástica."
   ]
  },
  {
   "cell_type": "markdown",
   "id": "0c5ab7a1",
   "metadata": {},
   "source": [
    "### Una manera de hacerlo es resolver otra vez el problema estocástico, pero agregando la restricción $x==x^{DET}$"
   ]
  },
  {
   "cell_type": "code",
   "execution_count": null,
   "id": "21793750",
   "metadata": {},
   "outputs": [],
   "source": [
    "xdet = collect(Float64, etapa1_det[1,2:4]);\n",
    "xm_det = xdet[1];\n",
    "xa_det = xdet[2];\n",
    "xc_det = xdet[3];"
   ]
  },
  {
   "cell_type": "code",
   "execution_count": null,
   "id": "28cd4362",
   "metadata": {},
   "outputs": [],
   "source": [
    "@constraint(model_est, x_m==xm_det) \n",
    "@constraint(model_est, x_a==xa_det) \n",
    "@constraint(model_est, x_c==xc_det) \n",
    "optimize!(model_est);"
   ]
  },
  {
   "cell_type": "markdown",
   "id": "8af2898b",
   "metadata": {},
   "source": [
    "### Veamos cuál fue la producción *real* correspondiente a la solución de 1ra etapa determinista."
   ]
  },
  {
   "cell_type": "code",
   "execution_count": null,
   "id": "2b3c78e6",
   "metadata": {},
   "outputs": [],
   "source": [
    "scenarios = D[:, [:1]]\n",
    "\n",
    "\n",
    "ye = JuMP.value.(y_e[:])      \n",
    "ym = JuMP.value.(y_m[:])  \n",
    "ys = JuMP.value.(y_s[:])  \n",
    "\n",
    "etapa2_det_real  = DataFrame(Escenario=scenarios[1,1],\n",
    "                       Escritorios=ye[1],\n",
    "                       Mesas=ym[1], \n",
    "                       Sillas=ys[1])\n",
    "for i in 2:ns\n",
    "    push!(etapa2_det_real , [scenarios[i,1]  ye[i]  ym[i] ys[i]])\n",
    "end\n",
    "\n",
    "println(\"\\nInsumos solución determinista:\\n\")\n",
    "println(etapa1_det)\n",
    "\n",
    "println(\"\\nProducción REAL:\\n\")\n",
    "println(etapa2_det_real )\n",
    "\n",
    "\n",
    "\n"
   ]
  },
  {
   "cell_type": "markdown",
   "id": "f9404390",
   "metadata": {},
   "source": [
    "### La producción de silla es fraccionaria! ¿Hace sentido?"
   ]
  },
  {
   "cell_type": "markdown",
   "id": "1eb2576b",
   "metadata": {},
   "source": [
    "### ¿Cómo evitar eso?"
   ]
  },
  {
   "cell_type": "code",
   "execution_count": null,
   "id": "f22fcfc0",
   "metadata": {},
   "outputs": [],
   "source": [
    "\n",
    "\n",
    "\n",
    "\n",
    "\n",
    "\n",
    "\n",
    "\n",
    "\n",
    "\n",
    "\n",
    "\n",
    "\n",
    "\n"
   ]
  },
  {
   "cell_type": "markdown",
   "id": "1e00fa5d",
   "metadata": {},
   "source": [
    "### Hay que agregar restriccciones de *integralidad* a las variables de 2da etapa:"
   ]
  },
  {
   "cell_type": "code",
   "execution_count": null,
   "id": "2d6bdc34",
   "metadata": {},
   "outputs": [],
   "source": [
    "model_int = Model(HiGHS.Optimizer);"
   ]
  },
  {
   "cell_type": "code",
   "execution_count": null,
   "id": "fc2e20e6",
   "metadata": {},
   "outputs": [],
   "source": [
    "@variable(model_int, x_m >= 0);\n",
    "@variable(model_int, x_a >= 0);\n",
    "@variable(model_int, x_c >= 0);\n",
    "@variable(model_int, y_e[i=1:ns] >= 0, integer=true);\n",
    "@variable(model_int, y_m[i=1:ns] >= 0, integer=true);\n",
    "@variable(model_int, y_s[i=1:ns] >= 0, integer=true);\n",
    "@constraint(model_int, [i in 1:ns], x_m >= ins_mad[1]*y_e[i] + ins_mad[2]*y_m[i] + ins_mad[3]*y_s[i])\n",
    "@constraint(model_int, [i in 1:ns], x_a >= ins_aca[1]*y_e[i] + ins_aca[2]*y_m[i] + ins_aca[3]*y_s[i])\n",
    "@constraint(model_int, [i in 1:ns], x_c >= ins_car[1]*y_e[i] + ins_car[2]*y_m[i] + ins_car[3]*y_s[i])\n",
    "@constraint(model_int, [i in 1:ns], y_e[i] <= D[i,2]) \n",
    "@constraint(model_int, [i in 1:ns], y_m[i] <= D[i,3]) \n",
    "@constraint(model_int, [i in 1:ns], y_s[i] <= D[i,4]) \n",
    "@constraint(model_int, x_m==xm_det) \n",
    "@constraint(model_int, x_a==xa_det) \n",
    "@constraint(model_int, x_c==xc_det) \n",
    "@objective(model_int, Max, (1/ns)*sum(p_e*y_e[i]+ p_m*y_m[i]+ p_s*y_s[i] for i in 1:ns)\n",
    "                            - c_m*x_m - c_a*x_a - c_c*x_c);\n",
    "optimize!(model_int);"
   ]
  },
  {
   "cell_type": "markdown",
   "id": "7e3fcda9",
   "metadata": {},
   "source": [
    "### Resultados para el modelo determinista con variables enteras:"
   ]
  },
  {
   "cell_type": "code",
   "execution_count": null,
   "id": "89793a9b",
   "metadata": {},
   "outputs": [],
   "source": [
    "scenarios = D[:, [:1]]\n",
    "\n",
    "\n",
    "ye = JuMP.value.(y_e[:])      \n",
    "ym = JuMP.value.(y_m[:])  \n",
    "ys = JuMP.value.(y_s[:])  \n",
    "\n",
    "etapa2_det_int  = DataFrame(Escenario=scenarios[1,1],\n",
    "                       Escritorios=ye[1],\n",
    "                       Mesas=ym[1], \n",
    "                       Sillas=ys[1])\n",
    "for i in 2:ns\n",
    "    push!(etapa2_det_int , [scenarios[i,1]  ye[i]  ym[i] ys[i]])\n",
    "end\n",
    "\n",
    "println(\"\\nInsumos solución determinista:\\n\")\n",
    "println(etapa1_det)\n",
    "\n",
    "println(\"\\nProducción REAL:\\n\")\n",
    "println(etapa2_det_int )\n",
    "\n",
    "println(\"\\n \\nUtilidad esperada de la solución determinista: = \",objective_value(model_int))\n"
   ]
  },
  {
   "cell_type": "code",
   "execution_count": null,
   "id": "badb1e0c",
   "metadata": {},
   "outputs": [],
   "source": []
  },
  {
   "cell_type": "markdown",
   "id": "c9d1bdf2",
   "metadata": {},
   "source": [
    "### Vemos que la solución estocástica es bastante superior!"
   ]
  },
  {
   "cell_type": "markdown",
   "id": "d61d823f",
   "metadata": {},
   "source": [
    "### La diferencia se llama *Valor de la Solución Estocástica* (VSE)."
   ]
  },
  {
   "cell_type": "markdown",
   "id": "c1139dcf",
   "metadata": {},
   "source": [
    "### Podemos medir el VSE en porcentaje:"
   ]
  },
  {
   "cell_type": "code",
   "execution_count": null,
   "id": "9424e1e6",
   "metadata": {},
   "outputs": [],
   "source": [
    "VSE  = (objective_value(model_est)-objective_value(model_int))/abs(objective_value(model_int))*100\n",
    "println(\"VSE = \",VSE)"
   ]
  },
  {
   "cell_type": "code",
   "execution_count": null,
   "id": "7c0f88db",
   "metadata": {},
   "outputs": [],
   "source": []
  },
  {
   "cell_type": "markdown",
   "id": "dc0905ad",
   "metadata": {},
   "source": [
    "### Podemos repetir el procedimiento de evaluación de soluciones para cualquier solución fija de 1ra etapa."
   ]
  },
  {
   "cell_type": "code",
   "execution_count": null,
   "id": "f65c061b",
   "metadata": {},
   "outputs": [],
   "source": [
    "\n",
    "\n",
    "\n",
    "\n",
    "\n",
    "\n",
    "\n",
    "\n",
    "\n",
    "\n",
    "\n"
   ]
  },
  {
   "cell_type": "markdown",
   "id": "fd2db151",
   "metadata": {},
   "source": [
    "# Resolviendo el problema Dakota con muestreo"
   ]
  },
  {
   "cell_type": "markdown",
   "id": "cf2a866c",
   "metadata": {},
   "source": [
    "## Asumamos que la demanda es Normal con los mismos promedios de antes, y desviación estándar = 15"
   ]
  },
  {
   "cell_type": "markdown",
   "id": "bccc1765",
   "metadata": {},
   "source": [
    "## Utilizaremos $N=30$ muestras de la demanda:"
   ]
  },
  {
   "cell_type": "code",
   "execution_count": null,
   "id": "463371b1",
   "metadata": {},
   "outputs": [],
   "source": [
    "ns = 30"
   ]
  },
  {
   "cell_type": "markdown",
   "id": "1c598c55",
   "metadata": {},
   "source": [
    "### Cálculo de la cota inferior"
   ]
  },
  {
   "cell_type": "code",
   "execution_count": null,
   "id": "0d24cd6f",
   "metadata": {},
   "outputs": [],
   "source": [
    "M = 20\n",
    "Distr_e = Normal(150,15)\n",
    "Distr_m = Normal(125,15)\n",
    "Distr_s = Normal(300,15)\n",
    "\n",
    "v = zeros(M+1)\n",
    "for k in 1:M+1\n",
    "    D = DataFrame(Escenario=1:ns,\n",
    "                  Escritorios=round.(rand(Distr_e, ns)), #Notar la función \"round\" - queremos valores enteros\n",
    "                  Mesas=round.(rand(Distr_m, ns)),\n",
    "                  Sillas=round.(rand(Distr_s, ns)))\n",
    "                  \n",
    "    model_int = Model(HiGHS.Optimizer);\n",
    "    @variable(model_int, x_m >= 0);\n",
    "    @variable(model_int, x_a >= 0);\n",
    "    @variable(model_int, x_c >= 0);\n",
    "    @variable(model_int, y_e[i=1:ns] >= 0, integer=true);\n",
    "    @variable(model_int, y_m[i=1:ns] >= 0, integer=true);\n",
    "    @variable(model_int, y_s[i=1:ns] >= 0, integer=true);\n",
    "    @constraint(model_int, [i in 1:ns], x_m >= ins_mad[1]*y_e[i] + ins_mad[2]*y_m[i] + ins_mad[3]*y_s[i])\n",
    "    @constraint(model_int, [i in 1:ns], x_a >= ins_aca[1]*y_e[i] + ins_aca[2]*y_m[i] + ins_aca[3]*y_s[i])\n",
    "    @constraint(model_int, [i in 1:ns], x_c >= ins_car[1]*y_e[i] + ins_car[2]*y_m[i] + ins_car[3]*y_s[i])\n",
    "    @constraint(model_int, [i in 1:ns], y_e[i] <= D[i,2]) \n",
    "    @constraint(model_int, [i in 1:ns], y_m[i] <= D[i,3]) \n",
    "    @constraint(model_int, [i in 1:ns], y_s[i] <= D[i,4]) \n",
    "    @objective(model_int, Max, (1/ns)*sum(p_e*y_e[i]+ p_m*y_m[i]+ p_s*y_s[i] for i in 1:ns)\n",
    "                                - c_m*x_m - c_a*x_a - c_c*x_c);\n",
    "    optimize!(model_int);   \n",
    "    \n",
    "    v[k] = objective_value(model_int);\n",
    "end\n"
   ]
  },
  {
   "cell_type": "code",
   "execution_count": null,
   "id": "9f7968f4",
   "metadata": {},
   "outputs": [],
   "source": [
    "v"
   ]
  },
  {
   "cell_type": "markdown",
   "id": "720b429d",
   "metadata": {},
   "source": [
    "### Cálculo de la cota superior; tomamos la solución del último problema ($M+1$)"
   ]
  },
  {
   "cell_type": "code",
   "execution_count": null,
   "id": "cd227b9e",
   "metadata": {},
   "outputs": [],
   "source": [
    "etapa1_est = DataFrame(Tipo=\"Insumos\",\n",
    "                     Madera=value(x_m),\n",
    "                     Acabado=value(x_a), \n",
    "                     Carpinteria=value(x_c))\n",
    "                     \n",
    "xfix = collect(Float64, etapa1_est[1,2:4]);\n",
    "xm_fix = xfix[1];\n",
    "xa_fix = xfix[2];\n",
    "xc_fix = xfix[3];\n",
    "\n",
    "D = DataFrame(Escenario=1:ns,\n",
    "              Escritorios=round.(rand(Distr_e, ns)), #Notar la función \"round\" - queremos valores enteros\n",
    "              Mesas=round.(rand(Distr_m, ns)),\n",
    "              Sillas=round.(rand(Distr_s, ns)))\n",
    "\n",
    "model_int = Model(HiGHS.Optimizer);\n",
    "@variable(model_int, x_m >= 0);\n",
    "@variable(model_int, x_a >= 0);\n",
    "@variable(model_int, x_c >= 0);\n",
    "@variable(model_int, y_e[i=1:ns] >= 0, integer=true);\n",
    "@variable(model_int, y_m[i=1:ns] >= 0, integer=true);\n",
    "@variable(model_int, y_s[i=1:ns] >= 0, integer=true);\n",
    "@constraint(model_int, [i in 1:ns], x_m >= ins_mad[1]*y_e[i] + ins_mad[2]*y_m[i] + ins_mad[3]*y_s[i])\n",
    "@constraint(model_int, [i in 1:ns], x_a >= ins_aca[1]*y_e[i] + ins_aca[2]*y_m[i] + ins_aca[3]*y_s[i])\n",
    "@constraint(model_int, [i in 1:ns], x_c >= ins_car[1]*y_e[i] + ins_car[2]*y_m[i] + ins_car[3]*y_s[i])\n",
    "@constraint(model_int, [i in 1:ns], y_e[i] <= D[i,2]) \n",
    "@constraint(model_int, [i in 1:ns], y_m[i] <= D[i,3]) \n",
    "@constraint(model_int, [i in 1:ns], y_s[i] <= D[i,4]) \n",
    "@constraint(model_int, x_m==xm_fix) \n",
    "@constraint(model_int, x_a==xa_fix) \n",
    "@constraint(model_int, x_c==xc_fix) \n",
    "@objective(model_int, Max, (1/ns)*sum(p_e*y_e[i]+ p_m*y_m[i]+ p_s*y_s[i] for i in 1:ns)\n",
    "                            - c_m*x_m - c_a*x_a - c_c*x_c);\n",
    "optimize!(model_int);\n",
    "\n"
   ]
  },
  {
   "cell_type": "code",
   "execution_count": null,
   "id": "c538ddb5",
   "metadata": {},
   "outputs": [],
   "source": [
    "ye = JuMP.value.(y_e[:])      \n",
    "ym = JuMP.value.(y_m[:])  \n",
    "ys = JuMP.value.(y_s[:])  \n",
    "\n",
    "s1 = - (xfix' * insumos[:, :Costo]);\n",
    "p = collect(Float64, precios[:1, :])\n",
    "\n",
    "val2 = [ye[1]  ym[1] ys[1]] * p;\n",
    "for i in 2:ns\n",
    "     u =  ( [ye[i]  ym[i] ys[i]] * p);\n",
    "     val2 = [val2 u];\n",
    "end\n",
    "\n",
    "\n"
   ]
  },
  {
   "cell_type": "code",
   "execution_count": null,
   "id": "38b9f086",
   "metadata": {},
   "outputs": [],
   "source": [
    "val2"
   ]
  },
  {
   "cell_type": "code",
   "execution_count": null,
   "id": "fd93968d",
   "metadata": {},
   "outputs": [],
   "source": [
    "println(\"Solución evaluada:\\n \\n\")\n",
    "etapa1_est = DataFrame(Madera=xm_fix,\n",
    "                       Acabado=xa_fix, \n",
    "                       Carpinteria=xc_fix)\n",
    "\n",
    "println(etapa1_est)"
   ]
  },
  {
   "cell_type": "code",
   "execution_count": null,
   "id": "4187f007",
   "metadata": {},
   "outputs": [],
   "source": [
    "println(\"\\n Limite inferior = \", mean(v[2:M+1])-1.96*std(v[2:M+1])/sqrt(M),\"\\n\")\n",
    "println(\"\\n Limite superior = \",s1+mean(val2)+1.96*std(val2)/sqrt(ns),\"\\n\")"
   ]
  },
  {
   "cell_type": "code",
   "execution_count": null,
   "id": "8e98efd2",
   "metadata": {},
   "outputs": [],
   "source": []
  },
  {
   "cell_type": "code",
   "execution_count": null,
   "id": "403c7666",
   "metadata": {},
   "outputs": [],
   "source": []
  },
  {
   "cell_type": "code",
   "execution_count": null,
   "id": "465b6f6f",
   "metadata": {},
   "outputs": [],
   "source": []
  },
  {
   "cell_type": "code",
   "execution_count": null,
   "id": "1e83781b",
   "metadata": {},
   "outputs": [],
   "source": []
  },
  {
   "cell_type": "code",
   "execution_count": null,
   "id": "3dfac286",
   "metadata": {},
   "outputs": [],
   "source": []
  }
 ],
 "metadata": {
  "kernelspec": {
   "display_name": "Julia 1.8.3",
   "language": "julia",
   "name": "julia-1.8"
  },
  "language_info": {
   "file_extension": ".jl",
   "mimetype": "application/julia",
   "name": "julia",
   "version": "1.8.3"
  },
  "toc": {
   "base_numbering": 1,
   "nav_menu": {},
   "number_sections": true,
   "sideBar": true,
   "skip_h1_title": false,
   "title_cell": "Table of Contents",
   "title_sidebar": "Contents",
   "toc_cell": false,
   "toc_position": {
    "height": "calc(100% - 180px)",
    "left": "10px",
    "top": "150px",
    "width": "474.796875px"
   },
   "toc_section_display": true,
   "toc_window_display": false
  },
  "varInspector": {
   "cols": {
    "lenName": 16,
    "lenType": 16,
    "lenVar": 40
   },
   "kernels_config": {
    "python": {
     "delete_cmd_postfix": "",
     "delete_cmd_prefix": "del ",
     "library": "var_list.py",
     "varRefreshCmd": "print(var_dic_list())"
    },
    "r": {
     "delete_cmd_postfix": ") ",
     "delete_cmd_prefix": "rm(",
     "library": "var_list.r",
     "varRefreshCmd": "cat(var_dic_list()) "
    }
   },
   "types_to_exclude": [
    "module",
    "function",
    "builtin_function_or_method",
    "instance",
    "_Feature"
   ],
   "window_display": false
  }
 },
 "nbformat": 4,
 "nbformat_minor": 5
}
