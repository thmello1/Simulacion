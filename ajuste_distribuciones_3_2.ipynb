{
 "cells": [
  {
   "cell_type": "markdown",
   "id": "f80be1ec",
   "metadata": {
    "jp-MarkdownHeadingCollapsed": true,
    "tags": []
   },
   "source": [
    "# Clase 7: Ajustando distribuciones a los datos - casos especiales"
   ]
  },
  {
   "cell_type": "markdown",
   "id": "3e716e36",
   "metadata": {
    "slideshow": {
     "slide_type": "slide"
    },
    "tags": []
   },
   "source": [
    "Prof. Tito Homem-de-Mello"
   ]
  },
  {
   "cell_type": "code",
   "execution_count": null,
   "id": "a47fdc19",
   "metadata": {},
   "outputs": [],
   "source": [
    "#install.packages('fitdistrplus')\n",
    "#install.packages('gglot2')\n",
    "#install.packages('goft')"
   ]
  },
  {
   "cell_type": "code",
   "execution_count": null,
   "id": "41aefa5f",
   "metadata": {},
   "outputs": [],
   "source": [
    "library(fitdistrplus)\n",
    "library(ggplot2)\n",
    "library(goft)"
   ]
  },
  {
   "cell_type": "code",
   "execution_count": null,
   "id": "1cd63561",
   "metadata": {},
   "outputs": [],
   "source": [
    "plottheme <- theme(plot.title = element_text(size = 20),\n",
    "                  axis.title.y=element_text(size = 20),\n",
    "                  axis.title.x=element_text(size = 20),\n",
    "                  axis.text.y=element_text(size = 15),\n",
    "                  axis.text.x=element_text(size = 15),\n",
    "                  legend.title = element_blank(),\n",
    "                  legend.text = element_text(size=15),\n",
    "                  legend.position = \"bottom\")"
   ]
  },
  {
   "cell_type": "markdown",
   "id": "e05af000",
   "metadata": {},
   "source": [
    "## Miremos un ejemplo con datos de tiempos de preparación de platos"
   ]
  },
  {
   "cell_type": "code",
   "execution_count": null,
   "id": "8085d766",
   "metadata": {
    "tags": []
   },
   "outputs": [],
   "source": [
    "data <- read.csv(\"preparacion.csv\")\n",
    "head(data)"
   ]
  },
  {
   "cell_type": "code",
   "execution_count": null,
   "id": "2a989fc7",
   "metadata": {
    "tags": []
   },
   "outputs": [],
   "source": [
    "X <- data$Service.times"
   ]
  },
  {
   "cell_type": "code",
   "execution_count": null,
   "id": "442b16ff",
   "metadata": {},
   "outputs": [],
   "source": [
    "bin <- 1\n",
    "plotfig <- ggplot(data,aes(X))+plottheme\n",
    " \n",
    "p <- plotfig+geom_histogram(aes(y = after_stat(count /(sum(count)))), binwidth=bin,color=\"black\", fill=\"gray\")+\n",
    "       labs(x=\"tiempo\",\n",
    "            y=\"frecuencia\",\n",
    "            title=paste0(\"Histograma de los datos\"))           \n",
    "p "
   ]
  },
  {
   "cell_type": "markdown",
   "id": "2a7ea70e",
   "metadata": {},
   "source": [
    "## Determinemos la distribución de los datos en cada rango ($<6$, $\\geq 6$)"
   ]
  },
  {
   "cell_type": "code",
   "execution_count": null,
   "id": "06522e29",
   "metadata": {},
   "outputs": [],
   "source": [
    "X1 <- X[X<6]\n",
    "X2 <- X[X>=6]"
   ]
  },
  {
   "cell_type": "code",
   "execution_count": null,
   "id": "8f84fd52",
   "metadata": {},
   "outputs": [],
   "source": [
    "length(X1)\n",
    "length(X2)"
   ]
  },
  {
   "cell_type": "code",
   "execution_count": null,
   "id": "0060a581",
   "metadata": {},
   "outputs": [],
   "source": [
    "bin <- 1\n",
    "plotfig <- ggplot(as.data.frame(X1),aes(X1))+plottheme\n",
    " \n",
    "p <- plotfig+geom_histogram(aes(y = after_stat(count /(sum(count)))), binwidth=bin,color=\"black\", fill=\"gray\")+\n",
    "       labs(x=\"tiempo\",\n",
    "            y=\"frecuencia\",\n",
    "            title=paste0(\"Histograma de X1\"))           \n",
    "p "
   ]
  },
  {
   "cell_type": "code",
   "execution_count": null,
   "id": "b58d8b1d",
   "metadata": {},
   "outputs": [],
   "source": [
    "bin <- 1\n",
    "plotfig <- ggplot(as.data.frame(X2),aes(X2))+plottheme\n",
    " \n",
    "p <- plotfig+geom_histogram(aes(y = after_stat(count /(sum(count)))), binwidth=bin,color=\"black\", fill=\"gray\")+\n",
    "       labs(x=\"tiempo\",\n",
    "            y=\"frecuencia\",\n",
    "            title=paste0(\"Histograma de X2\"))           \n",
    "p "
   ]
  },
  {
   "cell_type": "markdown",
   "id": "bc898e67",
   "metadata": {},
   "source": [
    "### Ajuste para X1"
   ]
  },
  {
   "cell_type": "code",
   "execution_count": null,
   "id": "45c24866",
   "metadata": {},
   "outputs": [],
   "source": [
    "a_norm <- fitdist(X1, \"norm\")\n",
    "summary(a_norm)\n",
    "\n",
    "a_weib <- fitdist(X1, \"weibull\")\n",
    "summary(a_weib)\n",
    "\n",
    "a_gamma <- fitdist(X1, \"gamma\")\n",
    "summary(a_gamma)\n",
    "\n",
    "a_lnorm <- fitdist(X1, \"lnorm\")\n",
    "summary(a_lnorm)\n",
    "\n",
    "plot.legend <- c(\"Normal\", \"Weibull\", \"Gamma\", \"Lognormal\")\n",
    "denscomp(list(a_norm,a_weib,a_gamma,a_lnorm), fitcol=c(2,4,6,1), fitlty=1, legendtext=plot.legend)"
   ]
  },
  {
   "cell_type": "code",
   "execution_count": null,
   "id": "5de40471",
   "metadata": {},
   "outputs": [],
   "source": [
    "ppcomp(list(a_norm,a_lnorm,a_gamma,a_weib))"
   ]
  },
  {
   "cell_type": "code",
   "execution_count": null,
   "id": "1cc7be54",
   "metadata": {},
   "outputs": [],
   "source": [
    "qqcomp(list(a_norm,a_lnorm,a_gamma,a_weib))"
   ]
  },
  {
   "cell_type": "markdown",
   "id": "3e82215b",
   "metadata": {},
   "source": [
    "### Tests estadísticos"
   ]
  },
  {
   "cell_type": "code",
   "execution_count": null,
   "id": "d8137763",
   "metadata": {},
   "outputs": [],
   "source": [
    "gofval <- gofstat(list(a_norm,a_lnorm,a_gamma,a_weib),fitnames=c(\"norm\",\"lnorm\", \"gamma\", \"weib\"))\n",
    "gofval"
   ]
  },
  {
   "cell_type": "markdown",
   "id": "36ae6ba0",
   "metadata": {},
   "source": [
    "### Valores-$p$"
   ]
  },
  {
   "cell_type": "code",
   "execution_count": null,
   "id": "cedc168d",
   "metadata": {},
   "outputs": [],
   "source": [
    "pvalue <- data.frame(Estadistica=\"Valor-p\",Normal=gofval$chisqpvalue[\"norm\"],\n",
    "                     Lognormal=gofval$chisqpvalue[\"lnorm\"],Gamma=gofval$chisqpvalue[\"gamma\"],\n",
    "                     Weibull=gofval$chisqpvalue[\"weib\"])     \n",
    "pvalue"
   ]
  },
  {
   "cell_type": "code",
   "execution_count": null,
   "id": "0e8d4114",
   "metadata": {},
   "outputs": [],
   "source": [
    "ntest <- normal_test(X1) #Use shapiro.test(X) si el nro. de datos no está entre 10 y 400\n",
    "ltest <- lnorm_test(X1)\n",
    "gtest <- gamma_test(X1)\n",
    "wtest <- weibull_test(X1)\n",
    "pvalue<-data.frame(Estadistica=\"Valor-p\",Normal=ntest$p.value,\n",
    "                   Lognormal=ltest$p.value,Gamma=gtest$p.value,Weibull=wtest$p.value)     \n",
    "pvalue"
   ]
  },
  {
   "cell_type": "markdown",
   "id": "059540ec",
   "metadata": {},
   "source": [
    "### Cuál distribución elegimos para X1?"
   ]
  },
  {
   "cell_type": "code",
   "execution_count": null,
   "id": "078bef70",
   "metadata": {},
   "outputs": [],
   "source": [
    "\n",
    "\n",
    "\n",
    "\n",
    "\n",
    "\n",
    "\n",
    "\n",
    "\n",
    "\n",
    "\n",
    "\n",
    "\n",
    "\n",
    "\n",
    "\n",
    "\n"
   ]
  },
  {
   "cell_type": "markdown",
   "id": "f82c6902",
   "metadata": {},
   "source": [
    "### Guardemos los parámetros"
   ]
  },
  {
   "cell_type": "code",
   "execution_count": null,
   "id": "a23ece28",
   "metadata": {},
   "outputs": [],
   "source": [
    "shape1 <- a_weib$estimate[1]\n",
    "scale1 <- a_weib$estimate[2]\n"
   ]
  },
  {
   "cell_type": "markdown",
   "id": "51c09353",
   "metadata": {},
   "source": [
    "### Ajuste para X2"
   ]
  },
  {
   "cell_type": "code",
   "execution_count": null,
   "id": "a93d1cfd",
   "metadata": {},
   "outputs": [],
   "source": [
    "\n",
    "a_norm <- fitdist(X2, \"norm\")\n",
    "summary(a_norm)\n",
    "\n",
    "a_weib <- fitdist(X2, \"weibull\")\n",
    "summary(a_weib)\n",
    "\n",
    "a_gamma <- fitdist(X2, \"gamma\")\n",
    "summary(a_gamma)\n",
    "\n",
    "a_lnorm <- fitdist(X2, \"lnorm\")\n",
    "summary(a_lnorm)\n",
    "\n",
    "plot.legend <- c(\"Normal\", \"Weibull\", \"Gamma\", \"Lognormal\")\n",
    "denscomp(list(a_norm,a_weib,a_gamma,a_lnorm), fitcol=c(2,4,6,1), fitlty=1, legendtext=plot.legend)\n",
    "\n",
    "\n",
    "\n",
    "\n",
    "\n",
    "\n",
    "\n",
    "\n",
    "\n",
    "\n",
    "\n",
    "\n",
    "\n",
    "\n"
   ]
  },
  {
   "cell_type": "code",
   "execution_count": null,
   "id": "76028dd7",
   "metadata": {},
   "outputs": [],
   "source": [
    "ppcomp(list(a_norm,a_lnorm,a_gamma,a_weib))"
   ]
  },
  {
   "cell_type": "code",
   "execution_count": null,
   "id": "772de073",
   "metadata": {},
   "outputs": [],
   "source": [
    "qqcomp(list(a_norm,a_lnorm,a_gamma,a_weib))"
   ]
  },
  {
   "cell_type": "code",
   "execution_count": null,
   "id": "5a6978aa",
   "metadata": {},
   "outputs": [],
   "source": [
    "gofval <- gofstat(list(a_norm,a_lnorm,a_gamma,a_weib),fitnames=c(\"norm\",\"lnorm\", \"gamma\", \"weib\"))\n",
    "gofval"
   ]
  },
  {
   "cell_type": "code",
   "execution_count": null,
   "id": "a146b1ec",
   "metadata": {},
   "outputs": [],
   "source": [
    "pvalue <- data.frame(Estadistica=\"Valor-p\",Normal=gofval$chisqpvalue[\"norm\"],\n",
    "                     Lognormal=gofval$chisqpvalue[\"lnorm\"],Gamma=gofval$chisqpvalue[\"gamma\"],\n",
    "                     Weibull=gofval$chisqpvalue[\"weib\"])     \n",
    "pvalue"
   ]
  },
  {
   "cell_type": "code",
   "execution_count": null,
   "id": "fce36213",
   "metadata": {
    "scrolled": true
   },
   "outputs": [],
   "source": [
    "ntest <- normal_test(X2) #Use shapiro.test(X) si el nro. de datos no está entre 10 y 400\n",
    "ltest <- lnorm_test(X2)\n",
    "gtest <- gamma_test(X2)\n",
    "wtest <- weibull_test(X2)\n",
    "pvalue<-data.frame(Estadistica=\"Valor-p\",Normal=ntest$p.value,\n",
    "                   Lognormal=ltest$p.value,Gamma=gtest$p.value,Weibull=wtest$p.value)     \n",
    "pvalue"
   ]
  },
  {
   "cell_type": "markdown",
   "id": "1c713ebb",
   "metadata": {},
   "source": [
    "### Cuál distribución elegimos para X2?"
   ]
  },
  {
   "cell_type": "code",
   "execution_count": null,
   "id": "67c9cd55",
   "metadata": {},
   "outputs": [],
   "source": [
    "\n",
    "\n",
    "\n",
    "\n",
    "\n",
    "\n",
    "\n",
    "\n",
    "\n",
    "\n",
    "\n",
    "\n",
    "\n",
    "\n",
    "\n",
    "\n",
    "\n",
    "\n",
    "\n"
   ]
  },
  {
   "cell_type": "markdown",
   "id": "6a4ac76d",
   "metadata": {},
   "source": [
    "### Guardemos los parámetros"
   ]
  },
  {
   "cell_type": "code",
   "execution_count": null,
   "id": "665fd568",
   "metadata": {},
   "outputs": [],
   "source": [
    "mu2 <- a_norm$estimate[1]\n",
    "sd2 <- a_norm$estimate[2]\n",
    "\n"
   ]
  },
  {
   "cell_type": "markdown",
   "id": "491caabb",
   "metadata": {},
   "source": [
    "## Generemos muestras de la distribución elegida"
   ]
  },
  {
   "cell_type": "markdown",
   "id": "8c94fffd",
   "metadata": {},
   "source": [
    "### Calculemos la proporción de cada grupo"
   ]
  },
  {
   "cell_type": "code",
   "execution_count": null,
   "id": "970a7514",
   "metadata": {},
   "outputs": [],
   "source": [
    "p1 <- length(X1)/length(X)\n",
    "p2 <- length(X2)/length(X)\n",
    "p1\n",
    "p2"
   ]
  },
  {
   "cell_type": "code",
   "execution_count": null,
   "id": "7eebdec2",
   "metadata": {},
   "outputs": [],
   "source": [
    "\n",
    "\n",
    "\n",
    "\n",
    "\n",
    "\n",
    "\n",
    "\n",
    "\n",
    "\n",
    "\n",
    "\n",
    "\n",
    "\n",
    "\n",
    "\n"
   ]
  },
  {
   "cell_type": "markdown",
   "id": "439546b4",
   "metadata": {},
   "source": [
    "### Generador de la distribución"
   ]
  },
  {
   "cell_type": "code",
   "execution_count": null,
   "id": "9d0c3747",
   "metadata": {},
   "outputs": [],
   "source": [
    "N <- 1000\n",
    "Z <- array(rep(0,N))\n",
    "U <- runif(N,0,1)\n",
    "for (i in 1:N){\n",
    "    if (U[i]<= p1) Z[i] <- rweibull(1,shape1,scale1)\n",
    "    else Z[i] <- rnorm(1,mu2,sd2)\n",
    "}\n",
    "bin <- 1\n",
    "plotfig <- ggplot(as.data.frame(Z),aes(Z))+plottheme\n",
    " \n",
    "p <- plotfig+geom_histogram(aes(y = after_stat(count /(sum(count)))), binwidth=bin,color=\"black\", fill=\"gray\")+\n",
    "       labs(x=\"tiempo\",\n",
    "            y=\"frecuencia\",\n",
    "            title=paste0(\"Histograma de los datos simulados\"))           \n",
    "p "
   ]
  },
  {
   "cell_type": "code",
   "execution_count": null,
   "id": "b5207019",
   "metadata": {},
   "outputs": [],
   "source": [
    "bin <- 1\n",
    "plotfig <- ggplot(data,aes(X))+plottheme\n",
    " \n",
    "p <- plotfig+geom_histogram(aes(y = after_stat(count /(sum(count)))), binwidth=bin,color=\"black\", fill=\"gray\")+\n",
    "       labs(x=\"tiempo\",\n",
    "            y=\"frecuencia\",\n",
    "            title=paste0(\"Histograma de los datos originales\"))           \n",
    "p "
   ]
  },
  {
   "cell_type": "markdown",
   "id": "3d13ac7e",
   "metadata": {},
   "source": [
    "### Comparemos las distribuciones empíricas de los datos originales y los simulados"
   ]
  },
  {
   "cell_type": "code",
   "execution_count": null,
   "id": "e995311d",
   "metadata": {},
   "outputs": [],
   "source": [
    "\n",
    "colors <- c(\"Simulada\" = \"red\", \"Datos\" = \"black\")\n",
    "\n",
    "\n",
    "plotfig+geom_function(fun=ecdf(X), aes(color=\"Datos\"))+\n",
    "        geom_function(fun=ecdf(Z),  aes(color=\"Simulada\"))+\n",
    "        xlim(4,20)+\n",
    "        labs(x=\"x\",y=\"F_N(x)\",\n",
    "             title=paste0(\"Distribución empírica\"),\n",
    "             color=\"Legend\")+\n",
    "        scale_color_manual(values = colors)\n",
    "\n",
    "\n",
    "\n",
    "\n",
    "\n",
    "\n",
    "\n",
    "\n",
    "\n",
    "\n",
    "\n"
   ]
  },
  {
   "cell_type": "code",
   "execution_count": null,
   "id": "e1e8c8a2",
   "metadata": {},
   "outputs": [],
   "source": []
  }
 ],
 "metadata": {
  "kernelspec": {
   "display_name": "R",
   "language": "R",
   "name": "ir"
  },
  "language_info": {
   "codemirror_mode": "r",
   "file_extension": ".r",
   "mimetype": "text/x-r-source",
   "name": "R",
   "pygments_lexer": "r",
   "version": "3.6.3"
  },
  "toc": {
   "base_numbering": 1,
   "nav_menu": {},
   "number_sections": true,
   "sideBar": true,
   "skip_h1_title": false,
   "title_cell": "Table of Contents",
   "title_sidebar": "Contents",
   "toc_cell": false,
   "toc_position": {},
   "toc_section_display": true,
   "toc_window_display": false
  },
  "varInspector": {
   "cols": {
    "lenName": 16,
    "lenType": 16,
    "lenVar": 40
   },
   "kernels_config": {
    "python": {
     "delete_cmd_postfix": "",
     "delete_cmd_prefix": "del ",
     "library": "var_list.py",
     "varRefreshCmd": "print(var_dic_list())"
    },
    "r": {
     "delete_cmd_postfix": ") ",
     "delete_cmd_prefix": "rm(",
     "library": "var_list.r",
     "varRefreshCmd": "cat(var_dic_list()) "
    }
   },
   "position": {
    "height": "234px",
    "left": "1581px",
    "right": "20px",
    "top": "134px",
    "width": "415px"
   },
   "types_to_exclude": [
    "module",
    "function",
    "builtin_function_or_method",
    "instance",
    "_Feature"
   ],
   "window_display": true
  }
 },
 "nbformat": 4,
 "nbformat_minor": 5
}
